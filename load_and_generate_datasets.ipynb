{
 "cells": [
  {
   "cell_type": "code",
   "execution_count": 4,
   "metadata": {},
   "outputs": [],
   "source": [
    "# !pip install transformers\n",
    "# !pip install torch  \n",
    "# !pip install datasets  \n",
    "# !hostname\n",
    "# !pip install --upgrade transformers\n",
    "# !pip install spacy\n",
    "# !pip install ipywidgets\n",
    "# !pip install --upgrade transformers \"numpy<2\" \"pyarrow<14\""
   ]
  },
  {
   "cell_type": "code",
   "execution_count": 5,
   "metadata": {},
   "outputs": [],
   "source": [
    "####\n",
    "# This notebook consists of two main parts:\n",
    "#   1. Loading of the datasets, populating article lengths, crating the prompts and saving to domain_dataset.csv\n",
    "#   2. Generating articles for each model in batches and save results incrementally to domain_dataset_out.csv\n",
    "###"
   ]
  },
  {
   "cell_type": "code",
   "execution_count": 6,
   "metadata": {},
   "outputs": [
    {
     "name": "stdout",
     "output_type": "stream",
     "text": [
      "Sat Dec 28 17:17:23 2024       \n",
      "+-----------------------------------------------------------------------------------------+\n",
      "| NVIDIA-SMI 560.35.03              Driver Version: 560.35.03      CUDA Version: 12.6     |\n",
      "|-----------------------------------------+------------------------+----------------------+\n",
      "| GPU  Name                 Persistence-M | Bus-Id          Disp.A | Volatile Uncorr. ECC |\n",
      "| Fan  Temp   Perf          Pwr:Usage/Cap |           Memory-Usage | GPU-Util  Compute M. |\n",
      "|                                         |                        |               MIG M. |\n",
      "|=========================================+========================+======================|\n",
      "|   0  NVIDIA A100 80GB PCIe          Off |   00000001:00:00.0 Off |                    0 |\n",
      "| N/A   31C    P0             40W /  300W |       1MiB /  81920MiB |      0%      Default |\n",
      "|                                         |                        |             Disabled |\n",
      "+-----------------------------------------+------------------------+----------------------+\n",
      "                                                                                         \n",
      "+-----------------------------------------------------------------------------------------+\n",
      "| Processes:                                                                              |\n",
      "|  GPU   GI   CI        PID   Type   Process name                              GPU Memory |\n",
      "|        ID   ID                                                               Usage      |\n",
      "|=========================================================================================|\n",
      "|  No running processes found                                                             |\n",
      "+-----------------------------------------------------------------------------------------+\n"
     ]
    }
   ],
   "source": [
    "# !nvcc --version\n",
    "!nvidia-smi"
   ]
  },
  {
   "cell_type": "code",
   "execution_count": 7,
   "metadata": {},
   "outputs": [
    {
     "name": "stderr",
     "output_type": "stream",
     "text": [
      "[nltk_data] Downloading package punkt to /home/akp3user/nltk_data...\n",
      "[nltk_data]   Package punkt is already up-to-date!\n"
     ]
    }
   ],
   "source": [
    "import pandas as pd\n",
    "import numpy as np\n",
    "from datasets import load_dataset\n",
    "import nltk\n",
    "from nltk.tokenize import word_tokenize, sent_tokenize\n",
    "import torch\n",
    "import gc\n",
    "from tqdm import tqdm\n",
    "import re\n",
    "import os\n",
    "\n",
    "from transformers import GPT2Tokenizer, GPT2LMHeadModel\n",
    "from transformers import AutoModelForCausalLM, AutoTokenizer\n",
    "from transformers import set_seed\n",
    "\n",
    "from huggingface_hub import notebook_login\n",
    "\n",
    "from PrepareSentenceContext import PrepareSentenceContext\n",
    "\n",
    "nltk.download('punkt')\n",
    "pd.set_option('display.max_columns', None)  # Show all columns\n",
    "set_seed(42)"
   ]
  },
  {
   "cell_type": "code",
   "execution_count": 8,
   "metadata": {},
   "outputs": [
    {
     "name": "stdout",
     "output_type": "stream",
     "text": [
      "PyTorch version: 2.5.1+cu124\n",
      "CUDA is available: True\n",
      "CUDA version: 12.4\n"
     ]
    }
   ],
   "source": [
    "# Check current PyTorch and CUDA availability\n",
    "print(\"PyTorch version:\", torch.__version__)\n",
    "print(\"CUDA is available:\", torch.cuda.is_available())\n",
    "print(\"CUDA version:\", torch.version.cuda)"
   ]
  },
  {
   "cell_type": "code",
   "execution_count": 9,
   "metadata": {},
   "outputs": [],
   "source": [
    "# # notebook_login()\n",
    "# from huggingface_hub import login\n",
    "# login(\"xxxxxxxxxxxxxxxxxxxxxxxxxxxxxx\")"
   ]
  },
  {
   "cell_type": "code",
   "execution_count": 10,
   "metadata": {},
   "outputs": [],
   "source": [
    "##############\n",
    "### Part 1 ###\n",
    "##############"
   ]
  },
  {
   "cell_type": "code",
   "execution_count": 11,
   "metadata": {},
   "outputs": [
    {
     "name": "stdout",
     "output_type": "stream",
     "text": [
      "Index(['id', 'url', 'title', 'title_len', 'prompt', 'human_text', 'human_len',\n",
      "       'gpt', 'gpt_len', 'Llama3.1', 'Llama3.1_len', 'Falcon', 'Falcon_len'],\n",
      "      dtype='object')\n",
      "39495\n"
     ]
    }
   ],
   "source": [
    "# Load the HuggingFace wiki_intro_long dataset\n",
    "hf_wiki_dataset = load_dataset('alonkipnis/wiki-intro-long', split='train')\n",
    "df_wiki = pd.DataFrame(hf_wiki_dataset)\n",
    "\n",
    "# Add columns for Llama2 and Falcon7B model outputs\n",
    "df_wiki['human_len'] = None\n",
    "df_wiki['gpt_len'] = None\n",
    "df_wiki['Llama3.1'], df_wiki['Llama3.1_len'] = None, None\n",
    "df_wiki['Falcon'], df_wiki['Falcon_len'] = None, None\n",
    "\n",
    "df_wiki.rename(columns={\n",
    "    'wiki_intro': 'human_text',\n",
    "    'generated_intro': 'gpt'\n",
    "    }, inplace=True)\n",
    "\n",
    "columns_to_drop = ['prompt_tokens', 'generated_text', 'generated_intro_len']\n",
    "df_wiki.drop(columns=columns_to_drop, inplace=True)\n",
    "\n",
    "new_order = [\n",
    "    'id', 'url', 'title', 'title_len', 'prompt',\n",
    "    'human_text', 'human_len',\n",
    "    'gpt', 'gpt_len',\n",
    "    'Llama3.1', 'Llama3.1_len',\n",
    "    'Falcon', 'Falcon_len']\n",
    "\n",
    "df_wiki = df_wiki[new_order]\n",
    "print(df_wiki.columns)\n",
    "print(df_wiki.shape[0])"
   ]
  },
  {
   "cell_type": "code",
   "execution_count": 12,
   "metadata": {},
   "outputs": [
    {
     "name": "stdout",
     "output_type": "stream",
     "text": [
      "Index(['id', 'highlights', 'prompt', 'human_text', 'human_len', 'gpt',\n",
      "       'gpt_len', 'Llama3.1', 'Llama3.1_len', 'Falcon', 'Falcon_len'],\n",
      "      dtype='object')\n",
      "13025\n"
     ]
    }
   ],
   "source": [
    "# Load the HuggingFace news dataset\n",
    "hf_news_dataset = load_dataset('alonkipnis/news-chatgpt-long', split='train')\n",
    "df_news = pd.DataFrame(hf_news_dataset)\n",
    "\n",
    "df_news.rename(columns={\n",
    "    'article': 'human_text',\n",
    "    'chatgpt': 'gpt'\n",
    "}, inplace=True)\n",
    "\n",
    "df_news['human_len'], df_news['gpt_len'] = None, None\n",
    "df_news['Llama3.1'], df_news['Llama3.1_len'] = None, None\n",
    "df_news['Falcon'], df_news['Falcon_len'] = None, None\n",
    "df_news['prompt'] = None\n",
    "\n",
    "new_order = [\n",
    "    'id', 'highlights', 'prompt',\n",
    "    'human_text', 'human_len',\n",
    "    'gpt', 'gpt_len',\n",
    "    'Llama3.1', 'Llama3.1_len',\n",
    "    'Falcon', 'Falcon_len'\n",
    "]\n",
    "\n",
    "df_news = df_news[new_order]\n",
    "print(df_news.columns)\n",
    "print(df_news.shape[0])"
   ]
  },
  {
   "cell_type": "code",
   "execution_count": 13,
   "metadata": {},
   "outputs": [
    {
     "name": "stdout",
     "output_type": "stream",
     "text": [
      "Index(['title', 'prompt', 'human_text', 'human_len', 'gpt', 'gpt_len',\n",
      "       'Llama3.1', 'Llama3.1_len', 'Falcon', 'Falcon_len'],\n",
      "      dtype='object')\n",
      "10000\n"
     ]
    }
   ],
   "source": [
    "# Load the HuggingFace research absracts dataset\n",
    "hf_abstracts_dataset = load_dataset('NicolaiSivesind/ChatGPT-Research-Abstracts', split='train')\n",
    "df_abstracts = pd.DataFrame(hf_abstracts_dataset)\n",
    "\n",
    "df_abstracts.rename(columns={\n",
    "    'real_abstract': 'human_text',\n",
    "    'real_word_count': 'human_len',\n",
    "    'generated_abstract': 'gpt',\n",
    "    'generated_word_count': 'gpt_len'\n",
    "}, inplace=True)\n",
    "\n",
    "df_abstracts['Llama3.1'], df_abstracts['Llama3.1_len'] = None, None\n",
    "df_abstracts['Falcon'], df_abstracts['Falcon_len'] = None, None\n",
    "df_abstracts['prompt'] = None\n",
    "\n",
    "new_order = [\n",
    "    'title', 'prompt',\n",
    "    'human_text', 'human_len',\n",
    "    'gpt', 'gpt_len',\n",
    "    'Llama3.1', 'Llama3.1_len',\n",
    "    'Falcon', 'Falcon_len'\n",
    "]\n",
    "\n",
    "df_abstracts = df_abstracts[new_order]\n",
    "print(df_abstracts.columns)\n",
    "print(df_abstracts.shape[0])"
   ]
  },
  {
   "cell_type": "code",
   "execution_count": 14,
   "metadata": {},
   "outputs": [],
   "source": [
    "# Defining methods for word/sentence count, prompt generation, model generation \n",
    "\n",
    "def count_words_and_sentences(text):\n",
    "    \"\"\"\n",
    "    Tokenizes the text into words and sentences using nltk \n",
    "    Returns a tuple of (n_words,n_sentences)\n",
    "    \"\"\"\n",
    "    words = word_tokenize(text)\n",
    "    sentences = sent_tokenize(text)\n",
    "    return (len(words), len(sentences))\n",
    "\n",
    "def batch_count_words_and_sentences(texts):\n",
    "    \"\"\"\n",
    "    Tokenizes the text into words and sentences using nltk \n",
    "    Returns a tuple of (n_words,n_sentences)\n",
    "    \"\"\"\n",
    "    return [(len(word_tokenize(text)), len(sent_tokenize(text))) for text in texts]\n",
    "\n",
    "def create_wiki_prompt(row):\n",
    "    \"\"\"\n",
    "    Creates the wiki dataset prompt using the title and first 7 words written by humans\n",
    "    \"\"\"\n",
    "    first_few_words = ' '.join(row['human_text'].split()[:7]) \n",
    "    # base model prompt (non instuct)\n",
    "    # prompt = (\n",
    "    # f\"### | Instruction | ###\\n\"\n",
    "    # f\"Your role is a Wikipedia contributor.\\n\"\n",
    "    # f\"Your task is to compose a detailed Wikipedia-style introduction for the topic '{row['title']}'.\\n\"\n",
    "    # f\"The introduction should be at least {row['human_len'][0]} words long and {row['human_len'][1]} sentences long.\\n\"\n",
    "    # f\"Begin with a clear definition, followed by key details and context essential for understanding the topic.\\n\"\n",
    "    # f\"Do not include headings or editorial notes.\\n\"\n",
    "    # f\"### | Response | ###\\n\"\n",
    "    # f\"{first_few_words} \"\n",
    "    # )\n",
    "    prompt = (\n",
    "    f\"### | Instruction | ###\\n\"\n",
    "    f\"Your role is a Wikipedia contributor.\\n\"\n",
    "    f\"Your task is to compose a detailed Wikipedia-style introduction for the topic '{row['title']}'.\\n\"\n",
    "    f\"The introduction should be approximately {row['human_len'][0]} words and {row['human_len'][1]} sentences.\"\n",
    "    f\"Begin with a clear definition, followed by key details and context essential for understanding the topic.\\n\"\n",
    "    f\"Provide a clean, standalone response without extra instructions or editorial comments.\\n\"\n",
    "    f\"### | Response | ###\\n\"\n",
    "    f\"{first_few_words} \"\n",
    "    )\n",
    "    return prompt\n",
    "\n",
    "def create_news_prompt(row):\n",
    "    \"\"\"\n",
    "    Creates the news dataset prompt using the first 15 words written by humans, and the article highlights\n",
    "    \"\"\"\n",
    "    first_few_words = ' '.join(row['human_text'].split()[:15]) \n",
    "    highlights = row['highlights'] \n",
    "    # base model prompt (non instuct)\n",
    "    # prompt = (\n",
    "    # f\"### | Instruction | ###\\n\"\n",
    "    # f\"Your role is a professional news journalist.\\n\"\n",
    "    # f\"Your task is to write a detailed news article based on the given highlights.\\n\"\n",
    "    # f\"The article should be at least {row['human_len'][0]} words long and {row['human_len'][1]} sentences long.\\n\"\n",
    "    # f\"Incorporate the following key highlights: {highlights}\\n\"\n",
    "    # f\"Begin with the most important details, followed by context and supporting information.\\n\"\n",
    "    # f\"Do not include headings or editorial notes.\\n\"\n",
    "    # f\"### | Response | ###\\n\"\n",
    "    # f\"{first_few_words} \"\n",
    "    # )\n",
    "    prompt = (\n",
    "    f\"### | Instruction | ###\\n\"\n",
    "    f\"Your role is a professional news journalist.\\n\"\n",
    "    f\"Your task is to write a detailed news article based on the given highlights.\\n\"\n",
    "    f\"The article should be at least {row['human_len'][0]} words and {row['human_len'][1]} sentences.\\n\"\n",
    "    f\"Incorporate the following key highlights: {highlights}\\n\"\n",
    "    f\"Begin with the most important details, followed by context and supporting information.\\n\"\n",
    "    f\"Provide a clean, standalone response without extra instructions or editorial comments.\\n\"\n",
    "    f\"### | Response | ###\\n\"\n",
    "    f\"{first_few_words} \"\n",
    "    )\n",
    "    return prompt\n",
    "\n",
    "def create_abstracts_prompt(row):\n",
    "    \"\"\"\n",
    "    Creates the abstracts dataset prompt using the title and first 15 words written by humans\n",
    "    \"\"\"\n",
    "    first_few_words = ' '.join(row['human_text'].split()[:15]) \n",
    "    # base model prompt (non instuct)\n",
    "    # prompt = (\n",
    "    # f\"### | Instruction | ###\\n\"\n",
    "    # f\"Your role is a scientist writing a research abstract for the paper titled '{row['title']}'.\\n\"\n",
    "    # f\"Your task is to write a concise, detailed abstract for this paper.\\n\"\n",
    "    # f\"The abstract should be at least {row['human_len'][0]} words long and {row['human_len'][1]} sentences long.\\n\"\n",
    "    # f\"Begin with a clear statement of the research question or problem, followed by methodology, findings, and implications.\\n\"\n",
    "    # f\"Do not include headings or editorial notes.\\n\"\n",
    "    # f\"### | Response | ###\\n\"\n",
    "    # f\"{first_few_words} \"\n",
    "    # )\n",
    "    prompt = (\n",
    "    f\"### | Instruction | ###\\n\"\n",
    "    f\"Your role is a scientist writing a paper titled '{row['title']}'.\\n\"\n",
    "    f\"Your task is to write a concise, detailed abstract for this paper.\\n\"\n",
    "    f\"The abstract should be at least {row['human_len'][0]} words and {row['human_len'][1]} sentences.\\n\"\n",
    "    f\"Ensure the abstract is comprehensive and provides sufficient detail to reach the specified word and sentence counts.\\n\"\n",
    "    f\"Begin with a clear statement of the research question or problem, followed by methodology, findings and implications.\\n\"\n",
    "    f\"Provide a clean, standalone response without extra instructions or editorial comments.\\n\"\n",
    "    f\"### | Response | ###\\n\"\n",
    "    f\"{first_few_words} \"\n",
    "    )\n",
    "    return prompt\n",
    "\n",
    "def get_length_params(task_type):\n",
    "    if task_type == \"wikipedia\":\n",
    "        return {\"max_length\": 512}  \n",
    "    elif task_type == \"news\":\n",
    "        return {\"max_length\": 1024}  # For longer news articles\n",
    "    elif task_type == \"abstract\":\n",
    "        return {\"max_length\": 512} \n",
    "    else:\n",
    "        return {\"max_length\": 1024} \n",
    "\n",
    "def generate_text_gpt2xl_v2(prompt, model, tokenizer):\n",
    "    inputs = tokenizer(prompt, return_tensors='pt', truncation=True)\n",
    "    output_ids = model.generate(\n",
    "        input_ids=inputs['input_ids'],\n",
    "        attention_mask=inputs['attention_mask'],\n",
    "        max_length=1024,  # Set to the maximum length of the model\n",
    "        num_return_sequences=1\n",
    "    )\n",
    "    generated_text = tokenizer.decode(output_ids[0], skip_special_tokens=True)\n",
    "    n_words, n_sentences = count_words_and_sentences(generated_text)\n",
    "    return generated_text, n_words, n_sentences\n",
    "\n",
    "\n",
    "def generate_text_llama2(prompt, model, tokenizer, max_length=500):\n",
    "    \"\"\"\n",
    "    Encodes the prompt using the model tokenizer\n",
    "    Returns the generated text, word count and sentence count\n",
    "    \"\"\"\n",
    "    inputs = tokenizer(prompt, return_tensors='pt', truncation=True, max_length=max_length)\n",
    "    if torch.cuda.is_available():\n",
    "        inputs = inputs.to('cuda')\n",
    "        model = model.to('cuda')\n",
    "    output_ids = model.generate(\n",
    "        input_ids=inputs['input_ids'], \n",
    "        attention_mask=inputs['attention_mask'],\n",
    "        do_sample=True,       # Enable sampling to generate more diverse responses\n",
    "        # temperature=0.9,    # Slightly randomize the outputs to prevent repetition\n",
    "        # top_k=50,           # Consider top 50 tokens for sampling at each step\n",
    "        # top_p=0.95,          \n",
    "        top_p = 0.9,\n",
    "        num_beams = 5,\n",
    "        temperature=0.7,\n",
    "        num_return_sequences=1\n",
    "    )\n",
    "    generated_text = tokenizer.decode(output_ids[0], skip_special_tokens=True)\n",
    "    start_index = min((generated_text.find(key) for key in [\"Introduction:\", \"Article:\", \"Abstract:\"] if generated_text.find(key) != -1), default=0)\n",
    "    generated_text = generated_text[start_index:].strip()\n",
    "    n_words, n_sentences = count_words_and_sentences(generated_text)\n",
    "    return generated_text, n_words, n_sentences\n",
    "\n",
    "def generate_text_llama3(prompt, model, tokenizer, length_params):\n",
    "    \"\"\"\n",
    "    Encodes the prompt using the model tokenizer\n",
    "    Returns the generated text, word count and sentence count\n",
    "    \"\"\"\n",
    "    inputs = tokenizer(prompt, return_tensors='pt', truncation=True, max_length=512)\n",
    "    if torch.cuda.is_available():\n",
    "        inputs = inputs.to('cuda')\n",
    "        model = model.to('cuda')\n",
    "    output_ids = model.generate(\n",
    "        input_ids=inputs['input_ids'], \n",
    "        attention_mask=inputs['attention_mask'],\n",
    "        num_return_sequences=1,\n",
    "        max_new_tokens=length_params[\"max_length\"],\n",
    "        do_sample=False,      # Enable sampling to generate more diverse responses\n",
    "        # temperature=0.5,    # Slightly randomize the outputs to prevent repetition\n",
    "        # top_k=20,           # Consider top 50 tokens for sampling at each step      \n",
    "        # top_p = 0.9,\n",
    "        num_beams = 5,     # cant run with v100 16gGB\n",
    "        no_repeat_ngram_size=5,\n",
    "        repetition_penalty=1.5,\n",
    "        length_penalty=0.9,\n",
    "        early_stopping=True\n",
    "    )\n",
    "\n",
    "    generated_text = tokenizer.decode(output_ids[0], skip_special_tokens=True)\n",
    "    match = re.search(r\"### \\| Response \\| ###\\s*(.*)\", generated_text, re.DOTALL)\n",
    "    if match:\n",
    "        response_text = match.group(1).strip()\n",
    "    else:\n",
    "        print(\"Response delimiter not found in generated text!\")\n",
    "        response_text = generated_text\n",
    "    n_words, n_sentences = count_words_and_sentences(response_text)\n",
    "    return response_text, n_words, n_sentences\n",
    "\n",
    "def generate_text_falcon(prompt, model, tokenizer, length_params):\n",
    "    \"\"\"\n",
    "    Encodes the prompt using the model tokenizer\n",
    "    Returns the generated text, word count and sentence count\n",
    "    \"\"\"\n",
    "    # Adjust tokenizer padding for decoding\n",
    "    tokenizer.padding_side = 'left'\n",
    "    if tokenizer.pad_token is None:\n",
    "        tokenizer.pad_token = tokenizer.eos_token or '[PAD]'\n",
    "\n",
    "    # encode the prompt\n",
    "    inputs = tokenizer(prompt, return_tensors='pt', padding=True, truncation=True, max_length=512)\n",
    "    if torch.cuda.is_available():\n",
    "        inputs = inputs.to('cuda')\n",
    "        model = model.to('cuda')\n",
    "\n",
    "    output_ids = model.generate(\n",
    "        input_ids=inputs['input_ids'],\n",
    "        attention_mask=inputs['attention_mask'],\n",
    "        max_length=length_params[\"max_length\"], \n",
    "        num_return_sequences=1,\n",
    "        no_repeat_ngram_size=4,\n",
    "        num_beams=5,\n",
    "        early_stopping=True,\n",
    "        do_sample=False,\n",
    "        # top_p=0.9,\n",
    "        # temperature=0.7,\n",
    "    )\n",
    "    \n",
    "    generated_text = tokenizer.decode(output_ids[0], skip_special_tokens=True)\n",
    "    match = re.search(r\"### \\| Response \\| ###\\s*(.*)\", generated_text, re.DOTALL)\n",
    "    if match:\n",
    "        response_text = match.group(1).strip()\n",
    "    else:\n",
    "        print(\"Response delimiter not found in generated text!\")\n",
    "        response_text = generated_text \n",
    "    n_words, n_sentences = count_words_and_sentences(response_text)\n",
    "    return response_text, n_words, n_sentences\n",
    "\n",
    "def generate_text_llama3_batch(prompts, model, tokenizer, length_params):\n",
    "    \"\"\"\n",
    "    Encodes the prompts using the model tokenizer in batches.\n",
    "    Returns the generated text, word count, and sentence count for all prompts in the batch.\n",
    "    \"\"\"\n",
    "    inputs = tokenizer(prompts, return_tensors='pt', padding=True, truncation=True, max_length=512)\n",
    "    if torch.cuda.is_available():\n",
    "        inputs = {key: value.to('cuda') for key, value in inputs.items()}\n",
    "\n",
    "    # Generate output for the batch\n",
    "    output_ids = model.generate(\n",
    "        input_ids=inputs['input_ids'], \n",
    "        attention_mask=inputs['attention_mask'],\n",
    "        num_return_sequences=1,\n",
    "        max_new_tokens=length_params[\"max_length\"],\n",
    "        do_sample=False,\n",
    "        num_beams=5,\n",
    "        no_repeat_ngram_size=5,\n",
    "        repetition_penalty=1.5,\n",
    "        length_penalty=0.9,\n",
    "        early_stopping=True,\n",
    "        temperature=None, \n",
    "        top_p=None         \n",
    "    )\n",
    "    generated_texts = tokenizer.batch_decode(output_ids, skip_special_tokens=True)\n",
    "\n",
    "    # extract the generated sections using regex\n",
    "    response_texts = []\n",
    "    for generated_text in generated_texts:\n",
    "        match = re.search(r\"### \\| Response \\| ###\\s*(.*)\", generated_text, re.DOTALL)\n",
    "        if match:\n",
    "            response_texts.append(match.group(1).strip())\n",
    "        else:\n",
    "            print(\"Response delimiter not found in generated text!\")\n",
    "            response_texts.append(generated_text.strip())\n",
    "    lengths = batch_count_words_and_sentences(response_texts)\n",
    "    return response_texts, lengths\n",
    "\n",
    "def generate_text_falcon_batch(prompts, model, tokenizer, length_params):\n",
    "    \"\"\"\n",
    "    Encodes the prompts using the model tokenizer in batches\n",
    "    Returns the generated text, word count, and sentence count for all prompts in the batch\n",
    "    \"\"\"\n",
    "    inputs = tokenizer(prompts, return_tensors='pt', padding=True, truncation=True, max_length=512)\n",
    "    if torch.cuda.is_available():\n",
    "        inputs = {key: value.to('cuda') for key, value in inputs.items()}\n",
    "    output_ids = model.generate(\n",
    "        input_ids=inputs['input_ids'],\n",
    "        attention_mask=inputs['attention_mask'],\n",
    "        max_length=length_params[\"max_length\"],\n",
    "        num_return_sequences=1,\n",
    "        no_repeat_ngram_size=4,\n",
    "        num_beams=5,\n",
    "        early_stopping=True,\n",
    "        do_sample=False\n",
    "    )\n",
    "    generated_texts = tokenizer.batch_decode(output_ids, skip_special_tokens=True)\n",
    "    response_texts = []\n",
    "    for generated_text in generated_texts:\n",
    "        match = re.search(r\"### \\| Response \\| ###\\s*(.*)\", generated_text, re.DOTALL)\n",
    "        if match:\n",
    "            response_texts.append(match.group(1).strip())\n",
    "        else:\n",
    "            print(\"Response delimiter not found in generated text!\")\n",
    "            response_texts.append(generated_text.strip())\n",
    "\n",
    "    lengths = batch_count_words_and_sentences(response_texts)\n",
    "    return response_texts, lengths\n",
    "\n",
    "\n",
    "def process_dataset_in_batches(df, model, tokenizer, batch_size, length_params, model_name, generate_method, output_path, checkpoint_path, target_rows):\n",
    "    \"\"\"\n",
    "    Process the dataset in batches and save results incrementally.\n",
    "    Supports resuming from a checkpoint and ensures each model processes up to target rows considering already generated rows.\n",
    "    \"\"\"\n",
    "    # Initialize \n",
    "    processed_count = 0\n",
    "    start_index = 0\n",
    "\n",
    "    # output file\n",
    "    if not os.path.exists(output_path):\n",
    "        df.to_csv(output_path, index=False, encoding=\"utf-8-sig\")\n",
    "    output_df = pd.read_csv(output_path)\n",
    "    if model_name not in output_df.columns:\n",
    "        output_df[model_name] = None  # Initialize the column if it doesn't exist\n",
    "    output_df[model_name] = output_df[model_name].astype(object)  # Explicitly set as object type\n",
    "\n",
    "    length_column = f\"{model_name}_len\"\n",
    "    if length_column not in output_df.columns:\n",
    "        output_df[length_column] = None  # Initialize the column if it doesn't exist\n",
    "    output_df[length_column] = output_df[length_column].astype(object) \n",
    "\n",
    "    # check how many rows within the first `target_rows` indices were generated\n",
    "    first_target_indices = output_df.index[:target_rows] \n",
    "    processed_rows = output_df.loc[first_target_indices, model_name].notna()\n",
    "    processed_count = processed_rows.sum()\n",
    "    print(f\"{processed_count} out of {target_rows} rows already generated for {model_name}.\")\n",
    "\n",
    "    # rows that need to be generated\n",
    "    remaining_to_target = max(0, target_rows - processed_count)\n",
    "    unprocessed_indices = output_df[output_df[model_name].isna()].index[:remaining_to_target]\n",
    "    rows_to_generate = unprocessed_indices[:remaining_to_target]\n",
    "    \n",
    "    if remaining_to_target == 0:\n",
    "        print(f\"Target of {target_rows} rows already reached for {model_name}. Skipping further processing.\")\n",
    "        return\n",
    "    rows_to_generate = rows_to_generate[:remaining_to_target]\n",
    "\n",
    "    # total batches for progress tracking\n",
    "    total_batches = (len(unprocessed_indices) + batch_size - 1) // batch_size\n",
    "\n",
    "    # generate in batches\n",
    "    with tqdm(total=total_batches, desc=f\"Generating {model_name}\", unit=\"batch\") as pbar:\n",
    "        for batch_start in range(0, len(rows_to_generate), batch_size):\n",
    "            batch_indices = rows_to_generate[batch_start:batch_start + batch_size]\n",
    "            batch_df = df.loc[batch_indices].reset_index(drop=True)\n",
    "\n",
    "            # Generate text\n",
    "            prompts = batch_df['prompt'].tolist()\n",
    "            generated_texts, lengths = generate_method(prompts, model, tokenizer, length_params)\n",
    "\n",
    "            # insert to df\n",
    "            for i, (text, length) in enumerate(zip(generated_texts, lengths)):\n",
    "                output_df.loc[batch_indices[i], model_name] = text\n",
    "                output_df.loc[batch_indices[i], length_column] = str(length)\n",
    "\n",
    "            # save\n",
    "            processed_count += len(batch_indices)\n",
    "            with open(checkpoint_path, 'w') as f_ckpt:\n",
    "                f_ckpt.write(str(processed_count))\n",
    "            output_df.to_csv(output_path, index=False, encoding=\"utf-8-sig\")\n",
    "            \n",
    "            pbar.update(1)\n",
    "            print(f\"Processed batch of {len(batch_indices)} rows. Total processed: {processed_count}.\")\n",
    "        torch.cuda.empty_cache()\n",
    "        gc.collect()\n",
    "\n",
    "def batch_generator(df, batch_size, start_index=0):\n",
    "    \"\"\"\n",
    "    Splits the DataFrame into batches starting from `start_index`\n",
    "    Yields (start_index, batch_df) for each batch\n",
    "    \"\"\"\n",
    "    for i in range(start_index, len(df), batch_size):\n",
    "        yield i, df.iloc[i:i + batch_size]\n",
    "\n",
    "def clear_gpu_memory(model, tokenizer):\n",
    "    del model\n",
    "    del tokenizer\n",
    "    torch.cuda.empty_cache()\n",
    "    gc.collect()"
   ]
  },
  {
   "cell_type": "code",
   "execution_count": 15,
   "metadata": {},
   "outputs": [],
   "source": [
    "# populate length of human text with tuple(word_count, sentence_count)\n",
    "df_wiki['human_len'] = batch_count_words_and_sentences(df_wiki['human_text'].tolist())\n",
    "df_news['human_len'] = batch_count_words_and_sentences(df_news['human_text'].tolist())\n",
    "df_abstracts['human_len'] = batch_count_words_and_sentences(df_abstracts['human_text'].tolist())"
   ]
  },
  {
   "cell_type": "code",
   "execution_count": 16,
   "metadata": {},
   "outputs": [],
   "source": [
    "# populate length of GPT text with tuple(word_count, sentence_count)\n",
    "df_wiki['gpt_len'] = batch_count_words_and_sentences(df_wiki['gpt'].tolist())\n",
    "df_news['gpt_len'] = batch_count_words_and_sentences(df_news['gpt'].tolist())\n",
    "df_abstracts['gpt_len'] = batch_count_words_and_sentences(df_abstracts['gpt'].tolist())"
   ]
  },
  {
   "cell_type": "code",
   "execution_count": 17,
   "metadata": {},
   "outputs": [],
   "source": [
    "# create prompts\n",
    "df_wiki['prompt'] = df_wiki.iloc[0:2500].apply(create_wiki_prompt, axis=1)\n",
    "df_news['prompt'] = df_news.iloc[0:2500].apply(create_news_prompt, axis=1)\n",
    "df_abstracts['prompt'] = df_abstracts.iloc[0:2500].apply(create_abstracts_prompt, axis=1)"
   ]
  },
  {
   "cell_type": "code",
   "execution_count": 18,
   "metadata": {},
   "outputs": [],
   "source": [
    "# save loaded datasets\n",
    "df_wiki[0:2500].to_csv('src/wiki_dataset.csv', index=False, encoding=\"utf-8-sig\")\n",
    "df_news[0:2500].to_csv('src/news_dataset.csv', index=False, encoding=\"utf-8-sig\")\n",
    "df_abstracts[0:2500].to_csv('src/abstracts_dataset.csv', index=False, encoding=\"utf-8-sig\")"
   ]
  },
  {
   "cell_type": "code",
   "execution_count": 19,
   "metadata": {},
   "outputs": [],
   "source": [
    "##############\n",
    "### Part 2 ###\n",
    "##############"
   ]
  },
  {
   "cell_type": "code",
   "execution_count": 20,
   "metadata": {},
   "outputs": [
    {
     "name": "stdout",
     "output_type": "stream",
     "text": [
      "Wikipedia - Average sentences: 9.162501582478795\n",
      "Wikipedia - Median sentences: 9.0\n",
      "Wikipedia - Minimum sentences: 1\n",
      "Wikipedia - Maximum sentences: 71\n",
      "News - Average sentences: 22.985335892514396\n",
      "News - Median sentences: 22.0\n",
      "News - Minimum sentences: 9\n",
      "News - Maximum sentences: 126\n",
      "Abstracts - Average sentences: 8.0332\n",
      "Abstracts - Median sentences: 8.0\n",
      "Abstracts - Minimum sentences: 1\n",
      "Abstracts - Maximum sentences: 35\n"
     ]
    }
   ],
   "source": [
    "# domain articles length stats for tuning max length generation \n",
    "def calc_sentence_stats(df, task_name):\n",
    "    sentence_counts = [t[1] for t in df['human_len']]\n",
    "    avg_sentences = pd.Series(sentence_counts).mean()\n",
    "    median_sentences = pd.Series(sentence_counts).median()\n",
    "    min_sentences = pd.Series(sentence_counts).min()\n",
    "    max_sentences = pd.Series(sentence_counts).max()\n",
    "    \n",
    "    print(f\"{task_name} - Average sentences: {avg_sentences}\")\n",
    "    print(f\"{task_name} - Median sentences: {median_sentences}\")\n",
    "    print(f\"{task_name} - Minimum sentences: {min_sentences}\")\n",
    "    print(f\"{task_name} - Maximum sentences: {max_sentences}\")\n",
    "\n",
    "calc_sentence_stats(df_wiki, 'Wikipedia')\n",
    "calc_sentence_stats(df_news, 'News')\n",
    "calc_sentence_stats(df_abstracts, 'Abstracts')"
   ]
  },
  {
   "cell_type": "code",
   "execution_count": 21,
   "metadata": {
    "scrolled": true
   },
   "outputs": [],
   "source": [
    "# #### Toy example to test llama3.1 8B model and tokenizer\n",
    "\n",
    "# tokenizer = AutoTokenizer.from_pretrained(\"meta-llama/Meta-Llama-3.1-8B\")\n",
    "# model = AutoModelForCausalLM.from_pretrained(\"meta-llama/Meta-Llama-3.1-8B\")\n",
    "# # model = model.half() # required for 16GB gpu (8B 32float = 32gb) so reduce to 16float\n",
    "# if torch.cuda.is_available():\n",
    "#     model.cuda()  \n",
    "# model.eval()\n",
    "\n",
    "# prompt = (\n",
    "#     f\"Your role is a Wikipedia contributor. \"\n",
    "#     f\"Compose a Wikipedia-style introduction for the topic 'Moluccans'. \"\n",
    "#     f\"Start with a clear definition, followed by key details and context that is essential for understanding the subject. \"\n",
    "#     f\"Ensure the introduction is detailed and spans approximately 11 sentences long. \"\n",
    "#     f\"Introduction: Moluccans are the Austronesian-speaking and Papuan-speaking ethnic\"\n",
    "# )\n",
    "\n",
    "# inputs = tokenizer(prompt, return_tensors='pt', truncation=True, max_length=4096)\n",
    "# if torch.cuda.is_available():\n",
    "#     inputs = inputs.to('cuda')\n",
    "#     model = model.to('cuda')\n",
    "# output_ids = model.generate(\n",
    "#     input_ids=inputs['input_ids'], \n",
    "#     attention_mask=inputs['attention_mask'],\n",
    "#     do_sample=True,       # Enable sampling to generate more diverse responses\n",
    "#     # temperature=0.9,    # Slightly randomize the outputs to prevent repetition\n",
    "#     # top_k=50,           # Consider top 50 tokens for sampling at each step\n",
    "#     # top_p=0.95,          \n",
    "#     top_p = 0.9,\n",
    "#     # num_beams = 5,\n",
    "#     temperature=0.7,\n",
    "#     num_return_sequences=1,\n",
    "#     max_length = 512\n",
    "# )\n",
    "\n",
    "# generated_text = tokenizer.decode(output_ids[0], skip_special_tokens=True)\n",
    "# start_index = -1\n",
    "# for keyword in [\"Introduction:\", \"Article:\", \"Abstract:\"]:\n",
    "#     start_index = generated_text.find(keyword)\n",
    "#     if start_index != -1:\n",
    "#         start_index += len(keyword)\n",
    "#         break  # Stop once we find a valid keyword\n",
    "\n",
    "# if start_index != -1:\n",
    "#     generated_text = generated_text[start_index:].strip()\n",
    "# else:\n",
    "#     print(\"Keyword not found in generated text!\")\n",
    "\n",
    "# n_words, n_sentences = count_words_and_sentences(generated_text)"
   ]
  },
  {
   "cell_type": "code",
   "execution_count": 22,
   "metadata": {},
   "outputs": [],
   "source": [
    "# ##### Toy example to test model and tokenizer\n",
    "# Load falcon 7B tokenizer and model\n",
    "# tokenizer = AutoTokenizer.from_pretrained(\"tiiuae/falcon-7b\", trust_remote_code=True)\n",
    "# model = AutoModelForCausalLM.from_pretrained(\"tiiuae/falcon-7b\", trust_remote_code=True)\n",
    "# if torch.cuda.is_available():\n",
    "#     model.cuda()  \n",
    "# model.eval()\n",
    "\n",
    "# tokenizer.padding_side = 'left'\n",
    "# if tokenizer.pad_token is None:\n",
    "#     if tokenizer.eos_token:\n",
    "#         tokenizer.pad_token = tokenizer.eos_token\n",
    "#     else:\n",
    "#         tokenizer.add_special_tokens({'pad_token': '[PAD]'})\n",
    "\n",
    "# # Encode the prompt to tensor of input ids\n",
    "# inputs = tokenizer(prompt, return_tensors='pt', padding='max_length', truncation=True, max_length=4096)\n",
    "# if torch.cuda.is_available():\n",
    "#     inputs = inputs.to('cuda')\n",
    "#     model = model.to('cuda')\n",
    "\n",
    "# output_ids = model.generate(\n",
    "#     input_ids=inputs['input_ids'],\n",
    "#     attention_mask=inputs['attention_mask'],\n",
    "#     max_length=4096, \n",
    "#     num_return_sequences=1,\n",
    "#     no_repeat_ngram_size=4,  # Prevents the model from repeating the same 4-gram\n",
    "#     top_p=0.92,\n",
    "#     top_k=50,\n",
    "#     temperature=0.7\n",
    "# )\n",
    "\n",
    "# generated_text = tokenizer.decode(output_ids[0], skip_special_tokens=True) \n",
    "# n_words, n_sentences = count_words_and_sentences(generated_text)\n",
    "\n",
    "# ##### Toy example to test model and tokenizer"
   ]
  },
  {
   "cell_type": "code",
   "execution_count": 23,
   "metadata": {},
   "outputs": [],
   "source": [
    "# Paths for generation\n",
    "wiki_path = \"src/wiki_dataset.csv\"\n",
    "news_path = \"src/news_dataset.csv\"\n",
    "abstracts_path = \"src/abstracts_dataset.csv\"\n",
    "\n",
    "output_wiki = \"src/wiki_dataset_generated.csv\"\n",
    "output_news = \"src/news_dataset_generated.csv\"\n",
    "output_abstracts = \"src/abstracts_dataset_generated.csv\"\n",
    "\n",
    "checkpoint_wiki = \"src/wiki_checkpoint.txt\"\n",
    "checkpoint_news = \"src/news_checkpoint.txt\"\n",
    "checkpoint_abstracts = \"src/abstracts_checkpoint.txt\"\n",
    "\n",
    "# Process datasets for LLaMA 3.1\n",
    "datasets = [\n",
    "    (\"wikipedia\", wiki_path, output_wiki, checkpoint_wiki),\n",
    "    (\"news\", news_path, output_news, checkpoint_news),\n",
    "    (\"abstract\", abstracts_path, output_abstracts, checkpoint_abstracts)\n",
    "]"
   ]
  },
  {
   "cell_type": "code",
   "execution_count": 24,
   "metadata": {},
   "outputs": [
    {
     "data": {
      "application/vnd.jupyter.widget-view+json": {
       "model_id": "868c5a0f7f2346d7952683639ca81200",
       "version_major": 2,
       "version_minor": 0
      },
      "text/plain": [
       "Loading checkpoint shards:   0%|          | 0/4 [00:00<?, ?it/s]"
      ]
     },
     "metadata": {},
     "output_type": "display_data"
    }
   ],
   "source": [
    "# Load Llama 3.1, move to cuda, ensure pad token for tokenizer, define batch size\n",
    "tokenizer = AutoTokenizer.from_pretrained(\"meta-llama/Meta-Llama-3.1-8B-Instruct\")\n",
    "tokenizer.padding_side = \"left\"\n",
    "if tokenizer.pad_token is None:  # Set pad_token to eos_token if not set\n",
    "    tokenizer.pad_token = tokenizer.eos_token\n",
    "model = AutoModelForCausalLM.from_pretrained(\"meta-llama/Meta-Llama-3.1-8B-Instruct\")\n",
    "# model = model.half() # required for 16GB gpu, (8B 32 float = 32gb)\n",
    "if torch.cuda.is_available():\n",
    "    model = model.to('cuda')\n",
    "model.eval()\n",
    "batch_size = 8"
   ]
  },
  {
   "cell_type": "code",
   "execution_count": 25,
   "metadata": {
    "scrolled": true
   },
   "outputs": [
    {
     "name": "stdout",
     "output_type": "stream",
     "text": [
      "Processing wikipedia dataset with Llama 3.1-Instruct\n",
      "0 out of 100 rows already generated for Llama3.1.\n"
     ]
    },
    {
     "name": "stderr",
     "output_type": "stream",
     "text": [
      "Generating Llama3.1:   0%|                                                                                                                                                                                                   | 0/13 [00:00<?, ?batch/s]Setting `pad_token_id` to `eos_token_id`:None for open-end generation.\n",
      "Generating Llama3.1:   8%|██████████████▍                                                                                                                                                                            | 1/13 [01:23<16:45, 83.80s/batch]Setting `pad_token_id` to `eos_token_id`:None for open-end generation.\n"
     ]
    },
    {
     "name": "stdout",
     "output_type": "stream",
     "text": [
      "Processed batch of 8 rows. Total processed: 8.\n"
     ]
    },
    {
     "name": "stderr",
     "output_type": "stream",
     "text": [
      "Generating Llama3.1:  15%|████████████████████████████▊                                                                                                                                                              | 2/13 [02:47<15:19, 83.61s/batch]Setting `pad_token_id` to `eos_token_id`:None for open-end generation.\n"
     ]
    },
    {
     "name": "stdout",
     "output_type": "stream",
     "text": [
      "Processed batch of 8 rows. Total processed: 16.\n"
     ]
    },
    {
     "name": "stderr",
     "output_type": "stream",
     "text": [
      "Generating Llama3.1:  23%|███████████████████████████████████████████▏                                                                                                                                               | 3/13 [04:12<14:03, 84.37s/batch]Setting `pad_token_id` to `eos_token_id`:None for open-end generation.\n"
     ]
    },
    {
     "name": "stdout",
     "output_type": "stream",
     "text": [
      "Processed batch of 8 rows. Total processed: 24.\n"
     ]
    },
    {
     "name": "stderr",
     "output_type": "stream",
     "text": [
      "Generating Llama3.1:  31%|█████████████████████████████████████████████████████████▌                                                                                                                                 | 4/13 [05:36<12:39, 84.39s/batch]Setting `pad_token_id` to `eos_token_id`:None for open-end generation.\n"
     ]
    },
    {
     "name": "stdout",
     "output_type": "stream",
     "text": [
      "Processed batch of 8 rows. Total processed: 32.\n"
     ]
    },
    {
     "name": "stderr",
     "output_type": "stream",
     "text": [
      "Generating Llama3.1:  38%|███████████████████████████████████████████████████████████████████████▉                                                                                                                   | 5/13 [07:01<11:14, 84.36s/batch]Setting `pad_token_id` to `eos_token_id`:None for open-end generation.\n"
     ]
    },
    {
     "name": "stdout",
     "output_type": "stream",
     "text": [
      "Processed batch of 8 rows. Total processed: 40.\n"
     ]
    },
    {
     "name": "stderr",
     "output_type": "stream",
     "text": [
      "Generating Llama3.1:  46%|██████████████████████████████████████████████████████████████████████████████████████▎                                                                                                    | 6/13 [08:25<09:49, 84.23s/batch]Setting `pad_token_id` to `eos_token_id`:None for open-end generation.\n"
     ]
    },
    {
     "name": "stdout",
     "output_type": "stream",
     "text": [
      "Processed batch of 8 rows. Total processed: 48.\n"
     ]
    },
    {
     "name": "stderr",
     "output_type": "stream",
     "text": [
      "Generating Llama3.1:  54%|████████████████████████████████████████████████████████████████████████████████████████████████████▋                                                                                      | 7/13 [09:50<08:26, 84.45s/batch]Setting `pad_token_id` to `eos_token_id`:None for open-end generation.\n"
     ]
    },
    {
     "name": "stdout",
     "output_type": "stream",
     "text": [
      "Processed batch of 8 rows. Total processed: 56.\n"
     ]
    },
    {
     "name": "stderr",
     "output_type": "stream",
     "text": [
      "Generating Llama3.1:  62%|███████████████████████████████████████████████████████████████████████████████████████████████████████████████████                                                                        | 8/13 [11:15<07:03, 84.63s/batch]Setting `pad_token_id` to `eos_token_id`:None for open-end generation.\n"
     ]
    },
    {
     "name": "stdout",
     "output_type": "stream",
     "text": [
      "Processed batch of 8 rows. Total processed: 64.\n"
     ]
    },
    {
     "name": "stderr",
     "output_type": "stream",
     "text": [
      "Generating Llama3.1:  69%|█████████████████████████████████████████████████████████████████████████████████████████████████████████████████████████████████▍                                                         | 9/13 [12:39<05:38, 84.59s/batch]Setting `pad_token_id` to `eos_token_id`:None for open-end generation.\n"
     ]
    },
    {
     "name": "stdout",
     "output_type": "stream",
     "text": [
      "Processed batch of 8 rows. Total processed: 72.\n"
     ]
    },
    {
     "name": "stderr",
     "output_type": "stream",
     "text": [
      "Generating Llama3.1:  77%|███████████████████████████████████████████████████████████████████████████████████████████████████████████████████████████████████████████████                                           | 10/13 [14:05<04:15, 85.00s/batch]Setting `pad_token_id` to `eos_token_id`:None for open-end generation.\n"
     ]
    },
    {
     "name": "stdout",
     "output_type": "stream",
     "text": [
      "Processed batch of 8 rows. Total processed: 80.\n"
     ]
    },
    {
     "name": "stderr",
     "output_type": "stream",
     "text": [
      "Generating Llama3.1:  85%|█████████████████████████████████████████████████████████████████████████████████████████████████████████████████████████████████████████████████████████████▍                            | 11/13 [15:29<02:49, 84.61s/batch]Setting `pad_token_id` to `eos_token_id`:None for open-end generation.\n"
     ]
    },
    {
     "name": "stdout",
     "output_type": "stream",
     "text": [
      "Processed batch of 8 rows. Total processed: 88.\n"
     ]
    },
    {
     "name": "stderr",
     "output_type": "stream",
     "text": [
      "Generating Llama3.1:  92%|███████████████████████████████████████████████████████████████████████████████████████████████████████████████████████████████████████████████████████████████████████████▋              | 12/13 [16:53<01:24, 84.40s/batch]Setting `pad_token_id` to `eos_token_id`:None for open-end generation.\n"
     ]
    },
    {
     "name": "stdout",
     "output_type": "stream",
     "text": [
      "Processed batch of 8 rows. Total processed: 96.\n"
     ]
    },
    {
     "name": "stderr",
     "output_type": "stream",
     "text": [
      "Generating Llama3.1: 100%|██████████████████████████████████████████████████████████████████████████████████████████████████████████████████████████████████████████████████████████████████████████████████████████| 13/13 [17:37<00:00, 81.34s/batch]\n"
     ]
    },
    {
     "name": "stdout",
     "output_type": "stream",
     "text": [
      "Processed batch of 4 rows. Total processed: 100.\n",
      "Processing news dataset with Llama 3.1-Instruct\n",
      "0 out of 100 rows already generated for Llama3.1.\n"
     ]
    },
    {
     "name": "stderr",
     "output_type": "stream",
     "text": [
      "Generating Llama3.1:   0%|                                                                                                                                                                                                   | 0/13 [00:00<?, ?batch/s]Setting `pad_token_id` to `eos_token_id`:None for open-end generation.\n",
      "Generating Llama3.1:   8%|██████████████▎                                                                                                                                                                           | 1/13 [03:56<47:20, 236.69s/batch]Setting `pad_token_id` to `eos_token_id`:None for open-end generation.\n"
     ]
    },
    {
     "name": "stdout",
     "output_type": "stream",
     "text": [
      "Processed batch of 8 rows. Total processed: 8.\n"
     ]
    },
    {
     "name": "stderr",
     "output_type": "stream",
     "text": [
      "Generating Llama3.1:  15%|████████████████████████████▌                                                                                                                                                             | 2/13 [07:54<43:31, 237.45s/batch]Setting `pad_token_id` to `eos_token_id`:None for open-end generation.\n"
     ]
    },
    {
     "name": "stdout",
     "output_type": "stream",
     "text": [
      "Processed batch of 8 rows. Total processed: 16.\n"
     ]
    },
    {
     "name": "stderr",
     "output_type": "stream",
     "text": [
      "Generating Llama3.1:  23%|██████████████████████████████████████████▉                                                                                                                                               | 3/13 [11:48<39:18, 235.88s/batch]Setting `pad_token_id` to `eos_token_id`:None for open-end generation.\n"
     ]
    },
    {
     "name": "stdout",
     "output_type": "stream",
     "text": [
      "Processed batch of 8 rows. Total processed: 24.\n"
     ]
    },
    {
     "name": "stderr",
     "output_type": "stream",
     "text": [
      "Generating Llama3.1:  31%|█████████████████████████████████████████████████████████▏                                                                                                                                | 4/13 [15:41<35:11, 234.62s/batch]Setting `pad_token_id` to `eos_token_id`:None for open-end generation.\n"
     ]
    },
    {
     "name": "stdout",
     "output_type": "stream",
     "text": [
      "Processed batch of 8 rows. Total processed: 32.\n"
     ]
    },
    {
     "name": "stderr",
     "output_type": "stream",
     "text": [
      "Generating Llama3.1:  38%|███████████████████████████████████████████████████████████████████████▌                                                                                                                  | 5/13 [19:38<31:24, 235.57s/batch]Setting `pad_token_id` to `eos_token_id`:None for open-end generation.\n"
     ]
    },
    {
     "name": "stdout",
     "output_type": "stream",
     "text": [
      "Processed batch of 8 rows. Total processed: 40.\n"
     ]
    },
    {
     "name": "stderr",
     "output_type": "stream",
     "text": [
      "Generating Llama3.1:  46%|█████████████████████████████████████████████████████████████████████████████████████▊                                                                                                    | 6/13 [23:36<27:35, 236.47s/batch]Setting `pad_token_id` to `eos_token_id`:None for open-end generation.\n"
     ]
    },
    {
     "name": "stdout",
     "output_type": "stream",
     "text": [
      "Processed batch of 8 rows. Total processed: 48.\n"
     ]
    },
    {
     "name": "stderr",
     "output_type": "stream",
     "text": [
      "Generating Llama3.1:  54%|████████████████████████████████████████████████████████████████████████████████████████████████████▏                                                                                     | 7/13 [27:38<23:48, 238.14s/batch]Setting `pad_token_id` to `eos_token_id`:None for open-end generation.\n"
     ]
    },
    {
     "name": "stdout",
     "output_type": "stream",
     "text": [
      "Processed batch of 8 rows. Total processed: 56.\n"
     ]
    },
    {
     "name": "stderr",
     "output_type": "stream",
     "text": [
      "Generating Llama3.1:  62%|██████████████████████████████████████████████████████████████████████████████████████████████████████████████████▍                                                                       | 8/13 [31:48<20:09, 241.94s/batch]Setting `pad_token_id` to `eos_token_id`:None for open-end generation.\n"
     ]
    },
    {
     "name": "stdout",
     "output_type": "stream",
     "text": [
      "Processed batch of 8 rows. Total processed: 64.\n"
     ]
    },
    {
     "name": "stderr",
     "output_type": "stream",
     "text": [
      "Generating Llama3.1:  69%|████████████████████████████████████████████████████████████████████████████████████████████████████████████████████████████████▊                                                         | 9/13 [35:56<16:15, 243.90s/batch]Setting `pad_token_id` to `eos_token_id`:None for open-end generation.\n"
     ]
    },
    {
     "name": "stdout",
     "output_type": "stream",
     "text": [
      "Processed batch of 8 rows. Total processed: 72.\n"
     ]
    },
    {
     "name": "stderr",
     "output_type": "stream",
     "text": [
      "Generating Llama3.1:  77%|██████████████████████████████████████████████████████████████████████████████████████████████████████████████████████████████████████████████▎                                          | 10/13 [39:54<12:05, 241.89s/batch]Setting `pad_token_id` to `eos_token_id`:None for open-end generation.\n"
     ]
    },
    {
     "name": "stdout",
     "output_type": "stream",
     "text": [
      "Processed batch of 8 rows. Total processed: 80.\n"
     ]
    },
    {
     "name": "stderr",
     "output_type": "stream",
     "text": [
      "Generating Llama3.1:  85%|████████████████████████████████████████████████████████████████████████████████████████████████████████████████████████████████████████████████████████████▌                            | 11/13 [43:50<08:00, 240.08s/batch]Setting `pad_token_id` to `eos_token_id`:None for open-end generation.\n"
     ]
    },
    {
     "name": "stdout",
     "output_type": "stream",
     "text": [
      "Processed batch of 8 rows. Total processed: 88.\n"
     ]
    },
    {
     "name": "stderr",
     "output_type": "stream",
     "text": [
      "Generating Llama3.1:  92%|██████████████████████████████████████████████████████████████████████████████████████████████████████████████████████████████████████████████████████████████████████████▊              | 12/13 [47:46<03:59, 239.03s/batch]Setting `pad_token_id` to `eos_token_id`:None for open-end generation.\n"
     ]
    },
    {
     "name": "stdout",
     "output_type": "stream",
     "text": [
      "Processed batch of 8 rows. Total processed: 96.\n"
     ]
    },
    {
     "name": "stderr",
     "output_type": "stream",
     "text": [
      "Generating Llama3.1: 100%|█████████████████████████████████████████████████████████████████████████████████████████████████████████████████████████████████████████████████████████████████████████████████████████| 13/13 [49:47<00:00, 229.79s/batch]\n"
     ]
    },
    {
     "name": "stdout",
     "output_type": "stream",
     "text": [
      "Processed batch of 4 rows. Total processed: 100.\n",
      "Processing abstract dataset with Llama 3.1-Instruct\n",
      "0 out of 100 rows already generated for Llama3.1.\n"
     ]
    },
    {
     "name": "stderr",
     "output_type": "stream",
     "text": [
      "Generating Llama3.1:   0%|                                                                                                                                                                                                   | 0/13 [00:00<?, ?batch/s]Setting `pad_token_id` to `eos_token_id`:None for open-end generation.\n",
      "Generating Llama3.1:   8%|██████████████▍                                                                                                                                                                            | 1/13 [01:34<18:49, 94.09s/batch]Setting `pad_token_id` to `eos_token_id`:None for open-end generation.\n"
     ]
    },
    {
     "name": "stdout",
     "output_type": "stream",
     "text": [
      "Processed batch of 8 rows. Total processed: 8.\n"
     ]
    },
    {
     "name": "stderr",
     "output_type": "stream",
     "text": [
      "Generating Llama3.1:  15%|████████████████████████████▊                                                                                                                                                              | 2/13 [03:07<17:11, 93.79s/batch]Setting `pad_token_id` to `eos_token_id`:None for open-end generation.\n"
     ]
    },
    {
     "name": "stdout",
     "output_type": "stream",
     "text": [
      "Processed batch of 8 rows. Total processed: 16.\n"
     ]
    },
    {
     "name": "stderr",
     "output_type": "stream",
     "text": [
      "Generating Llama3.1:  23%|███████████████████████████████████████████▏                                                                                                                                               | 3/13 [04:38<15:26, 92.64s/batch]Setting `pad_token_id` to `eos_token_id`:None for open-end generation.\n"
     ]
    },
    {
     "name": "stdout",
     "output_type": "stream",
     "text": [
      "Processed batch of 8 rows. Total processed: 24.\n"
     ]
    },
    {
     "name": "stderr",
     "output_type": "stream",
     "text": [
      "Generating Llama3.1:  31%|█████████████████████████████████████████████████████████▌                                                                                                                                 | 4/13 [06:09<13:46, 91.88s/batch]Setting `pad_token_id` to `eos_token_id`:None for open-end generation.\n"
     ]
    },
    {
     "name": "stdout",
     "output_type": "stream",
     "text": [
      "Processed batch of 8 rows. Total processed: 32.\n"
     ]
    },
    {
     "name": "stderr",
     "output_type": "stream",
     "text": [
      "Generating Llama3.1:  38%|███████████████████████████████████████████████████████████████████████▉                                                                                                                   | 5/13 [07:40<12:11, 91.43s/batch]Setting `pad_token_id` to `eos_token_id`:None for open-end generation.\n"
     ]
    },
    {
     "name": "stdout",
     "output_type": "stream",
     "text": [
      "Processed batch of 8 rows. Total processed: 40.\n"
     ]
    },
    {
     "name": "stderr",
     "output_type": "stream",
     "text": [
      "Generating Llama3.1:  46%|██████████████████████████████████████████████████████████████████████████████████████▎                                                                                                    | 6/13 [09:10<10:37, 91.09s/batch]Setting `pad_token_id` to `eos_token_id`:None for open-end generation.\n"
     ]
    },
    {
     "name": "stdout",
     "output_type": "stream",
     "text": [
      "Processed batch of 8 rows. Total processed: 48.\n"
     ]
    },
    {
     "name": "stderr",
     "output_type": "stream",
     "text": [
      "Generating Llama3.1:  54%|████████████████████████████████████████████████████████████████████████████████████████████████████▋                                                                                      | 7/13 [10:41<09:05, 90.88s/batch]Setting `pad_token_id` to `eos_token_id`:None for open-end generation.\n"
     ]
    },
    {
     "name": "stdout",
     "output_type": "stream",
     "text": [
      "Processed batch of 8 rows. Total processed: 56.\n"
     ]
    },
    {
     "name": "stderr",
     "output_type": "stream",
     "text": [
      "Generating Llama3.1:  62%|███████████████████████████████████████████████████████████████████████████████████████████████████████████████████                                                                        | 8/13 [12:11<07:33, 90.62s/batch]Setting `pad_token_id` to `eos_token_id`:None for open-end generation.\n"
     ]
    },
    {
     "name": "stdout",
     "output_type": "stream",
     "text": [
      "Processed batch of 8 rows. Total processed: 64.\n"
     ]
    },
    {
     "name": "stderr",
     "output_type": "stream",
     "text": [
      "Generating Llama3.1:  69%|█████████████████████████████████████████████████████████████████████████████████████████████████████████████████████████████████▍                                                         | 9/13 [13:42<06:03, 90.88s/batch]Setting `pad_token_id` to `eos_token_id`:None for open-end generation.\n"
     ]
    },
    {
     "name": "stdout",
     "output_type": "stream",
     "text": [
      "Processed batch of 8 rows. Total processed: 72.\n"
     ]
    },
    {
     "name": "stderr",
     "output_type": "stream",
     "text": [
      "Generating Llama3.1:  77%|███████████████████████████████████████████████████████████████████████████████████████████████████████████████████████████████████████████████                                           | 10/13 [15:12<04:31, 90.51s/batch]Setting `pad_token_id` to `eos_token_id`:None for open-end generation.\n"
     ]
    },
    {
     "name": "stdout",
     "output_type": "stream",
     "text": [
      "Processed batch of 8 rows. Total processed: 80.\n"
     ]
    },
    {
     "name": "stderr",
     "output_type": "stream",
     "text": [
      "Generating Llama3.1:  85%|█████████████████████████████████████████████████████████████████████████████████████████████████████████████████████████████████████████████████████████████▍                            | 11/13 [16:43<03:01, 90.73s/batch]Setting `pad_token_id` to `eos_token_id`:None for open-end generation.\n"
     ]
    },
    {
     "name": "stdout",
     "output_type": "stream",
     "text": [
      "Processed batch of 8 rows. Total processed: 88.\n"
     ]
    },
    {
     "name": "stderr",
     "output_type": "stream",
     "text": [
      "Generating Llama3.1:  92%|███████████████████████████████████████████████████████████████████████████████████████████████████████████████████████████████████████████████████████████████████████████▋              | 12/13 [18:14<01:30, 90.85s/batch]Setting `pad_token_id` to `eos_token_id`:None for open-end generation.\n"
     ]
    },
    {
     "name": "stdout",
     "output_type": "stream",
     "text": [
      "Processed batch of 8 rows. Total processed: 96.\n"
     ]
    },
    {
     "name": "stderr",
     "output_type": "stream",
     "text": [
      "Generating Llama3.1: 100%|██████████████████████████████████████████████████████████████████████████████████████████████████████████████████████████████████████████████████████████████████████████████████████████| 13/13 [19:02<00:00, 87.90s/batch]"
     ]
    },
    {
     "name": "stdout",
     "output_type": "stream",
     "text": [
      "Processed batch of 4 rows. Total processed: 100.\n"
     ]
    },
    {
     "name": "stderr",
     "output_type": "stream",
     "text": [
      "\n"
     ]
    }
   ],
   "source": [
    "# Generate Llama 3.1\n",
    "for task_type, input_path, output_path, checkpoint_path in datasets:\n",
    "    print(f\"Processing {task_type} dataset with Llama 3.1-Instruct\")\n",
    "    df = pd.read_csv(input_path)\n",
    "    length_params = get_length_params(task_type)\n",
    "    process_dataset_in_batches(\n",
    "        df, model, tokenizer, batch_size, length_params,\n",
    "        \"Llama3.1\", generate_text_llama3_batch,\n",
    "        output_path, checkpoint_path, target_rows=100\n",
    "    )"
   ]
  },
  {
   "cell_type": "code",
   "execution_count": 26,
   "metadata": {},
   "outputs": [],
   "source": [
    "clear_gpu_memory(model, tokenizer)"
   ]
  },
  {
   "cell_type": "code",
   "execution_count": 27,
   "metadata": {},
   "outputs": [
    {
     "data": {
      "application/vnd.jupyter.widget-view+json": {
       "model_id": "372ba34453ad4ee8a3a7a419e1476bc1",
       "version_major": 2,
       "version_minor": 0
      },
      "text/plain": [
       "Loading checkpoint shards:   0%|          | 0/2 [00:00<?, ?it/s]"
      ]
     },
     "metadata": {},
     "output_type": "display_data"
    }
   ],
   "source": [
    "# Load Falcon 7B tokenizer and model\n",
    "tokenizer = AutoTokenizer.from_pretrained(\"tiiuae/falcon-7b-instruct\")\n",
    "if tokenizer.pad_token is None:\n",
    "    tokenizer.pad_token = tokenizer.eos_token\n",
    "tokenizer.padding_side = \"left\"\n",
    "model = AutoModelForCausalLM.from_pretrained(\"tiiuae/falcon-7b-instruct\")\n",
    "if torch.cuda.is_available():\n",
    "    model = model.to('cuda')\n",
    "model.eval()\n",
    "batch_size = 16"
   ]
  },
  {
   "cell_type": "code",
   "execution_count": 30,
   "metadata": {},
   "outputs": [
    {
     "name": "stdout",
     "output_type": "stream",
     "text": [
      "Processing wikipedia dataset with Falcon-instruct\n",
      "96 out of 100 rows already generated for Falcon.\n"
     ]
    },
    {
     "name": "stderr",
     "output_type": "stream",
     "text": [
      "Generating Falcon:   0%|                                                                                                                                                                                                      | 0/1 [00:00<?, ?batch/s]Setting `pad_token_id` to `eos_token_id`:None for open-end generation.\n",
      "Generating Falcon: 100%|██████████████████████████████████████████████████████████████████████████████████████████████████████████████████████████████████████████████████████████████████████████████████████████████| 1/1 [00:31<00:00, 31.60s/batch]\n"
     ]
    },
    {
     "name": "stdout",
     "output_type": "stream",
     "text": [
      "Processed batch of 4 rows. Total processed: 100.\n",
      "Processing news dataset with Falcon-instruct\n",
      "0 out of 100 rows already generated for Falcon.\n"
     ]
    },
    {
     "name": "stderr",
     "output_type": "stream",
     "text": [
      "Generating Falcon:   0%|                                                                                                                                                                                                      | 0/7 [00:00<?, ?batch/s]Setting `pad_token_id` to `eos_token_id`:None for open-end generation.\n",
      "Generating Falcon:  14%|███████████████████████████                                                                                                                                                                  | 1/7 [04:24<26:29, 264.89s/batch]Setting `pad_token_id` to `eos_token_id`:None for open-end generation.\n"
     ]
    },
    {
     "name": "stdout",
     "output_type": "stream",
     "text": [
      "Processed batch of 16 rows. Total processed: 16.\n"
     ]
    },
    {
     "name": "stderr",
     "output_type": "stream",
     "text": [
      "Generating Falcon:  29%|██████████████████████████████████████████████████████                                                                                                                                       | 2/7 [07:54<19:21, 232.33s/batch]Setting `pad_token_id` to `eos_token_id`:None for open-end generation.\n"
     ]
    },
    {
     "name": "stdout",
     "output_type": "stream",
     "text": [
      "Processed batch of 16 rows. Total processed: 32.\n"
     ]
    },
    {
     "name": "stderr",
     "output_type": "stream",
     "text": [
      "Generating Falcon:  43%|█████████████████████████████████████████████████████████████████████████████████                                                                                                            | 3/7 [12:08<16:09, 242.41s/batch]Setting `pad_token_id` to `eos_token_id`:None for open-end generation.\n"
     ]
    },
    {
     "name": "stdout",
     "output_type": "stream",
     "text": [
      "Processed batch of 16 rows. Total processed: 48.\n"
     ]
    },
    {
     "name": "stderr",
     "output_type": "stream",
     "text": [
      "Generating Falcon:  57%|████████████████████████████████████████████████████████████████████████████████████████████████████████████                                                                                 | 4/7 [15:16<11:02, 220.74s/batch]Setting `pad_token_id` to `eos_token_id`:None for open-end generation.\n"
     ]
    },
    {
     "name": "stdout",
     "output_type": "stream",
     "text": [
      "Processed batch of 16 rows. Total processed: 64.\n"
     ]
    },
    {
     "name": "stderr",
     "output_type": "stream",
     "text": [
      "Generating Falcon:  71%|███████████████████████████████████████████████████████████████████████████████████████████████████████████████████████████████████████                                                      | 5/7 [17:55<06:37, 198.67s/batch]Setting `pad_token_id` to `eos_token_id`:None for open-end generation.\n"
     ]
    },
    {
     "name": "stdout",
     "output_type": "stream",
     "text": [
      "Processed batch of 16 rows. Total processed: 80.\n"
     ]
    },
    {
     "name": "stderr",
     "output_type": "stream",
     "text": [
      "Generating Falcon:  86%|██████████████████████████████████████████████████████████████████████████████████████████████████████████████████████████████████████████████████████████████████                           | 6/7 [22:23<03:41, 221.96s/batch]Setting `pad_token_id` to `eos_token_id`:None for open-end generation.\n"
     ]
    },
    {
     "name": "stdout",
     "output_type": "stream",
     "text": [
      "Processed batch of 16 rows. Total processed: 96.\n"
     ]
    },
    {
     "name": "stderr",
     "output_type": "stream",
     "text": [
      "Generating Falcon: 100%|█████████████████████████████████████████████████████████████████████████████████████████████████████████████████████████████████████████████████████████████████████████████████████████████| 7/7 [22:54<00:00, 196.31s/batch]\n"
     ]
    },
    {
     "name": "stdout",
     "output_type": "stream",
     "text": [
      "Processed batch of 4 rows. Total processed: 100.\n",
      "Processing abstract dataset with Falcon-instruct\n",
      "0 out of 100 rows already generated for Falcon.\n"
     ]
    },
    {
     "name": "stderr",
     "output_type": "stream",
     "text": [
      "Generating Falcon:   0%|                                                                                                                                                                                                               | 0/7 [00:00<?, ?batch/s]Setting `pad_token_id` to `eos_token_id`:None for open-end generation.\n",
      "Generating Falcon:  14%|████████████████████████████▍                                                                                                                                                                          | 1/7 [01:22<08:16, 82.81s/batch]Setting `pad_token_id` to `eos_token_id`:None for open-end generation.\n"
     ]
    },
    {
     "name": "stdout",
     "output_type": "stream",
     "text": [
      "Processed batch of 16 rows. Total processed: 16.\n"
     ]
    },
    {
     "name": "stderr",
     "output_type": "stream",
     "text": [
      "Generating Falcon:  29%|████████████████████████████████████████████████████████▊                                                                                                                                              | 2/7 [02:47<06:59, 83.92s/batch]Setting `pad_token_id` to `eos_token_id`:None for open-end generation.\n"
     ]
    },
    {
     "name": "stdout",
     "output_type": "stream",
     "text": [
      "Processed batch of 16 rows. Total processed: 32.\n"
     ]
    },
    {
     "name": "stderr",
     "output_type": "stream",
     "text": [
      "Generating Falcon:  43%|█████████████████████████████████████████████████████████████████████████████████████▎                                                                                                                 | 3/7 [04:12<05:37, 84.50s/batch]Setting `pad_token_id` to `eos_token_id`:None for open-end generation.\n"
     ]
    },
    {
     "name": "stdout",
     "output_type": "stream",
     "text": [
      "Processed batch of 16 rows. Total processed: 48.\n"
     ]
    },
    {
     "name": "stderr",
     "output_type": "stream",
     "text": [
      "Generating Falcon:  57%|█████████████████████████████████████████████████████████████████████████████████████████████████████████████████▋                                                                                     | 4/7 [05:38<04:14, 84.99s/batch]Setting `pad_token_id` to `eos_token_id`:None for open-end generation.\n"
     ]
    },
    {
     "name": "stdout",
     "output_type": "stream",
     "text": [
      "Processed batch of 16 rows. Total processed: 64.\n"
     ]
    },
    {
     "name": "stderr",
     "output_type": "stream",
     "text": [
      "Generating Falcon:  71%|██████████████████████████████████████████████████████████████████████████████████████████████████████████████████████████████████████████████▏                                                        | 5/7 [07:03<02:50, 85.06s/batch]Setting `pad_token_id` to `eos_token_id`:None for open-end generation.\n"
     ]
    },
    {
     "name": "stdout",
     "output_type": "stream",
     "text": [
      "Processed batch of 16 rows. Total processed: 80.\n"
     ]
    },
    {
     "name": "stderr",
     "output_type": "stream",
     "text": [
      "Generating Falcon:  86%|██████████████████████████████████████████████████████████████████████████████████████████████████████████████████████████████████████████████████████████████████████████▌                            | 6/7 [08:29<01:25, 85.21s/batch]Setting `pad_token_id` to `eos_token_id`:None for open-end generation.\n"
     ]
    },
    {
     "name": "stdout",
     "output_type": "stream",
     "text": [
      "Processed batch of 16 rows. Total processed: 96.\n"
     ]
    },
    {
     "name": "stderr",
     "output_type": "stream",
     "text": [
      "Generating Falcon: 100%|███████████████████████████████████████████████████████████████████████████████████████████████████████████████████████████████████████████████████████████████████████████████████████████████████████| 7/7 [08:46<00:00, 75.19s/batch]"
     ]
    },
    {
     "name": "stdout",
     "output_type": "stream",
     "text": [
      "Processed batch of 4 rows. Total processed: 100.\n"
     ]
    },
    {
     "name": "stderr",
     "output_type": "stream",
     "text": [
      "\n"
     ]
    }
   ],
   "source": [
    "# Generate Falcon\n",
    "for task_type, input_path, output_path, checkpoint_path in datasets:\n",
    "    print(f\"Processing {task_type} dataset with Falcon-instruct\")\n",
    "    df = pd.read_csv(input_path)\n",
    "    length_params = get_length_params(task_type)\n",
    "    process_dataset_in_batches(\n",
    "        df, model, tokenizer, batch_size, length_params,\n",
    "        \"Falcon\", generate_text_falcon_batch,\n",
    "        output_path, checkpoint_path, target_rows=100\n",
    "    )"
   ]
  }
 ],
 "metadata": {
  "kernelspec": {
   "display_name": "Python 3 (ipykernel)",
   "language": "python",
   "name": "python3"
  },
  "language_info": {
   "codemirror_mode": {
    "name": "ipython",
    "version": 3
   },
   "file_extension": ".py",
   "mimetype": "text/x-python",
   "name": "python",
   "nbconvert_exporter": "python",
   "pygments_lexer": "ipython3",
   "version": "3.12.3"
  }
 },
 "nbformat": 4,
 "nbformat_minor": 4
}
