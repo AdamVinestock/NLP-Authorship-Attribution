{
 "cells": [
  {
   "cell_type": "code",
   "execution_count": 2,
   "metadata": {},
   "outputs": [],
   "source": [
    "# import pandas as pd\n",
    "# from SentenceParser import SentenceParser\n",
    "# from PrepareSentenceContext import PrepareSentenceContext\n",
    "# import pandas as pd\n",
    "# from transformers import AutoTokenizer, AutoModelForCausalLM\n",
    "# from PerplexityEvaluator import PerplexityEvaluator\n",
    "# from PrepareSentenceContext import PrepareSentenceContext\n",
    "# from tqdm import tqdm\n",
    "# from many_atomic_detections import generate_responses\n",
    "# from itertools import product\n",
    "\n",
    "import os\n",
    "import pandas as pd\n",
    "import torch\n",
    "from tqdm import tqdm\n",
    "from transformers import AutoTokenizer, AutoModelForCausalLM\n",
    "from PerplexityEvaluator import PerplexityEvaluator\n",
    "from PrepareSentenceContext import PrepareSentenceContext"
   ]
  },
  {
   "cell_type": "code",
   "execution_count": 3,
   "metadata": {},
   "outputs": [],
   "source": [
    "dataset_paths = ['src/wiki_dataset_clean.csv', 'src/news_dataset_clean.csv', 'src/abstract_dataset_clean.csv']\n",
    "# model_names = ['openai-community/gpt2', 'microsoft/phi-2', 'microsoft/Phi-3-mini-4k-instruct', 'tiiuae/falcon-7b']\n",
    "# context_policies = ['previous-3-sentences']\n",
    "\n",
    "model_names = ['openai-community/gpt2']\n",
    "context_policies = ['none']\n",
    "authors = ['human_text', 'Llama3.1_clean']"
   ]
  },
  {
   "cell_type": "code",
   "execution_count": 3,
   "metadata": {},
   "outputs": [],
   "source": [
    "# for ds_path, model_name, context_policy, author in product(dataset_paths, model_names, context_policies, authors):\n",
    "#     generate_responses(ds_path, model_name, context_policy, author)"
   ]
  },
  {
   "cell_type": "code",
   "execution_count": 4,
   "metadata": {},
   "outputs": [],
   "source": [
    "def generate_responses(\n",
    "    input_path, model_name, context_policy, author,\n",
    "    output_dir=\"Responses\", target_rows=100, checkpoint_path=None\n",
    "):\n",
    "    \"\"\"\n",
    "    Generate responses for a dataset row by row, ensuring that the target number of rows from the dataset is processed.\n",
    "\n",
    "    Parameters:\n",
    "    - input_path: Path to the input dataset CSV.\n",
    "    - model_name: Name of the language model for perplexity evaluation.\n",
    "    - context_policy: Context policy to use for sentence processing.\n",
    "    - author_column: Column containing the text to process.\n",
    "    - output_dir: Directory where responses will be saved.\n",
    "    - target_rows: Number of rows from the dataset to process in this run.\n",
    "    - checkpoint_path: Path to save progress for crash recovery.\n",
    "    \"\"\"\n",
    "    # Load input dataset\n",
    "    df = pd.read_csv(input_path)\n",
    "    dataset_name = os.path.basename(input_path).split(\"_\")[0]\n",
    "\n",
    "    # Prepare output file path\n",
    "    if \"/\" in model_name:\n",
    "        lm_name_str = model_name.split(\"/\")[-1]\n",
    "    else:\n",
    "        lm_name_str = model_name\n",
    "    save_path = os.path.join(\n",
    "        output_dir, f\"{dataset_name}_{author}_{context_policy}_{lm_name_str}.csv\"\n",
    "    )\n",
    "    os.makedirs(output_dir, exist_ok=True)\n",
    "\n",
    "    # Load existing responses if file exists\n",
    "    if os.path.exists(save_path):\n",
    "        responses_df = pd.read_csv(save_path)\n",
    "    else:\n",
    "        responses_df = pd.DataFrame(columns=[\"num\", \"length\", \"response\", \"context_length\", \"name\"])\n",
    "\n",
    "    # Initialize model, tokenizer, and utilities\n",
    "    tokenizer = AutoTokenizer.from_pretrained(model_name)\n",
    "    model = AutoModelForCausalLM.from_pretrained(model_name)\n",
    "    device = \"cuda\" if torch.cuda.is_available() else \"cpu\"\n",
    "    model.to(device)\n",
    "    model.eval()\n",
    "\n",
    "    evaluator = PerplexityEvaluator(model, tokenizer)\n",
    "    parser = PrepareSentenceContext(context_policy=context_policy)\n",
    "\n",
    "    # Process rows individually\n",
    "    with tqdm(total=target_rows, desc=\"Processing rows\", unit=\"row\") as pbar:\n",
    "        for idx, row in df.iterrows():\n",
    "            if idx >= target_rows:\n",
    "                break\n",
    "\n",
    "            row_id = row.get(\"id\", idx)  # Use row index as fallback for ID\n",
    "\n",
    "            if row_id in responses_df[\"name\"].unique():\n",
    "                pbar.update(1)\n",
    "                continue\n",
    "\n",
    "            parsed = parser(row[author])\n",
    "\n",
    "            for sentence_num, (sentence, context) in enumerate(zip(parsed[\"text\"], parsed[\"context\"])):\n",
    "                try:\n",
    "                    response = evaluator(sentence, context)\n",
    "                    length = len(sentence.split())\n",
    "                    context_length = len(context.split()) if context else 0\n",
    "\n",
    "                    responses_df = pd.concat([\n",
    "                        responses_df,\n",
    "                        pd.DataFrame({\n",
    "                            \"num\": [sentence_num + 1],\n",
    "                            \"length\": [length],\n",
    "                            \"response\": [response],\n",
    "                            \"context_length\": [context_length],\n",
    "                            \"name\": [row_id]\n",
    "                        })\n",
    "                    ], ignore_index=True)\n",
    "                except Exception as e:\n",
    "                    print(f\"Error processing sentence: {sentence[:50]} -> {e}\")\n",
    "\n",
    "            # Save progress incrementally\n",
    "            if checkpoint_path:\n",
    "                with open(checkpoint_path, \"w\") as f:\n",
    "                    f.write(str(idx + 1))\n",
    "            responses_df.to_csv(save_path, index=False)\n",
    "            pbar.update(1)\n",
    "\n",
    "    print(f\"Finished processing rows. Saved to {save_path}.\")"
   ]
  },
  {
   "cell_type": "code",
   "execution_count": 10,
   "metadata": {},
   "outputs": [
    {
     "name": "stdout",
     "output_type": "stream",
     "text": [
      "Processing dataset: src/wiki_dataset_clean.csv, author: human_text, with LM: microsoft/phi-2\n"
     ]
    },
    {
     "data": {
      "application/vnd.jupyter.widget-view+json": {
       "model_id": "b688afab8ee44a33be12f1377806858e",
       "version_major": 2,
       "version_minor": 0
      },
      "text/plain": [
       "Loading checkpoint shards:   0%|          | 0/2 [00:00<?, ?it/s]"
      ]
     },
     "metadata": {},
     "output_type": "display_data"
    },
    {
     "name": "stderr",
     "output_type": "stream",
     "text": [
      "Processing rows: 100%|██████████| 250/250 [41:46<00:00, 10.03s/row]  \n"
     ]
    },
    {
     "name": "stdout",
     "output_type": "stream",
     "text": [
      "Finished processing rows. Saved to Responses/wiki_human_text_none_phi-2.csv.\n",
      "Processing dataset: src/wiki_dataset_clean.csv, author: Llama3.1_clean, with LM: microsoft/phi-2\n"
     ]
    },
    {
     "data": {
      "application/vnd.jupyter.widget-view+json": {
       "model_id": "0a322773e6c3495fb47c2b920d147c51",
       "version_major": 2,
       "version_minor": 0
      },
      "text/plain": [
       "Loading checkpoint shards:   0%|          | 0/2 [00:00<?, ?it/s]"
      ]
     },
     "metadata": {},
     "output_type": "display_data"
    },
    {
     "name": "stderr",
     "output_type": "stream",
     "text": [
      "Processing rows: 100%|██████████| 250/250 [2:06:06<00:00, 30.27s/row]  \n"
     ]
    },
    {
     "name": "stdout",
     "output_type": "stream",
     "text": [
      "Finished processing rows. Saved to Responses/wiki_Llama3.1_clean_none_phi-2.csv.\n",
      "Processing dataset: src/wiki_dataset_clean.csv, author: Falcon_clean, with LM: microsoft/phi-2\n"
     ]
    },
    {
     "data": {
      "application/vnd.jupyter.widget-view+json": {
       "model_id": "e9c56906fd82410bb2bf7ced7c61b3ae",
       "version_major": 2,
       "version_minor": 0
      },
      "text/plain": [
       "Loading checkpoint shards:   0%|          | 0/2 [00:00<?, ?it/s]"
      ]
     },
     "metadata": {},
     "output_type": "display_data"
    },
    {
     "name": "stderr",
     "output_type": "stream",
     "text": [
      "Processing rows:  12%|█▏        | 29/250 [00:28<06:06,  1.66s/row]WARNING:root:Closing tag without opening in sentence 0: Pamela J. Peters is an Indigenous multimedia <a href=\"https://en.wikipedia.org/wiki/Pamela_J._Peters\" target=\"_blank\" rel=\"noopener noreferrer nofollow\">artist</a>.\n",
      "WARNING:root:Closing tag without opening in sentence 2: Peters was born in 1960 in <a class=\"mw-redirect\" href=\"http://maps.google.com/maps?f=q&amp;hl=en&amp;geocode=&amp;q=Pamela+J.+Peters&amp;t=m&amp;z=18&amp;layer=c&amp;cbll=40.7591,-73.9852&amp;panoid=yWQXQXQkpWQXWQXpWQ&amp;output=embed&amp;hq=1&amp;hnear=New+York%2C+New+York&amp;gl=us&amp;sa=X&amp;ved=2ahUKEwjZqY-v9_v1AhXKXc0KHf9_Bn0Q_AUoAXoECAwQAw&amp;biw=1920&amp; bih=948&amp;dpr=1#maps=1\">New York City</a>.\n",
      "Processing rows:  17%|█▋        | 43/250 [05:41<19:11,  5.56s/row]  WARNING:root:Closing tag without opening in sentence 0: Joseph Marlow (12 December 1854 – 8 <a href=\"https://en.wikipedia.org/wiki/Joseph_Marlow\" title=\"Joseph Marlow\">Joseph Marlow</a>. was born on December 12, 1854.\n",
      "Processing rows:  20%|██        | 51/250 [15:07<2:45:37, 49.94s/row]WARNING:root:Closing tag without opening in sentence 0: Thushari Jayasekera is a Sri Lankan-American actress, <a href=\"https://en.wikipedia.org/wiki/Thushari_Jayasekera\" target=\"_blank\" rel=\"noopener noreferrer\">Wikipedia</a>.\n",
      "Processing rows:  29%|██▉       | 72/250 [25:09<2:06:35, 42.67s/row]WARNING:root:Closing tag without opening in sentence 0: \"Tongues\" is a song by American indie <a href=\"https://en.wikipedia.org/wiki/Sufjan_Stevens\">Sufjan Stevens</a>.\n",
      "WARNING:root:Opening tag without closing in sentence 3: The song's title is a reference to the book of the same name by <i><a href=\"http://www.amazon.com/Tongues-Sufjan-Stevens/ref=sr_1_1?s=books&ie=UTF8&qid=1456475507&sr=1-1&keywords=tongues+sufjan+stevens\">Saul Bellow</a></i>.\n",
      "WARNING:root:Opening tag without closing in sentence 4: The song is a <a class=\"mw-redirect\" href=\"http:/ <i></i>.\n",
      "WARNING:root:Opening tag without closing in sentence 5: <i>\"Tongues\"</i>.\n",
      "WARNING:root:Opening tag without closing in sentence 7: The song peaked at number 11 on the <b>Billboard</b>.\n",
      "WARNING:root:Opening tag without closing in sentence 8: <b><i>Hot 100</i></b>.\n",
      "WARNING:root:Opening tag without closing in sentence 10: The music video for the song was directed by <b></b>.\n",
      "WARNING:root:Opening tag without closing in sentence 14: The lyrics of the song are based on a passage from Bellow's 1964 novel \"<i>The Adventures of Augie March</i>\", in which the main character, Augie March, has a dream in which he is given the power to speak any language he wishes.\n",
      "Processing rows:  30%|███       | 76/250 [25:35<45:31, 15.70s/row]  WARNING:root:Closing tag without opening in sentence 0: Screeb is a small village in south-west <a href=\"https://en.wikipedia.org/wiki/United_Kingdom\">United Kingdom</a>.\n",
      "WARNING:root:Closing tag without opening in sentence 2: The village is located in the county of <span style=\"font-style:italic;\">Devon</span>.\n",
      "Processing rows:  31%|███       | 78/250 [30:00<4:08:19, 86.63s/row]WARNING:root:Closing tag without opening in sentence 1: title=\"This Is Forever (band)\" class=\"mw-redirect\">This Is Forever</a>.\n",
      "WARNING:root:Closing tag without opening in sentence 2: album by <a class=\"new\" href=\"http://www.last.fm/\" title=\"Last.fm\" rel=\"nofollow\">Last.fm</a>.\n",
      "Processing rows:  51%|█████     | 128/250 [49:21<07:01,  3.45s/row]  WARNING:root:Closing tag without opening in sentence 0: English musician Birdy has released four studio <a href=\"https://en.wikipedia.org/wiki/Birdy_(musician)\" target=\"_blank\" rel=\"noopener noreferrer\">albums</a>.\n",
      "WARNING:root:Opening tag without closing in sentence 7: Birdy's third album, \"<i>Beautiful Lies</i>\", was released in September 2015.\n",
      "Processing rows:  62%|██████▏   | 155/250 [51:32<08:15,  5.21s/row]WARNING:root:Closing tag without opening in sentence 0: Spafford is an American jam band that <a href=\"https://en.wikipedia.org/wiki/Spafford_(band)\" target=\"_blank\" rel=\"noopener noreferrer\">formed</a>.\n",
      "Processing rows:  65%|██████▌   | 163/250 [52:42<16:01, 11.05s/row]WARNING:root:Closing tag without opening in sentence 0: The Order of Monfragüe was a Spanish <a href=\"https://en.wikipedia.org/wiki/Order_of_Monfrag%C3%B1e\" target=\"_blank\">military order</a>. founded in the 13th century.\n",
      "WARNING:root:Closing tag without opening in sentence 1: It was named after the town of <a class=\"mw-redirect\" href=\"http://www.monfrague.es/\" target=\"_blank\" title=\"Monfrague\">Monfragué</a>.\n",
      "Processing rows:  67%|██████▋   | 168/250 [53:08<08:27,  6.19s/row]WARNING:root:Closing tag without opening in sentence 0: T.I.M.E. Soundtrack is a studio album by <a href=\"https://en.wikipedia.org/wiki/Timbaland\" target=\"_blank\">Timbaland</a>.\n",
      "Processing rows:  75%|███████▍  | 187/250 [54:51<06:08,  5.84s/row]WARNING:root:Closing tag without opening in sentence 0: \"Hard\" is a song by Barbadian recording <a href=\"https://en.wikipedia.org/wiki/Shakira\">Shakira</a>.\n",
      "WARNING:root:Closing tag without opening in sentence 4: The song was written by Shakira, <a class=\"mw-redirect\" href=\"http://www.allmusic.com/music/shakira-fijacion-oral-vol-1-2005/album-reviews/fijacion_oral_vol_1\" target=\"_blank\" rel=\"noopener noreferrer\" title=\"Shakira - Fijacion Oral Vol 1 (Album Review)\">AllMusic</a>.\n",
      "WARNING:root:Opening tag without closing in sentence 7: The song was produced by <b><a class=\"new\" href=\"/wiki/RedOne.html\" title=\"RedOne\">RedOne</a></b>.\n",
      "Processing rows:  85%|████████▌ | 213/250 [57:45<04:13,  6.86s/row]WARNING:root:Closing tag without opening in sentence 0: Keevin Galbraith (born 1979) attended high school <a href=\"https://en.wikipedia.org/wiki/Keevin_Galbraith\" target=\"_blank\" rel=\"noopener noreferrer\" data-wpel-link=\"external\"></a>.\n",
      "WARNING:root:Closing tag without opening in sentence 1: and college in <span style=\"font-style: italic;\">New York</span>.\n",
      "WARNING:root:Opening tag without closing in sentence 4: He has also written for <i><a href=\"http://www.theatlantic.com/politics/archive/2016/03/kevin-galbraith-how-to-be-a-liberal-in-trump-s-america/\" target=\"_blank\">The Atlantic</a></i>.\n",
      "WARNING:root:Opening tag without closing in sentence 6: In 2016, Galbraith published his first book, '<i>How to Be a Liberal in Trump's America</i>'.\n",
      "Processing rows:  86%|████████▌ | 214/250 [57:47<03:20,  5.58s/row]WARNING:root:Closing tag without opening in sentence 0: Harrow Borough Football Club is an English <a href=\"https://en.wikipedia.org/wiki/Harrow_Borough_F.C.\">football club</a>.\n",
      "WARNING:root:Closing tag without opening in sentence 3: The club currently plays in the <a class=\"mw-redirect\" href=\"http://www.football-lineups.com/england/harrow-borough/\" title=\"Harrow Borough\" rel=\"nofollow\">National League South</a>, the sixth tier of the English football league system.\n",
      "WARNING:root:Closing tag without opening in sentence 4: The club's home ground is the 10,000-capacity <a title=\"Hendon F.C.\" href=\"/wiki/Hendon_FC\">Hendon</a>.\n",
      "Processing rows:  88%|████████▊ | 221/250 [1:00:26<08:48, 18.23s/row]WARNING:root:Closing tag without opening in sentence 0: Reginald Purdell (4 November 1896 – 22 <a href=\"https://en.wikipedia.org/wiki/Reginald_Purdell\" target=\"_blank\" rel=\"noopener noreferrer\">Wikipedia</a>.\n",
      "WARNING:root:Closing tag without opening in sentence 3: </body>.\n",
      "WARNING:root:Closing tag without opening in sentence 4: </html>\n",
      "Processing rows:  97%|█████████▋| 242/250 [1:15:17<08:07, 60.95s/row]WARNING:root:Closing tag without opening in sentence 0: De Broodfabriek is an exhibition and convention <a href=\"https://en.wikipedia.org/wiki/De_Brod_Fabriek\" target=\"_blank\" rel=\"noopener noreferrer\">De Brood Fabriek</a>.\n",
      "Processing rows: 100%|█████████▉| 249/250 [1:20:21<00:49, 49.04s/row]WARNING:root:Closing tag without opening in sentence 0: Halim Malkoč (12 August 1917 – 8 <a href=\"https://en.wikipedia.org/wiki/Halim_Malko%C3%ADc\" target=\"_blank\" rel=\"noopener noreferrer nofollow\">Halim</a>.\n",
      "WARNING:root:Closing tag without opening in sentence 1: <span style=\"font-style: italic;\">Malkoč</span>.\n",
      "Processing rows: 100%|██████████| 250/250 [1:20:24<00:00, 19.30s/row]\n"
     ]
    },
    {
     "name": "stdout",
     "output_type": "stream",
     "text": [
      "Finished processing rows. Saved to Responses/wiki_Falcon_clean_none_phi-2.csv.\n",
      "Processing dataset: src/news_dataset_clean.csv, author: human_text, with LM: microsoft/phi-2\n"
     ]
    },
    {
     "data": {
      "application/vnd.jupyter.widget-view+json": {
       "model_id": "f970988df1e54d35a0e59fe7e6038e7a",
       "version_major": 2,
       "version_minor": 0
      },
      "text/plain": [
       "Loading checkpoint shards:   0%|          | 0/2 [00:00<?, ?it/s]"
      ]
     },
     "metadata": {},
     "output_type": "display_data"
    },
    {
     "name": "stderr",
     "output_type": "stream",
     "text": [
      "Processing rows: 100%|██████████| 250/250 [2:32:29<00:00, 36.60s/row]   \n"
     ]
    },
    {
     "name": "stdout",
     "output_type": "stream",
     "text": [
      "Finished processing rows. Saved to Responses/news_human_text_none_phi-2.csv.\n",
      "Processing dataset: src/news_dataset_clean.csv, author: Llama3.1_clean, with LM: microsoft/phi-2\n"
     ]
    },
    {
     "data": {
      "application/vnd.jupyter.widget-view+json": {
       "model_id": "91f3b876296648b09bea5f603d71847d",
       "version_major": 2,
       "version_minor": 0
      },
      "text/plain": [
       "Loading checkpoint shards:   0%|          | 0/2 [00:00<?, ?it/s]"
      ]
     },
     "metadata": {},
     "output_type": "display_data"
    },
    {
     "name": "stderr",
     "output_type": "stream",
     "text": [
      "Processing rows: 100%|██████████| 250/250 [4:17:45<00:00, 61.86s/row]   \n"
     ]
    },
    {
     "name": "stdout",
     "output_type": "stream",
     "text": [
      "Finished processing rows. Saved to Responses/news_Llama3.1_clean_none_phi-2.csv.\n",
      "Processing dataset: src/news_dataset_clean.csv, author: Falcon_clean, with LM: microsoft/phi-2\n"
     ]
    },
    {
     "data": {
      "application/vnd.jupyter.widget-view+json": {
       "model_id": "95348a27b8c64579b4350e2e8093832d",
       "version_major": 2,
       "version_minor": 0
      },
      "text/plain": [
       "Loading checkpoint shards:   0%|          | 0/2 [00:00<?, ?it/s]"
      ]
     },
     "metadata": {},
     "output_type": "display_data"
    },
    {
     "name": "stderr",
     "output_type": "stream",
     "text": [
      "Processing rows:  24%|██▍       | 61/250 [30:17<3:32:28, 67.45s/row] WARNING:root:Opening tag without closing in sentence 12: The decision to include golf in the <b><i>2016</i></b>.\n",
      "WARNING:root:Opening tag without closing in sentence 20: IGF President Peter Dawson said: <b>\"The IGF is delighted that golf has been reinstated to the Olympic programme.\n",
      "Processing rows:  34%|███▍      | 86/250 [45:07<1:54:08, 41.76s/row] WARNING:root:Opening tag without closing in sentence 2: The sex hormone helps <i>stop blood cells</i>.\n",
      "WARNING:root:Opening tag without closing in sentence 3: sticking to <b><i>artery walls</i></b>.\n",
      "WARNING:root:Opening tag without closing in sentence 4: and forming <i><b>blockages</b></i>.\n",
      "WARNING:root:Opening tag without closing in sentence 5: <b>One in five</b>.\n",
      "WARNING:root:Opening tag without closing in sentence 6: men in Britain <u>die from a heart</u>.\n",
      "WARNING:root:Opening tag without closing in sentence 7: attack compared to <u><b>just one in seven</b></u>.\n",
      "Processing rows:  93%|█████████▎| 233/250 [2:50:43<05:18, 18.74s/row]   WARNING:root:Closing tag without opening in sentence 0: A former top Justice Department official in Arizona leaked an internal memo from a federal <a href=\"https://www.foxnews.com/politics/2021/02/24/federal-agent-who-wrote-memo-on-botched-gun-running-operation-says-he-was-intended-to-undermine-credibility-of-federal-prosecutor-in-arizona-at-the-time/\" target=\"_blank\" rel=\"noopener noreferrer\" data-wpel-link=\"external\"></a>.\n",
      "Processing rows: 100%|██████████| 250/250 [3:10:29<00:00, 45.72s/row] \n"
     ]
    },
    {
     "name": "stdout",
     "output_type": "stream",
     "text": [
      "Finished processing rows. Saved to Responses/news_Falcon_clean_none_phi-2.csv.\n",
      "Processing dataset: src/abstracts_dataset_clean.csv, author: human_text, with LM: microsoft/phi-2\n"
     ]
    },
    {
     "data": {
      "application/vnd.jupyter.widget-view+json": {
       "model_id": "605d602a96a847b1ba3fe92b984a007b",
       "version_major": 2,
       "version_minor": 0
      },
      "text/plain": [
       "Loading checkpoint shards:   0%|          | 0/2 [00:00<?, ?it/s]"
      ]
     },
     "metadata": {},
     "output_type": "display_data"
    },
    {
     "name": "stderr",
     "output_type": "stream",
     "text": [
      "Processing rows: 100%|██████████| 250/250 [2:03:32<00:00, 29.65s/row]  \n"
     ]
    },
    {
     "name": "stdout",
     "output_type": "stream",
     "text": [
      "Finished processing rows. Saved to Responses/abstracts_human_text_none_phi-2.csv.\n",
      "Processing dataset: src/abstracts_dataset_clean.csv, author: Llama3.1_clean, with LM: microsoft/phi-2\n"
     ]
    },
    {
     "data": {
      "application/vnd.jupyter.widget-view+json": {
       "model_id": "53d89037d7ef48c7a17a4df842ee0e3d",
       "version_major": 2,
       "version_minor": 0
      },
      "text/plain": [
       "Loading checkpoint shards:   0%|          | 0/2 [00:00<?, ?it/s]"
      ]
     },
     "metadata": {},
     "output_type": "display_data"
    },
    {
     "name": "stderr",
     "output_type": "stream",
     "text": [
      "Processing rows:  14%|█▎        | 34/250 [10:55<1:12:15, 20.07s/row]WARNING:root:Opening tag without closing in sentence 2: The HFC for <S>.\n",
      "WARNING:root:Opening tag without closing in sentence 3: allows us to define a holomorphic function f on a neighborhood of the spectrum of <S>, denoted by σ(<S>), such that f(<S>) is a bounded linear operator on X.\n",
      "WARNING:root:Opening tag without closing in sentence 8: This homomorphism, denoted by φ, is used to extend the HFC from A to the semigroup <S>.\n",
      "WARNING:root:Opening tag without closing in sentence 9: The main result of this paper is the following theorem: Let f be a holomorphic function on a neighborhood of σ(<S>).\n",
      "WARNING:root:Opening tag without closing in sentence 10: Then there exists a unique bounded linear operator f(<S>) on X such that f(T_i) = φ(f)(T_i) for all i = 1, 2,..., n.\n",
      "WARNING:root:Opening tag without closing in sentence 11: Moreover, f(<S>) satisfies the following properties: (i) f(<S>)\n",
      "WARNING:root:Opening tag without closing in sentence 12: = f(T_1)f(T_2)...f(T_n), (ii) ||f(<S>)||\n",
      "WARNING:root:Opening tag without closing in sentence 13: ≤ sup{|f(z)| : z ∈ σ(<S>)}, and (iii) if f is invertible, then f(<S>)^(-1) = f^(-1)(<S>).\n",
      "WARNING:root:Opening tag without closing in sentence 14: The proof of this theorem relies on a careful analysis of the properties of the homomorphism φ and the behavior of holomorphic functions on neighborhoods of σ(<S>).\n",
      "Processing rows: 100%|██████████| 250/250 [2:21:20<00:00, 33.92s/row]   \n"
     ]
    },
    {
     "name": "stdout",
     "output_type": "stream",
     "text": [
      "Finished processing rows. Saved to Responses/abstracts_Llama3.1_clean_none_phi-2.csv.\n",
      "Processing dataset: src/abstracts_dataset_clean.csv, author: Falcon_clean, with LM: microsoft/phi-2\n"
     ]
    },
    {
     "data": {
      "application/vnd.jupyter.widget-view+json": {
       "model_id": "017320338bb14080bfd357ce3d8e105e",
       "version_major": 2,
       "version_minor": 0
      },
      "text/plain": [
       "Loading checkpoint shards:   0%|          | 0/2 [00:00<?, ?it/s]"
      ]
     },
     "metadata": {},
     "output_type": "display_data"
    },
    {
     "name": "stderr",
     "output_type": "stream",
     "text": [
      "Processing rows:   7%|▋         | 17/250 [06:51<37:22,  9.62s/row]  WARNING:root:Opening tag without closing in sentence 1: <br><br>.\n",
      "WARNING:root:Opening tag without closing in sentence 2: The story begins with a simple question: \"What is a monad?\"<br>.\n",
      "Processing rows:  20%|█▉        | 49/250 [15:08<33:38, 10.04s/row]  WARNING:root:Closing tag without opening in sentence 0: MOSARIX is a collaborative project between three research group in Sorbonne University to build a <a href=\"https://en.wikipedia.org/wiki/Magnetic_resonance_spectroscopy\" target=\"_blank\">Magnetic Resonance Spectroscopy</a>.\n",
      "Processing rows: 100%|██████████| 250/250 [57:03<00:00, 13.70s/row]  \n"
     ]
    },
    {
     "name": "stdout",
     "output_type": "stream",
     "text": [
      "Finished processing rows. Saved to Responses/abstracts_Falcon_clean_none_phi-2.csv.\n"
     ]
    }
   ],
   "source": [
    "model_name = 'microsoft/phi-2'\n",
    "datasets = [\n",
    "    \"src/wiki_dataset_clean.csv\",\n",
    "    \"src/news_dataset_clean.csv\",\n",
    "    \"src/abstracts_dataset_clean.csv\"\n",
    "]\n",
    "authors = [\"human_text\", \"Llama3.1_clean\", \"Falcon_clean\"]\n",
    "target_rows=250\n",
    "\n",
    "for dataset in datasets:\n",
    "    for author in authors:\n",
    "        print(f\"Processing dataset: {dataset}, author: {author}, with LM: {model_name}\")\n",
    "        generate_responses(\n",
    "            input_path=dataset,\n",
    "            model_name=model_name,\n",
    "            context_policy=\"none\",\n",
    "            author=author,\n",
    "            target_rows=target_rows\n",
    "        )"
   ]
  },
  {
   "cell_type": "code",
   "execution_count": 7,
   "metadata": {},
   "outputs": [],
   "source": [
    "# generate_responses(\n",
    "#     input_path=\"src/wiki_dataset_clean.csv\",\n",
    "#     model_name=\"microsoft/phi-2\",\n",
    "#     context_policy=\"none\",\n",
    "#     author=\"human_text\",\n",
    "#     target_rows=250\n",
    "# )"
   ]
  }
 ],
 "metadata": {
  "kernelspec": {
   "display_name": "env",
   "language": "python",
   "name": "python3"
  },
  "language_info": {
   "codemirror_mode": {
    "name": "ipython",
    "version": 3
   },
   "file_extension": ".py",
   "mimetype": "text/x-python",
   "name": "python",
   "nbconvert_exporter": "python",
   "pygments_lexer": "ipython3",
   "version": "3.12.3"
  }
 },
 "nbformat": 4,
 "nbformat_minor": 2
}
