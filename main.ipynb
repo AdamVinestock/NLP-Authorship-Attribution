{
 "cells": [
  {
   "cell_type": "code",
   "execution_count": 2,
   "metadata": {},
   "outputs": [],
   "source": [
    "import pandas as pd\n",
    "from SentenceParser import SentenceParser\n",
    "from PrepareSentenceContext import PrepareSentenceContext"
   ]
  },
  {
   "cell_type": "code",
   "execution_count": 15,
   "metadata": {},
   "outputs": [],
   "source": [
    "def load_and_parse_csv(file_path, column):\n",
    "    df = pd.read_csv(file_path)\n",
    "    sentence_parser = SentenceParser()\n",
    "    df['parsed_sentences'] = df[column].apply(lambda x: list(sentence_parser(x).sents))\n",
    "    return df\n",
    "\n",
    "def create_contexts(df, column):\n",
    "    context_preparer = PrepareSentenceContext(context_policy='previous-3-sentences')\n",
    "    df[column+'_'+'contexts'] = df[column].apply(lambda x: context_preparer(x)['context'])\n",
    "    return df"
   ]
  },
  {
   "cell_type": "code",
   "execution_count": 16,
   "metadata": {},
   "outputs": [
    {
     "name": "stdout",
     "output_type": "stream",
     "text": [
      "         id                                                url  \\\n",
      "0  26709147            https://en.wikipedia.org/wiki/Moluccans   \n",
      "1   4508056      https://en.wikipedia.org/wiki/FORGE%20Program   \n",
      "2     50875  https://en.wikipedia.org/wiki/History%20of%20M...   \n",
      "3  36670656  https://en.wikipedia.org/wiki/Mel%20Roberts%20...   \n",
      "4  11907622  https://en.wikipedia.org/wiki/USS%20Project%20...   \n",
      "\n",
      "                    title  title_len  \\\n",
      "0               Moluccans          1   \n",
      "1           FORGE Program          2   \n",
      "2   History of Madagascar          3   \n",
      "3  Mel Roberts (baseball)          3   \n",
      "4    USS Project (AM-278)          3   \n",
      "\n",
      "                                              prompt  \\\n",
      "0  Your role is a Wikipedia contributor. Compose ...   \n",
      "1  Your role is a Wikipedia contributor. Compose ...   \n",
      "2  Your role is a Wikipedia contributor. Compose ...   \n",
      "3  Your role is a Wikipedia contributor. Compose ...   \n",
      "4  Your role is a Wikipedia contributor. Compose ...   \n",
      "\n",
      "                                          human_text  human_len  \\\n",
      "0  Moluccans are the Austronesian-speaking and Pa...  (288, 11)   \n",
      "1  FORGE is a United States-based nonprofit organ...   (209, 8)   \n",
      "2  The history of Madagascar is distinguished cle...   (217, 7)   \n",
      "3  Melvin Henry Roberts (January 18, 1943 – Septe...   (221, 7)   \n",
      "4  USS Project (AM–278) was an  built for the Uni...   (190, 8)   \n",
      "\n",
      "                                                 gpt  gpt_len  Llama2  \\\n",
      "0  Moluccans are the Austronesian-speaking and Pa...      NaN     NaN   \n",
      "1  FORGE is a United States-based nonprofit organ...      NaN     NaN   \n",
      "2  The history of Madagascar is distinguished cle...      NaN     NaN   \n",
      "3  Melvin Henry Roberts (January 18, 1943 – Octob...      NaN     NaN   \n",
      "4  USS Project (AM–278) was an  built for the Uni...      NaN     NaN   \n",
      "\n",
      "   Llama2_len                                             Falcon   Falcon_len  \\\n",
      "0         NaN  Your role is a Wikipedia contributor. Compose ...  [(362, 19)]   \n",
      "1         NaN  Your role is a Wikipedia contributor. Compose ...  [(413, 23)]   \n",
      "2         NaN  Your role is a Wikipedia contributor. Compose ...  [(391, 23)]   \n",
      "3         NaN  Your role is a Wikipedia contributor. Compose ...   [(138, 8)]   \n",
      "4         NaN  Your role is a Wikipedia contributor. Compose ...   [(115, 9)]   \n",
      "\n",
      "                                    parsed_sentences  \\\n",
      "0  [Your role is a Wikipedia contributor., Compos...   \n",
      "1  [Your role is a Wikipedia contributor., Compos...   \n",
      "2  [Your role is a Wikipedia contributor., Compos...   \n",
      "3  [Your role is a Wikipedia contributor., Compos...   \n",
      "4  [Your role is a Wikipedia contributor., Compos...   \n",
      "\n",
      "                                     Falcon_contexts  \n",
      "0  [None, Your role is a Wikipedia contributor., ...  \n",
      "1  [None, Your role is a Wikipedia contributor., ...  \n",
      "2  [None, Your role is a Wikipedia contributor., ...  \n",
      "3  [None, Your role is a Wikipedia contributor., ...  \n",
      "4  [None, Your role is a Wikipedia contributor., ...  \n"
     ]
    }
   ],
   "source": [
    "csv_file_path = 'wiki_dataset.csv'\n",
    "df = load_and_parse_csv(csv_file_path, 'Falcon')\n",
    "df = create_contexts(df, 'Falcon')\n",
    "print(df.head())"
   ]
  },
  {
   "cell_type": "code",
   "execution_count": 17,
   "metadata": {},
   "outputs": [
    {
     "data": {
      "text/plain": [
       "['Your role is a Wikipedia contributor.',\n",
       " \"Compose a Wikipedia-style introduction for the topic 'Moluccans'.\",\n",
       " 'Start with a clear definition, followed by key details and context that is essential for understanding the subject.',\n",
       " 'Ensure the introduction is detailed and spans approximately 11 sentences long.',\n",
       " 'Introduction: Moluccans are the Austronesian-speaking and Papuan-speaking ethnic groups of the Moluccas, an Indonesian archipelago in the western Pacific Ocean.',\n",
       " 'The Moluccas are also known as the Spice Islands because of their importance in the spice trade in the 16th and 17th centuries.',\n",
       " 'Moluccans speak a variety of Austronesian languages, including Malayo-Polynesian, Malayo-Indonesian, and Papuan languages.',\n",
       " 'The majority of Moluccans live on the islands of Ambon, Seram, Halmahera, Ternate, and Bacan.',\n",
       " 'Moluccan culture is a blend of Indonesian and Melanesian cultures, with influences from China, India, and the Middle East.',\n",
       " 'The Moluccas have been inhabited by Austronesian peoples since at least the 2nd millennium BC.',\n",
       " 'The first Europeans to arrive in the Moluccan archipelago were the Portuguese in 1512, followed by the Dutch in 1596.',\n",
       " 'In the 17th century, the Dutch East India Company established a trading post on the island of Ternate.',\n",
       " 'The Portuguese and Dutch fought for control of the archipelago until the Dutch finally gained control in 1662.',\n",
       " 'The Dutch ruled the archipelago as a colony until 1942, when it was occupied by the Japanese during World War II.',\n",
       " 'After the war, the archipelago was divided between Indonesia and the Netherlands, with Indonesia taking control of the western half and the Netherlands retaining control of the eastern half.',\n",
       " 'Moluccans are a group of people who live in the Indonesian archipelago of the same name.',\n",
       " 'They are descended from Austronesian people who migrated to the archipelago from mainland Southeast Asia around 2,000 years ago.',\n",
       " \"Today, Moluccans make up less than 1% of Indonesia's population, but they are an important part of the country's cultural and economic life.\"]"
      ]
     },
     "execution_count": 17,
     "metadata": {},
     "output_type": "execute_result"
    }
   ],
   "source": [
    "df['parsed_sentences'][0]"
   ]
  },
  {
   "cell_type": "code",
   "execution_count": 19,
   "metadata": {},
   "outputs": [
    {
     "data": {
      "text/plain": [
       "[None,\n",
       " 'Your role is a Wikipedia contributor.',\n",
       " \"Your role is a Wikipedia contributor. Compose a Wikipedia-style introduction for the topic 'Moluccans'.\",\n",
       " \"Your role is a Wikipedia contributor. Compose a Wikipedia-style introduction for the topic 'Moluccans'. Start with a clear definition, followed by key details and context that is essential for understanding the subject.\",\n",
       " \"Compose a Wikipedia-style introduction for the topic 'Moluccans'. Start with a clear definition, followed by key details and context that is essential for understanding the subject. Ensure the introduction is detailed and spans approximately 11 sentences long.\",\n",
       " 'Start with a clear definition, followed by key details and context that is essential for understanding the subject. Ensure the introduction is detailed and spans approximately 11 sentences long. Introduction: Moluccans are the Austronesian-speaking and Papuan-speaking ethnic groups of the Moluccas, an Indonesian archipelago in the western Pacific Ocean.',\n",
       " 'Ensure the introduction is detailed and spans approximately 11 sentences long. Introduction: Moluccans are the Austronesian-speaking and Papuan-speaking ethnic groups of the Moluccas, an Indonesian archipelago in the western Pacific Ocean. The Moluccas are also known as the Spice Islands because of their importance in the spice trade in the 16th and 17th centuries.',\n",
       " 'Introduction: Moluccans are the Austronesian-speaking and Papuan-speaking ethnic groups of the Moluccas, an Indonesian archipelago in the western Pacific Ocean. The Moluccas are also known as the Spice Islands because of their importance in the spice trade in the 16th and 17th centuries. Moluccans speak a variety of Austronesian languages, including Malayo-Polynesian, Malayo-Indonesian, and Papuan languages.',\n",
       " 'The Moluccas are also known as the Spice Islands because of their importance in the spice trade in the 16th and 17th centuries. Moluccans speak a variety of Austronesian languages, including Malayo-Polynesian, Malayo-Indonesian, and Papuan languages. The majority of Moluccans live on the islands of Ambon, Seram, Halmahera, Ternate, and Bacan.',\n",
       " 'Moluccans speak a variety of Austronesian languages, including Malayo-Polynesian, Malayo-Indonesian, and Papuan languages. The majority of Moluccans live on the islands of Ambon, Seram, Halmahera, Ternate, and Bacan. Moluccan culture is a blend of Indonesian and Melanesian cultures, with influences from China, India, and the Middle East.\\n',\n",
       " 'The majority of Moluccans live on the islands of Ambon, Seram, Halmahera, Ternate, and Bacan. Moluccan culture is a blend of Indonesian and Melanesian cultures, with influences from China, India, and the Middle East.\\n The Moluccas have been inhabited by Austronesian peoples since at least the 2nd millennium BC.',\n",
       " 'Moluccan culture is a blend of Indonesian and Melanesian cultures, with influences from China, India, and the Middle East.\\n The Moluccas have been inhabited by Austronesian peoples since at least the 2nd millennium BC. The first Europeans to arrive in the Moluccan archipelago were the Portuguese in 1512, followed by the Dutch in 1596.',\n",
       " 'The Moluccas have been inhabited by Austronesian peoples since at least the 2nd millennium BC. The first Europeans to arrive in the Moluccan archipelago were the Portuguese in 1512, followed by the Dutch in 1596. In the 17th century, the Dutch East India Company established a trading post on the island of Ternate.',\n",
       " 'The first Europeans to arrive in the Moluccan archipelago were the Portuguese in 1512, followed by the Dutch in 1596. In the 17th century, the Dutch East India Company established a trading post on the island of Ternate. The Portuguese and Dutch fought for control of the archipelago until the Dutch finally gained control in 1662.',\n",
       " 'In the 17th century, the Dutch East India Company established a trading post on the island of Ternate. The Portuguese and Dutch fought for control of the archipelago until the Dutch finally gained control in 1662. The Dutch ruled the archipelago as a colony until 1942, when it was occupied by the Japanese during World War II.',\n",
       " 'The Portuguese and Dutch fought for control of the archipelago until the Dutch finally gained control in 1662. The Dutch ruled the archipelago as a colony until 1942, when it was occupied by the Japanese during World War II. After the war, the archipelago was divided between Indonesia and the Netherlands, with Indonesia taking control of the western half and the Netherlands retaining control of the eastern half.\\n',\n",
       " 'The Dutch ruled the archipelago as a colony until 1942, when it was occupied by the Japanese during World War II. After the war, the archipelago was divided between Indonesia and the Netherlands, with Indonesia taking control of the western half and the Netherlands retaining control of the eastern half.\\n Moluccans are a group of people who live in the Indonesian archipelago of the same name.',\n",
       " 'After the war, the archipelago was divided between Indonesia and the Netherlands, with Indonesia taking control of the western half and the Netherlands retaining control of the eastern half.\\n Moluccans are a group of people who live in the Indonesian archipelago of the same name. They are descended from Austronesian people who migrated to the archipelago from mainland Southeast Asia around 2,000 years ago.',\n",
       " \"Moluccans are a group of people who live in the Indonesian archipelago of the same name. They are descended from Austronesian people who migrated to the archipelago from mainland Southeast Asia around 2,000 years ago. Today, Moluccans make up less than 1% of Indonesia's population, but they are an important part of the country's cultural and economic life.\"]"
      ]
     },
     "execution_count": 19,
     "metadata": {},
     "output_type": "execute_result"
    }
   ],
   "source": [
    "df['Falcon_contexts'][0]\n"
   ]
  }
 ],
 "metadata": {
  "kernelspec": {
   "display_name": "env",
   "language": "python",
   "name": "python3"
  },
  "language_info": {
   "codemirror_mode": {
    "name": "ipython",
    "version": 3
   },
   "file_extension": ".py",
   "mimetype": "text/x-python",
   "name": "python",
   "nbconvert_exporter": "python",
   "pygments_lexer": "ipython3",
   "version": "3.12.3"
  }
 },
 "nbformat": 4,
 "nbformat_minor": 2
}
