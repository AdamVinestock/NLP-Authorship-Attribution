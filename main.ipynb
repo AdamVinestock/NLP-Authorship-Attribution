{
 "cells": [
  {
   "cell_type": "code",
   "execution_count": 1,
   "metadata": {},
   "outputs": [],
   "source": [
    "import os\n",
    "import pandas as pd\n",
    "import torch\n",
    "import gc\n",
    "from tqdm import tqdm\n",
    "from transformers import AutoTokenizer, AutoModelForCausalLM\n",
    "from PerplexityEvaluator import PerplexityEvaluator\n",
    "from PrepareSentenceContext import PrepareSentenceContext"
   ]
  },
  {
   "cell_type": "code",
   "execution_count": 2,
   "metadata": {},
   "outputs": [],
   "source": [
    "# !pip install --break-system-packages datasets  \n",
    "# !pip install --break-system-packages ipywidgets\n",
    "# !pip install --break-system-packages --upgrade transformers \"numpy<2\" \"pyarrow<14\""
   ]
  },
  {
   "cell_type": "code",
   "execution_count": 3,
   "metadata": {},
   "outputs": [
    {
     "name": "stdout",
     "output_type": "stream",
     "text": [
      "Tue Mar  4 08:18:08 2025       \n",
      "+-----------------------------------------------------------------------------------------+\n",
      "| NVIDIA-SMI 560.35.03              Driver Version: 560.35.03      CUDA Version: 12.6     |\n",
      "|-----------------------------------------+------------------------+----------------------+\n",
      "| GPU  Name                 Persistence-M | Bus-Id          Disp.A | Volatile Uncorr. ECC |\n",
      "| Fan  Temp   Perf          Pwr:Usage/Cap |           Memory-Usage | GPU-Util  Compute M. |\n",
      "|                                         |                        |               MIG M. |\n",
      "|=========================================+========================+======================|\n",
      "|   0  NVIDIA A100 80GB PCIe          Off |   00000001:00:00.0 Off |                    0 |\n",
      "| N/A   29C    P0             44W /  300W |       6MiB /  81920MiB |      0%      Default |\n",
      "|                                         |                        |             Disabled |\n",
      "+-----------------------------------------+------------------------+----------------------+\n",
      "                                                                                         \n",
      "+-----------------------------------------------------------------------------------------+\n",
      "| Processes:                                                                              |\n",
      "|  GPU   GI   CI        PID   Type   Process name                              GPU Memory |\n",
      "|        ID   ID                                                               Usage      |\n",
      "|=========================================================================================|\n",
      "|  No running processes found                                                             |\n",
      "+-----------------------------------------------------------------------------------------+\n"
     ]
    }
   ],
   "source": [
    "torch.cuda.empty_cache()\n",
    "gc.collect()\n",
    "!nvidia-smi"
   ]
  },
  {
   "cell_type": "code",
   "execution_count": 4,
   "metadata": {},
   "outputs": [],
   "source": [
    "def generate_responses(\n",
    "    input_path, model_name, context_policy, author,\n",
    "    output_dir=\"Responses\", target_rows=100, checkpoint_path=None\n",
    "):\n",
    "    \"\"\"\n",
    "    Generate responses for a dataset row by row, ensuring that the target number of rows from the dataset is processed.\n",
    "\n",
    "    Parameters:\n",
    "    - input_path: Path to the input dataset CSV.\n",
    "    - model_name: Name of the language model for perplexity evaluation.\n",
    "    - context_policy: Context policy to use for sentence processing.\n",
    "    - author_column: Column containing the text to process.\n",
    "    - output_dir: Directory where responses will be saved.\n",
    "    - target_rows: Number of rows from the dataset to process in this run.\n",
    "    - checkpoint_path: Path to save progress for crash recovery.\n",
    "    \"\"\"\n",
    "    # Load input dataset\n",
    "    df = pd.read_csv(input_path)\n",
    "    dataset_name = os.path.basename(input_path).split(\"_\")[0]\n",
    "\n",
    "    # Prepare output file path\n",
    "    if \"/\" in model_name:\n",
    "        lm_name_str = model_name.split(\"/\")[-1]\n",
    "    else:\n",
    "        lm_name_str = model_name\n",
    "    save_path = os.path.join(\n",
    "        output_dir, f\"{dataset_name}_{author}_{context_policy}_{lm_name_str}.csv\"\n",
    "    )\n",
    "    os.makedirs(output_dir, exist_ok=True)\n",
    "\n",
    "    # Load existing responses if file exists\n",
    "    if os.path.exists(save_path):\n",
    "        responses_df = pd.read_csv(save_path)\n",
    "    else:\n",
    "        responses_df = pd.DataFrame(columns=[\"num\", \"length\", \"response\", \"context_length\", \"name\"])\n",
    "\n",
    "    # Initialize model, tokenizer, and utilities\n",
    "    tokenizer = AutoTokenizer.from_pretrained(model_name)\n",
    "    model = AutoModelForCausalLM.from_pretrained(model_name)\n",
    "    device = \"cuda\" if torch.cuda.is_available() else \"cpu\"\n",
    "    model.to(device)\n",
    "    model.eval()\n",
    "\n",
    "    evaluator = PerplexityEvaluator(model, tokenizer)\n",
    "    parser = PrepareSentenceContext(context_policy=context_policy)\n",
    "\n",
    "    # Process rows individually\n",
    "    with tqdm(total=target_rows, desc=\"Processing rows\", unit=\"row\") as pbar:\n",
    "        for idx, row in df.iterrows():\n",
    "            if idx >= target_rows:\n",
    "                break\n",
    "\n",
    "            row_id = row.get(\"id\", idx)  # Use row index as fallback for ID\n",
    "\n",
    "            if row_id in responses_df[\"name\"].unique():\n",
    "                pbar.update(1)\n",
    "                continue\n",
    "   \n",
    "            text = row[author]\n",
    "            if not isinstance(text, str) or pd.isna(text) or text.strip() == \"\":\n",
    "                pbar.update(1)\n",
    "                continue\n",
    "            parsed = parser(text)\n",
    "\n",
    "            for sentence_num, (sentence, context) in enumerate(zip(parsed[\"text\"], parsed[\"context\"])):\n",
    "                try:\n",
    "                    response = evaluator(sentence, context)\n",
    "                    length = len(sentence.split())\n",
    "                    context_length = len(context.split()) if context else 0\n",
    "\n",
    "                    responses_df = pd.concat([\n",
    "                        responses_df,\n",
    "                        pd.DataFrame({\n",
    "                            \"num\": [sentence_num + 1],\n",
    "                            \"length\": [length],\n",
    "                            \"response\": [response],\n",
    "                            \"context_length\": [context_length],\n",
    "                            \"name\": [row_id]\n",
    "                        })\n",
    "                    ], ignore_index=True)\n",
    "                except Exception as e:\n",
    "                    print(f\"Error processing sentence: {sentence[:50]} -> {e}\")\n",
    "\n",
    "            # Save progress incrementally\n",
    "            if checkpoint_path:\n",
    "                with open(checkpoint_path, \"w\") as f:\n",
    "                    f.write(str(idx + 1))\n",
    "            responses_df.to_csv(save_path, index=False)\n",
    "            pbar.update(1)\n",
    "\n",
    "    print(f\"Finished processing rows. Saved to {save_path}.\")"
   ]
  },
  {
   "cell_type": "code",
   "execution_count": 5,
   "metadata": {},
   "outputs": [
    {
     "name": "stdout",
     "output_type": "stream",
     "text": [
      "Processing dataset: src/wiki_dataset_clean.csv, author: human_text, with LM: meta-llama/Meta-Llama-3.1-8B-Instruct\n"
     ]
    },
    {
     "data": {
      "application/vnd.jupyter.widget-view+json": {
       "model_id": "6fd077a8812647eb8794c9708a359ccb",
       "version_major": 2,
       "version_minor": 0
      },
      "text/plain": [
       "Loading checkpoint shards:   0%|          | 0/4 [00:00<?, ?it/s]"
      ]
     },
     "metadata": {},
     "output_type": "display_data"
    },
    {
     "name": "stderr",
     "output_type": "stream",
     "text": [
      "Processing rows: 100%|█████████████████████████████████████████████████████████████████████████████████████████████████████████████████████████████████████████████████████████████████████████████████████████████████████████████████████████████████| 1500/1500 [00:00<00:00, 6362.54row/s]\n"
     ]
    },
    {
     "name": "stdout",
     "output_type": "stream",
     "text": [
      "Finished processing rows. Saved to Responses/wiki_human_text_none_Meta-Llama-3.1-8B-Instruct.csv.\n",
      "Processing dataset: src/wiki_dataset_clean.csv, author: gpt, with LM: meta-llama/Meta-Llama-3.1-8B-Instruct\n"
     ]
    },
    {
     "data": {
      "application/vnd.jupyter.widget-view+json": {
       "model_id": "83ac02c3e07647949e5fc44642ec25a5",
       "version_major": 2,
       "version_minor": 0
      },
      "text/plain": [
       "Loading checkpoint shards:   0%|          | 0/4 [00:00<?, ?it/s]"
      ]
     },
     "metadata": {},
     "output_type": "display_data"
    },
    {
     "name": "stderr",
     "output_type": "stream",
     "text": [
      "Processing rows: 100%|█████████████████████████████████████████████████████████████████████████████████████████████████████████████████████████████████████████████████████████████████████████████████████████████████████████████████████████████████| 1500/1500 [00:00<00:00, 5923.41row/s]\n"
     ]
    },
    {
     "name": "stdout",
     "output_type": "stream",
     "text": [
      "Finished processing rows. Saved to Responses/wiki_gpt_none_Meta-Llama-3.1-8B-Instruct.csv.\n",
      "Processing dataset: src/wiki_dataset_clean.csv, author: Llama3.1_clean, with LM: meta-llama/Meta-Llama-3.1-8B-Instruct\n"
     ]
    },
    {
     "data": {
      "application/vnd.jupyter.widget-view+json": {
       "model_id": "8c6976636aa24f72af5d135dc2609f3c",
       "version_major": 2,
       "version_minor": 0
      },
      "text/plain": [
       "Loading checkpoint shards:   0%|          | 0/4 [00:00<?, ?it/s]"
      ]
     },
     "metadata": {},
     "output_type": "display_data"
    },
    {
     "name": "stderr",
     "output_type": "stream",
     "text": [
      "Processing rows: 100%|█████████████████████████████████████████████████████████████████████████████████████████████████████████████████████████████████████████████████████████████████████████████████████████████████████████████████████████████████| 1500/1500 [00:00<00:00, 6497.23row/s]\n"
     ]
    },
    {
     "name": "stdout",
     "output_type": "stream",
     "text": [
      "Finished processing rows. Saved to Responses/wiki_Llama3.1_clean_none_Meta-Llama-3.1-8B-Instruct.csv.\n",
      "Processing dataset: src/wiki_dataset_clean.csv, author: Falcon_clean, with LM: meta-llama/Meta-Llama-3.1-8B-Instruct\n"
     ]
    },
    {
     "data": {
      "application/vnd.jupyter.widget-view+json": {
       "model_id": "b8fb503a057c42aa9a7665f8515d7366",
       "version_major": 2,
       "version_minor": 0
      },
      "text/plain": [
       "Loading checkpoint shards:   0%|          | 0/4 [00:00<?, ?it/s]"
      ]
     },
     "metadata": {},
     "output_type": "display_data"
    },
    {
     "name": "stderr",
     "output_type": "stream",
     "text": [
      "WARNING:root:Closing tag without opening in sentence 0: Thushari Jayasekera is a Sri Lankan-American actress, <a href=\"https://en.wikipedia.org/wiki/Thushari_Jayasekera\" target=\"_blank\" rel=\"noopener noreferrer\">Wikipedia</a>.                                  | 0/1500 [00:00<?, ?row/s]\n",
      "WARNING:root:Closing tag without opening in sentence 0: Reginald Purdell (4 November 1896 – 22 <a href=\"https://en.wikipedia.org/wiki/Reginald_Purdell\" target=\"_blank\" rel=\"noopener noreferrer\">Wikipedia</a>. article \"Reginald <em>Purdell</em>\".</p>. </div>. [00:00<00:00, 1369.11row/s]\n",
      "WARNING:root:Closing tag without opening in sentence 1: </body>.\n",
      "WARNING:root:Closing tag without opening in sentence 2: </html>\n",
      "WARNING:root:Closing tag without opening in sentence 0: Terry Fossum is an American businessperson and <a href=\"https://en.wikipedia.org/wiki/Terry_Fossum\">entrepreneur</a>.\n",
      "WARNING:root:Closing tag without opening in sentence 1: He is the founder and CEO of <a class=\"mw-redirect\" href=\"http://www.terryfossum.com/\" title=\"Terry Fossum\">Terry Fossum</a>. & Associates, a business consulting firm.\n",
      "WARNING:root:Closing tag without opening in sentence 0: Karl-Erik Åström (18 April 1924 - 9 <a href=\"https://en.wikipedia.org/wiki/Karl_Erik_Åström\" target=\"_blank\" rel=\"noopener noreferrer\">Wikipedia</a>.</p>.                                      | 621/1500 [00:00<00:00, 2802.69row/s]\n",
      "WARNING:root:Closing tag without opening in sentence 1: </div>.\n",
      "WARNING:root:Closing tag without opening in sentence 2: </body>.\n",
      "WARNING:root:Closing tag without opening in sentence 3: </html>\n",
      "WARNING:root:Closing tag without opening in sentence 0: William T. Cannady (born 1937) is an <a href=\"https://en.wikipedia.org/wiki/American_politician\" target=\"_blank\">American politician</a>. who served as a member of the U.S. House of Representatives from 1979 to 1993.\n",
      "WARNING:root:Closing tag without opening in sentence 1: Cannady was born in 1937 in <a class=\"mw-redirect\" href=\"https:/ | | <a target=\"_blank\" href=\"http://www.washingtonpost.com/news/politics/wp-dyn/content/article/2007/02/26/AR2007022601593.html\">The Washington Post</a>, 2007-02-26</li>.\n",
      "WARNING:root:Closing tag without opening in sentence 2: </ul>.\n",
      "WARNING:root:Closing tag without opening in sentence 3: </div>.\n",
      "WARNING:root:Closing tag without opening in sentence 4: </body>.\n",
      "WARNING:root:Closing tag without opening in sentence 5: </html>\n",
      "WARNING:root:Closing tag without opening in sentence 0: is a Japanese avant-garde playwright, theatre director, <a href=\"https://en.wikipedia.org/wiki/Jur%C3%A9_Kara\" target=\"_blank\" rel=\"noopener noreferrer\">playwright</a>. and theatre director.\n",
      "WARNING:root:Closing tag without opening in sentence 0: Heinrich Krone (1 December 1895 – 15 <a href=\"https://en.wikipedia.org/wiki/Heinrich_Krone\" target=\"_blank\" rel=\"noopener noreferrer\">Wikipedia</a>.                                            | 886/1500 [00:00<00:00, 2380.30row/s]\n",
      "WARNING:root:Closing tag without opening in sentence 1: article \"Heinrich <span style=\"font-style: italic;\">Krone</span>\".</p>.\n",
      "WARNING:root:Closing tag without opening in sentence 2: </div>.\n",
      "WARNING:root:Closing tag without opening in sentence 3: </body>.\n",
      "WARNING:root:Closing tag without opening in sentence 4: </html>\n",
      "WARNING:root:Closing tag without opening in sentence 0: Andy Umberger is an American actor who <a href=\"https://en.wikipedia.org/wiki/Andy_Umberger\" target=\"_blank\" rel=\"noopener noreferrer\">starred</a>.\n",
      "Processing rows: 100%|█████████████████████████████████████████████████████████████████████████████████████████████████████████████████████████████████████████████████████████████████████████████████████████████████████████████████████████████████| 1500/1500 [00:00<00:00, 2882.83row/s]\n"
     ]
    },
    {
     "name": "stdout",
     "output_type": "stream",
     "text": [
      "Finished processing rows. Saved to Responses/wiki_Falcon_clean_none_Meta-Llama-3.1-8B-Instruct.csv.\n",
      "Processing dataset: src/wiki_dataset_clean.csv, author: R1_clean, with LM: meta-llama/Meta-Llama-3.1-8B-Instruct\n"
     ]
    },
    {
     "data": {
      "application/vnd.jupyter.widget-view+json": {
       "model_id": "691cede48f554bae88c231730d786c35",
       "version_major": 2,
       "version_minor": 0
      },
      "text/plain": [
       "Loading checkpoint shards:   0%|          | 0/4 [00:00<?, ?it/s]"
      ]
     },
     "metadata": {},
     "output_type": "display_data"
    },
    {
     "name": "stderr",
     "output_type": "stream",
     "text": [
      "Processing rows: 100%|███████████████████████████████████████████████████████████████████████████████████████████████████████████████████████████████████████████████████████████████████████████████████████████████████████████████████████████████████| 1500/1500 [11:30<00:00,  2.17row/s]\n"
     ]
    },
    {
     "name": "stdout",
     "output_type": "stream",
     "text": [
      "Finished processing rows. Saved to Responses/wiki_R1_clean_none_Meta-Llama-3.1-8B-Instruct.csv.\n",
      "Processing dataset: src/news_dataset_clean.csv, author: human_text, with LM: meta-llama/Meta-Llama-3.1-8B-Instruct\n"
     ]
    },
    {
     "data": {
      "application/vnd.jupyter.widget-view+json": {
       "model_id": "986d1e636c554c098e3f61202e5ebbd8",
       "version_major": 2,
       "version_minor": 0
      },
      "text/plain": [
       "Loading checkpoint shards:   0%|          | 0/4 [00:00<?, ?it/s]"
      ]
     },
     "metadata": {},
     "output_type": "display_data"
    },
    {
     "name": "stderr",
     "output_type": "stream",
     "text": [
      "Processing rows: 100%|██████████████████████████████████████████████████████████████████████████████████████████████████████████████████████████████████████████████████████████████████████████████████████████████████████████████████████████████████| 1500/1500 [00:03<00:00, 461.30row/s]\n"
     ]
    },
    {
     "name": "stdout",
     "output_type": "stream",
     "text": [
      "Finished processing rows. Saved to Responses/news_human_text_none_Meta-Llama-3.1-8B-Instruct.csv.\n",
      "Processing dataset: src/news_dataset_clean.csv, author: gpt, with LM: meta-llama/Meta-Llama-3.1-8B-Instruct\n"
     ]
    },
    {
     "data": {
      "application/vnd.jupyter.widget-view+json": {
       "model_id": "9a561613abb14fcfb079b0618837480d",
       "version_major": 2,
       "version_minor": 0
      },
      "text/plain": [
       "Loading checkpoint shards:   0%|          | 0/4 [00:00<?, ?it/s]"
      ]
     },
     "metadata": {},
     "output_type": "display_data"
    },
    {
     "name": "stderr",
     "output_type": "stream",
     "text": [
      "Processing rows: 100%|██████████████████████████████████████████████████████████████████████████████████████████████████████████████████████████████████████████████████████████████████████████████████████████████████████████████████████████████████| 1500/1500 [00:02<00:00, 569.08row/s]\n"
     ]
    },
    {
     "name": "stdout",
     "output_type": "stream",
     "text": [
      "Finished processing rows. Saved to Responses/news_gpt_none_Meta-Llama-3.1-8B-Instruct.csv.\n",
      "Processing dataset: src/news_dataset_clean.csv, author: Llama3.1_clean, with LM: meta-llama/Meta-Llama-3.1-8B-Instruct\n"
     ]
    },
    {
     "data": {
      "application/vnd.jupyter.widget-view+json": {
       "model_id": "f5439d53e179413da0a513779e4ce58b",
       "version_major": 2,
       "version_minor": 0
      },
      "text/plain": [
       "Loading checkpoint shards:   0%|          | 0/4 [00:00<?, ?it/s]"
      ]
     },
     "metadata": {},
     "output_type": "display_data"
    },
    {
     "name": "stderr",
     "output_type": "stream",
     "text": [
      "Processing rows: 100%|██████████████████████████████████████████████████████████████████████████████████████████████████████████████████████████████████████████████████████████████████████████████████████████████████████████████████████████████████| 1500/1500 [00:03<00:00, 404.52row/s]\n"
     ]
    },
    {
     "name": "stdout",
     "output_type": "stream",
     "text": [
      "Finished processing rows. Saved to Responses/news_Llama3.1_clean_none_Meta-Llama-3.1-8B-Instruct.csv.\n",
      "Processing dataset: src/news_dataset_clean.csv, author: Falcon_clean, with LM: meta-llama/Meta-Llama-3.1-8B-Instruct\n"
     ]
    },
    {
     "data": {
      "application/vnd.jupyter.widget-view+json": {
       "model_id": "97dcda7825544e22b48f98ff563639a0",
       "version_major": 2,
       "version_minor": 0
      },
      "text/plain": [
       "Loading checkpoint shards:   0%|          | 0/4 [00:00<?, ?it/s]"
      ]
     },
     "metadata": {},
     "output_type": "display_data"
    },
    {
     "name": "stderr",
     "output_type": "stream",
     "text": [
      "Processing rows: 100%|██████████████████████████████████████████████████████████████████████████████████████████████████████████████████████████████████████████████████████████████████████████████████████████████████████████████████████████████████| 1500/1500 [00:02<00:00, 627.22row/s]\n"
     ]
    },
    {
     "name": "stdout",
     "output_type": "stream",
     "text": [
      "Finished processing rows. Saved to Responses/news_Falcon_clean_none_Meta-Llama-3.1-8B-Instruct.csv.\n",
      "Processing dataset: src/news_dataset_clean.csv, author: R1_clean, with LM: meta-llama/Meta-Llama-3.1-8B-Instruct\n"
     ]
    },
    {
     "data": {
      "application/vnd.jupyter.widget-view+json": {
       "model_id": "ebba4e43303f4dc8ae264ccff54c7428",
       "version_major": 2,
       "version_minor": 0
      },
      "text/plain": [
       "Loading checkpoint shards:   0%|          | 0/4 [00:00<?, ?it/s]"
      ]
     },
     "metadata": {},
     "output_type": "display_data"
    },
    {
     "name": "stderr",
     "output_type": "stream",
     "text": [
      "Processing rows: 100%|███████████████████████████████████████████████████████████████████████████████████████████████████████████████████████████████████████████████████████████████████████████████████████████████████████████████████████████████████| 1500/1500 [29:55<00:00,  1.20s/row]\n"
     ]
    },
    {
     "name": "stdout",
     "output_type": "stream",
     "text": [
      "Finished processing rows. Saved to Responses/news_R1_clean_none_Meta-Llama-3.1-8B-Instruct.csv.\n",
      "Processing dataset: src/abstracts_dataset_clean.csv, author: human_text, with LM: meta-llama/Meta-Llama-3.1-8B-Instruct\n"
     ]
    },
    {
     "data": {
      "application/vnd.jupyter.widget-view+json": {
       "model_id": "b7e6d3ca65ac4458b1b1e2cbf4df2e7e",
       "version_major": 2,
       "version_minor": 0
      },
      "text/plain": [
       "Loading checkpoint shards:   0%|          | 0/4 [00:00<?, ?it/s]"
      ]
     },
     "metadata": {},
     "output_type": "display_data"
    },
    {
     "name": "stderr",
     "output_type": "stream",
     "text": [
      "Processing rows: 100%|█████████████████████████████████████████████████████████████████████████████████████████████████████████████████████████████████████████████████████████████████████████████████████████████████████████████████████████████████| 1500/1500 [00:00<00:00, 6022.85row/s]\n"
     ]
    },
    {
     "name": "stdout",
     "output_type": "stream",
     "text": [
      "Finished processing rows. Saved to Responses/abstracts_human_text_none_Meta-Llama-3.1-8B-Instruct.csv.\n",
      "Processing dataset: src/abstracts_dataset_clean.csv, author: gpt, with LM: meta-llama/Meta-Llama-3.1-8B-Instruct\n"
     ]
    },
    {
     "data": {
      "application/vnd.jupyter.widget-view+json": {
       "model_id": "248c6f22933949dea9ad2607539fdc9a",
       "version_major": 2,
       "version_minor": 0
      },
      "text/plain": [
       "Loading checkpoint shards:   0%|          | 0/4 [00:00<?, ?it/s]"
      ]
     },
     "metadata": {},
     "output_type": "display_data"
    },
    {
     "name": "stderr",
     "output_type": "stream",
     "text": [
      "Processing rows: 100%|█████████████████████████████████████████████████████████████████████████████████████████████████████████████████████████████████████████████████████████████████████████████████████████████████████████████████████████████████| 1500/1500 [00:00<00:00, 5908.47row/s]\n"
     ]
    },
    {
     "name": "stdout",
     "output_type": "stream",
     "text": [
      "Finished processing rows. Saved to Responses/abstracts_gpt_none_Meta-Llama-3.1-8B-Instruct.csv.\n",
      "Processing dataset: src/abstracts_dataset_clean.csv, author: Llama3.1_clean, with LM: meta-llama/Meta-Llama-3.1-8B-Instruct\n"
     ]
    },
    {
     "data": {
      "application/vnd.jupyter.widget-view+json": {
       "model_id": "5bfd18c26f064576b28fc6f1d702d992",
       "version_major": 2,
       "version_minor": 0
      },
      "text/plain": [
       "Loading checkpoint shards:   0%|          | 0/4 [00:00<?, ?it/s]"
      ]
     },
     "metadata": {},
     "output_type": "display_data"
    },
    {
     "name": "stderr",
     "output_type": "stream",
     "text": [
      "Processing rows: 100%|█████████████████████████████████████████████████████████████████████████████████████████████████████████████████████████████████████████████████████████████████████████████████████████████████████████████████████████████████| 1500/1500 [00:00<00:00, 5288.70row/s]\n"
     ]
    },
    {
     "name": "stdout",
     "output_type": "stream",
     "text": [
      "Finished processing rows. Saved to Responses/abstracts_Llama3.1_clean_none_Meta-Llama-3.1-8B-Instruct.csv.\n",
      "Processing dataset: src/abstracts_dataset_clean.csv, author: Falcon_clean, with LM: meta-llama/Meta-Llama-3.1-8B-Instruct\n"
     ]
    },
    {
     "data": {
      "application/vnd.jupyter.widget-view+json": {
       "model_id": "16300bc67f4649c7bd701818c0da5c3d",
       "version_major": 2,
       "version_minor": 0
      },
      "text/plain": [
       "Loading checkpoint shards:   0%|          | 0/4 [00:00<?, ?it/s]"
      ]
     },
     "metadata": {},
     "output_type": "display_data"
    },
    {
     "name": "stderr",
     "output_type": "stream",
     "text": [
      "WARNING:root:Opening tag without closing in sentence 1: <br><br>.                                                                                                                                                                                                   | 0/1500 [00:00<?, ?row/s]\n",
      "WARNING:root:Opening tag without closing in sentence 2: The story begins with a simple question: \"What is a monad?\"<br>\n",
      "WARNING:root:Opening tag without closing in sentence 1: HD <sup>92945</sup>.██████████████████████████████████████████████████████████████████████████████████████████████████████████████████████████████████████████████▋                            | 1311/1500 [00:00<00:00, 6706.11row/s]\n",
      "WARNING:root:Opening tag without closing in sentence 2: using the Hubble Space Telescope (HST) <i>Spitzer</i>.\n",
      "WARNING:root:Opening tag without closing in sentence 3: Infrared Spectrograph (<i>IRS</i>) and the Spitzer Infrared Array Camera (IRAC).\n",
      "WARNING:root:Opening tag without closing in sentence 4: <br><br>.\n",
      "WARNING:root:Opening tag without closing in sentence 5: We find that the debris disk has a radius of 0.6 <i><sub>R</sub></i>.\n",
      "WARNING:root:Opening tag without closing in sentence 6: <sub><i>d</i></sub>.\n",
      "WARNING:root:Opening tag without closing in sentence 7: and a mass-to-flux ratio of 1.5 <i>/</i>.\n",
      "WARNING:root:Opening tag without closing in sentence 8: 10<sup>-4</sup>.\n",
      "WARNING:root:Opening tag without closing in sentence 9: M<sub>☉</sub>.\n",
      "WARNING:root:Opening tag without closing in sentence 10: <sup><sub>-1</sub></sup>.\n",
      "WARNING:root:Opening tag without closing in sentence 11: <br>.\n",
      "WARNING:root:Opening tag without closing in sentence 12: <br>.<br><br>.\n",
      "Processing rows: 100%|█████████████████████████████████████████████████████████████████████████████████████████████████████████████████████████████████████████████████████████████████████████████████████████████████████████████████████████████████| 1500/1500 [00:00<00:00, 5652.22row/s]\n"
     ]
    },
    {
     "name": "stdout",
     "output_type": "stream",
     "text": [
      "Finished processing rows. Saved to Responses/abstracts_Falcon_clean_none_Meta-Llama-3.1-8B-Instruct.csv.\n",
      "Processing dataset: src/abstracts_dataset_clean.csv, author: R1_clean, with LM: meta-llama/Meta-Llama-3.1-8B-Instruct\n"
     ]
    },
    {
     "data": {
      "application/vnd.jupyter.widget-view+json": {
       "model_id": "e5b0b46636d94305a63ea30efc4dbb09",
       "version_major": 2,
       "version_minor": 0
      },
      "text/plain": [
       "Loading checkpoint shards:   0%|          | 0/4 [00:00<?, ?it/s]"
      ]
     },
     "metadata": {},
     "output_type": "display_data"
    },
    {
     "name": "stderr",
     "output_type": "stream",
     "text": [
      "Processing rows: 100%|███████████████████████████████████████████████████████████████████████████████████████████████████████████████████████████████████████████████████████████████████████████████████████████████████████████████████████████████████| 1500/1500 [15:19<00:00,  1.63row/s]\n"
     ]
    },
    {
     "name": "stdout",
     "output_type": "stream",
     "text": [
      "Finished processing rows. Saved to Responses/abstracts_R1_clean_none_Meta-Llama-3.1-8B-Instruct.csv.\n",
      "Processing dataset: src/wiki_dataset_clean.csv, author: human_text, with LM: microsoft/phi-2\n"
     ]
    },
    {
     "data": {
      "application/vnd.jupyter.widget-view+json": {
       "model_id": "37060a655e8c4f969e075759b996d142",
       "version_major": 2,
       "version_minor": 0
      },
      "text/plain": [
       "Loading checkpoint shards:   0%|          | 0/2 [00:00<?, ?it/s]"
      ]
     },
     "metadata": {},
     "output_type": "display_data"
    },
    {
     "name": "stderr",
     "output_type": "stream",
     "text": [
      "Processing rows: 100%|█████████████████████████████████████████████████████████████████████████████████████████████████████████████████████████████████████████████████████████████████████████████████████████████████████████████████████████████████| 1500/1500 [00:00<00:00, 6820.31row/s]\n"
     ]
    },
    {
     "name": "stdout",
     "output_type": "stream",
     "text": [
      "Finished processing rows. Saved to Responses/wiki_human_text_none_phi-2.csv.\n",
      "Processing dataset: src/wiki_dataset_clean.csv, author: gpt, with LM: microsoft/phi-2\n"
     ]
    },
    {
     "data": {
      "application/vnd.jupyter.widget-view+json": {
       "model_id": "2e3cf9d215724b949e0a32c3a5808ece",
       "version_major": 2,
       "version_minor": 0
      },
      "text/plain": [
       "Loading checkpoint shards:   0%|          | 0/2 [00:00<?, ?it/s]"
      ]
     },
     "metadata": {},
     "output_type": "display_data"
    },
    {
     "name": "stderr",
     "output_type": "stream",
     "text": [
      "Processing rows: 100%|█████████████████████████████████████████████████████████████████████████████████████████████████████████████████████████████████████████████████████████████████████████████████████████████████████████████████████████████████| 1500/1500 [00:00<00:00, 6197.06row/s]\n"
     ]
    },
    {
     "name": "stdout",
     "output_type": "stream",
     "text": [
      "Finished processing rows. Saved to Responses/wiki_gpt_none_phi-2.csv.\n",
      "Processing dataset: src/wiki_dataset_clean.csv, author: Llama3.1_clean, with LM: microsoft/phi-2\n"
     ]
    },
    {
     "data": {
      "application/vnd.jupyter.widget-view+json": {
       "model_id": "dfd682fa29a641529d27645dfe2b55eb",
       "version_major": 2,
       "version_minor": 0
      },
      "text/plain": [
       "Loading checkpoint shards:   0%|          | 0/2 [00:00<?, ?it/s]"
      ]
     },
     "metadata": {},
     "output_type": "display_data"
    },
    {
     "name": "stderr",
     "output_type": "stream",
     "text": [
      "Processing rows: 100%|█████████████████████████████████████████████████████████████████████████████████████████████████████████████████████████████████████████████████████████████████████████████████████████████████████████████████████████████████| 1500/1500 [00:00<00:00, 6473.67row/s]\n"
     ]
    },
    {
     "name": "stdout",
     "output_type": "stream",
     "text": [
      "Finished processing rows. Saved to Responses/wiki_Llama3.1_clean_none_phi-2.csv.\n",
      "Processing dataset: src/wiki_dataset_clean.csv, author: Falcon_clean, with LM: microsoft/phi-2\n"
     ]
    },
    {
     "data": {
      "application/vnd.jupyter.widget-view+json": {
       "model_id": "8a4fa3d1a6f04cbe9f1c51f146f467d1",
       "version_major": 2,
       "version_minor": 0
      },
      "text/plain": [
       "Loading checkpoint shards:   0%|          | 0/2 [00:00<?, ?it/s]"
      ]
     },
     "metadata": {},
     "output_type": "display_data"
    },
    {
     "name": "stderr",
     "output_type": "stream",
     "text": [
      "WARNING:root:Closing tag without opening in sentence 0: Thushari Jayasekera is a Sri Lankan-American actress, <a href=\"https://en.wikipedia.org/wiki/Thushari_Jayasekera\" target=\"_blank\" rel=\"noopener noreferrer\">Wikipedia</a>.                                  | 0/1500 [00:00<?, ?row/s]\n",
      "WARNING:root:Closing tag without opening in sentence 0: Reginald Purdell (4 November 1896 – 22 <a href=\"https://en.wikipedia.org/wiki/Reginald_Purdell\" target=\"_blank\" rel=\"noopener noreferrer\">Wikipedia</a>. article \"Reginald <em>Purdell</em>\".</p>. </div>.\n",
      "WARNING:root:Closing tag without opening in sentence 1: </body>.\n",
      "WARNING:root:Closing tag without opening in sentence 2: </html>\n",
      "WARNING:root:Closing tag without opening in sentence 0: Terry Fossum is an American businessperson and <a href=\"https://en.wikipedia.org/wiki/Terry_Fossum\">entrepreneur</a>.                                                                           | 222/1500 [00:00<00:00, 2138.31row/s]\n",
      "WARNING:root:Closing tag without opening in sentence 1: He is the founder and CEO of <a class=\"mw-redirect\" href=\"http://www.terryfossum.com/\" title=\"Terry Fossum\">Terry Fossum</a>. & Associates, a business consulting firm.\n",
      "WARNING:root:Closing tag without opening in sentence 0: Karl-Erik Åström (18 April 1924 - 9 <a href=\"https://en.wikipedia.org/wiki/Karl_Erik_Åström\" target=\"_blank\" rel=\"noopener noreferrer\">Wikipedia</a>.</p>.\n",
      "WARNING:root:Closing tag without opening in sentence 1: </div>.\n",
      "WARNING:root:Closing tag without opening in sentence 2: </body>.\n",
      "WARNING:root:Closing tag without opening in sentence 3: </html>\n",
      "WARNING:root:Closing tag without opening in sentence 0: William T. Cannady (born 1937) is an <a href=\"https://en.wikipedia.org/wiki/American_politician\" target=\"_blank\">American politician</a>. who served as a member of the U.S. House of Representatives from 1979 to 1993. 2895.31row/s]\n",
      "WARNING:root:Closing tag without opening in sentence 1: Cannady was born in 1937 in <a class=\"mw-redirect\" href=\"https:/ | | <a target=\"_blank\" href=\"http://www.washingtonpost.com/news/politics/wp-dyn/content/article/2007/02/26/AR2007022601593.html\">The Washington Post</a>, 2007-02-26</li>.\n",
      "WARNING:root:Closing tag without opening in sentence 2: </ul>.\n",
      "WARNING:root:Closing tag without opening in sentence 3: </div>.\n",
      "WARNING:root:Closing tag without opening in sentence 4: </body>.\n",
      "WARNING:root:Closing tag without opening in sentence 5: </html>\n",
      "WARNING:root:Closing tag without opening in sentence 0: is a Japanese avant-garde playwright, theatre director, <a href=\"https://en.wikipedia.org/wiki/Jur%C3%A9_Kara\" target=\"_blank\" rel=\"noopener noreferrer\">playwright</a>. and theatre director.\n",
      "WARNING:root:Closing tag without opening in sentence 0: Heinrich Krone (1 December 1895 – 15 <a href=\"https://en.wikipedia.org/wiki/Heinrich_Krone\" target=\"_blank\" rel=\"noopener noreferrer\">Wikipedia</a>.                                            | 925/1500 [00:00<00:00, 2679.84row/s]\n",
      "WARNING:root:Closing tag without opening in sentence 1: article \"Heinrich <span style=\"font-style: italic;\">Krone</span>\".</p>.\n",
      "WARNING:root:Closing tag without opening in sentence 2: </div>.\n",
      "WARNING:root:Closing tag without opening in sentence 3: </body>.\n",
      "WARNING:root:Closing tag without opening in sentence 4: </html>\n",
      "WARNING:root:Closing tag without opening in sentence 0: Andy Umberger is an American actor who <a href=\"https://en.wikipedia.org/wiki/Andy_Umberger\" target=\"_blank\" rel=\"noopener noreferrer\">starred</a>.\n",
      "Processing rows: 100%|█████████████████████████████████████████████████████████████████████████████████████████████████████████████████████████████████████████████████████████████████████████████████████████████████████████████████████████████████| 1500/1500 [00:00<00:00, 3062.51row/s]\n"
     ]
    },
    {
     "name": "stdout",
     "output_type": "stream",
     "text": [
      "Finished processing rows. Saved to Responses/wiki_Falcon_clean_none_phi-2.csv.\n",
      "Processing dataset: src/wiki_dataset_clean.csv, author: R1_clean, with LM: microsoft/phi-2\n"
     ]
    },
    {
     "data": {
      "application/vnd.jupyter.widget-view+json": {
       "model_id": "350abaea4b244f3580b53259f141ae7d",
       "version_major": 2,
       "version_minor": 0
      },
      "text/plain": [
       "Loading checkpoint shards:   0%|          | 0/2 [00:00<?, ?it/s]"
      ]
     },
     "metadata": {},
     "output_type": "display_data"
    },
    {
     "name": "stderr",
     "output_type": "stream",
     "text": [
      "Processing rows: 100%|███████████████████████████████████████████████████████████████████████████████████████████████████████████████████████████████████████████████████████████████████████████████████████████████████████████████████████████████████| 1500/1500 [06:20<00:00,  3.94row/s]\n"
     ]
    },
    {
     "name": "stdout",
     "output_type": "stream",
     "text": [
      "Finished processing rows. Saved to Responses/wiki_R1_clean_none_phi-2.csv.\n",
      "Processing dataset: src/news_dataset_clean.csv, author: human_text, with LM: microsoft/phi-2\n"
     ]
    },
    {
     "data": {
      "application/vnd.jupyter.widget-view+json": {
       "model_id": "9ac39ef068f04c2db90ca784e9a335f0",
       "version_major": 2,
       "version_minor": 0
      },
      "text/plain": [
       "Loading checkpoint shards:   0%|          | 0/2 [00:00<?, ?it/s]"
      ]
     },
     "metadata": {},
     "output_type": "display_data"
    },
    {
     "name": "stderr",
     "output_type": "stream",
     "text": [
      "Processing rows: 100%|██████████████████████████████████████████████████████████████████████████████████████████████████████████████████████████████████████████████████████████████████████████████████████████████████████████████████████████████████| 1500/1500 [00:03<00:00, 456.27row/s]\n"
     ]
    },
    {
     "name": "stdout",
     "output_type": "stream",
     "text": [
      "Finished processing rows. Saved to Responses/news_human_text_none_phi-2.csv.\n",
      "Processing dataset: src/news_dataset_clean.csv, author: gpt, with LM: microsoft/phi-2\n"
     ]
    },
    {
     "data": {
      "application/vnd.jupyter.widget-view+json": {
       "model_id": "357d06e0e9064c97a5f0526874910633",
       "version_major": 2,
       "version_minor": 0
      },
      "text/plain": [
       "Loading checkpoint shards:   0%|          | 0/2 [00:00<?, ?it/s]"
      ]
     },
     "metadata": {},
     "output_type": "display_data"
    },
    {
     "name": "stderr",
     "output_type": "stream",
     "text": [
      "Processing rows: 100%|██████████████████████████████████████████████████████████████████████████████████████████████████████████████████████████████████████████████████████████████████████████████████████████████████████████████████████████████████| 1500/1500 [00:02<00:00, 562.58row/s]\n"
     ]
    },
    {
     "name": "stdout",
     "output_type": "stream",
     "text": [
      "Finished processing rows. Saved to Responses/news_gpt_none_phi-2.csv.\n",
      "Processing dataset: src/news_dataset_clean.csv, author: Llama3.1_clean, with LM: microsoft/phi-2\n"
     ]
    },
    {
     "data": {
      "application/vnd.jupyter.widget-view+json": {
       "model_id": "5a611c62fd0a400685b3de4e2b6e7404",
       "version_major": 2,
       "version_minor": 0
      },
      "text/plain": [
       "Loading checkpoint shards:   0%|          | 0/2 [00:00<?, ?it/s]"
      ]
     },
     "metadata": {},
     "output_type": "display_data"
    },
    {
     "name": "stderr",
     "output_type": "stream",
     "text": [
      "Processing rows: 100%|██████████████████████████████████████████████████████████████████████████████████████████████████████████████████████████████████████████████████████████████████████████████████████████████████████████████████████████████████| 1500/1500 [00:03<00:00, 401.82row/s]\n"
     ]
    },
    {
     "name": "stdout",
     "output_type": "stream",
     "text": [
      "Finished processing rows. Saved to Responses/news_Llama3.1_clean_none_phi-2.csv.\n",
      "Processing dataset: src/news_dataset_clean.csv, author: Falcon_clean, with LM: microsoft/phi-2\n"
     ]
    },
    {
     "data": {
      "application/vnd.jupyter.widget-view+json": {
       "model_id": "dbcaa55e032e466cb74fc5c7da9f1e05",
       "version_major": 2,
       "version_minor": 0
      },
      "text/plain": [
       "Loading checkpoint shards:   0%|          | 0/2 [00:00<?, ?it/s]"
      ]
     },
     "metadata": {},
     "output_type": "display_data"
    },
    {
     "name": "stderr",
     "output_type": "stream",
     "text": [
      "Processing rows: 100%|██████████████████████████████████████████████████████████████████████████████████████████████████████████████████████████████████████████████████████████████████████████████████████████████████████████████████████████████████| 1500/1500 [00:02<00:00, 624.24row/s]\n"
     ]
    },
    {
     "name": "stdout",
     "output_type": "stream",
     "text": [
      "Finished processing rows. Saved to Responses/news_Falcon_clean_none_phi-2.csv.\n",
      "Processing dataset: src/news_dataset_clean.csv, author: R1_clean, with LM: microsoft/phi-2\n"
     ]
    },
    {
     "data": {
      "application/vnd.jupyter.widget-view+json": {
       "model_id": "e84694d64fd4442289c3cef292a8b04e",
       "version_major": 2,
       "version_minor": 0
      },
      "text/plain": [
       "Loading checkpoint shards:   0%|          | 0/2 [00:00<?, ?it/s]"
      ]
     },
     "metadata": {},
     "output_type": "display_data"
    },
    {
     "name": "stderr",
     "output_type": "stream",
     "text": [
      "Processing rows: 100%|███████████████████████████████████████████████████████████████████████████████████████████████████████████████████████████████████████████████████████████████████████████████████████████████████████████████████████████████████| 1500/1500 [17:13<00:00,  1.45row/s]\n"
     ]
    },
    {
     "name": "stdout",
     "output_type": "stream",
     "text": [
      "Finished processing rows. Saved to Responses/news_R1_clean_none_phi-2.csv.\n",
      "Processing dataset: src/abstracts_dataset_clean.csv, author: human_text, with LM: microsoft/phi-2\n"
     ]
    },
    {
     "data": {
      "application/vnd.jupyter.widget-view+json": {
       "model_id": "f42a928cc1c245b28558a2cf3f798a50",
       "version_major": 2,
       "version_minor": 0
      },
      "text/plain": [
       "Loading checkpoint shards:   0%|          | 0/2 [00:00<?, ?it/s]"
      ]
     },
     "metadata": {},
     "output_type": "display_data"
    },
    {
     "name": "stderr",
     "output_type": "stream",
     "text": [
      "Processing rows: 100%|█████████████████████████████████████████████████████████████████████████████████████████████████████████████████████████████████████████████████████████████████████████████████████████████████████████████████████████████████| 1500/1500 [00:00<00:00, 6052.85row/s]\n"
     ]
    },
    {
     "name": "stdout",
     "output_type": "stream",
     "text": [
      "Finished processing rows. Saved to Responses/abstracts_human_text_none_phi-2.csv.\n",
      "Processing dataset: src/abstracts_dataset_clean.csv, author: gpt, with LM: microsoft/phi-2\n"
     ]
    },
    {
     "data": {
      "application/vnd.jupyter.widget-view+json": {
       "model_id": "5902ded2a5f84e608dec6127bdfc253e",
       "version_major": 2,
       "version_minor": 0
      },
      "text/plain": [
       "Loading checkpoint shards:   0%|          | 0/2 [00:00<?, ?it/s]"
      ]
     },
     "metadata": {},
     "output_type": "display_data"
    },
    {
     "name": "stderr",
     "output_type": "stream",
     "text": [
      "Processing rows: 100%|█████████████████████████████████████████████████████████████████████████████████████████████████████████████████████████████████████████████████████████████████████████████████████████████████████████████████████████████████| 1500/1500 [00:00<00:00, 5856.97row/s]\n"
     ]
    },
    {
     "name": "stdout",
     "output_type": "stream",
     "text": [
      "Finished processing rows. Saved to Responses/abstracts_gpt_none_phi-2.csv.\n",
      "Processing dataset: src/abstracts_dataset_clean.csv, author: Llama3.1_clean, with LM: microsoft/phi-2\n"
     ]
    },
    {
     "data": {
      "application/vnd.jupyter.widget-view+json": {
       "model_id": "edf56fe919c742b7bbf24f88283f51a4",
       "version_major": 2,
       "version_minor": 0
      },
      "text/plain": [
       "Loading checkpoint shards:   0%|          | 0/2 [00:00<?, ?it/s]"
      ]
     },
     "metadata": {},
     "output_type": "display_data"
    },
    {
     "name": "stderr",
     "output_type": "stream",
     "text": [
      "Processing rows: 100%|█████████████████████████████████████████████████████████████████████████████████████████████████████████████████████████████████████████████████████████████████████████████████████████████████████████████████████████████████| 1500/1500 [00:00<00:00, 5204.20row/s]\n"
     ]
    },
    {
     "name": "stdout",
     "output_type": "stream",
     "text": [
      "Finished processing rows. Saved to Responses/abstracts_Llama3.1_clean_none_phi-2.csv.\n",
      "Processing dataset: src/abstracts_dataset_clean.csv, author: Falcon_clean, with LM: microsoft/phi-2\n"
     ]
    },
    {
     "data": {
      "application/vnd.jupyter.widget-view+json": {
       "model_id": "70f6a9bb96644931bdcd5c15068f5ecb",
       "version_major": 2,
       "version_minor": 0
      },
      "text/plain": [
       "Loading checkpoint shards:   0%|          | 0/2 [00:00<?, ?it/s]"
      ]
     },
     "metadata": {},
     "output_type": "display_data"
    },
    {
     "name": "stderr",
     "output_type": "stream",
     "text": [
      "WARNING:root:Opening tag without closing in sentence 1: <br><br>.                                                                                                                                                                                                   | 0/1500 [00:00<?, ?row/s]\n",
      "WARNING:root:Opening tag without closing in sentence 2: The story begins with a simple question: \"What is a monad?\"<br>\n",
      "WARNING:root:Opening tag without closing in sentence 1: HD <sup>92945</sup>.███████████████████████████████████████████████████████████████████████████████████████████████████████████████████████████████████████████                                | 1287/1500 [00:00<00:00, 6585.13row/s]\n",
      "WARNING:root:Opening tag without closing in sentence 2: using the Hubble Space Telescope (HST) <i>Spitzer</i>.\n",
      "WARNING:root:Opening tag without closing in sentence 3: Infrared Spectrograph (<i>IRS</i>) and the Spitzer Infrared Array Camera (IRAC).\n",
      "WARNING:root:Opening tag without closing in sentence 4: <br><br>.\n",
      "WARNING:root:Opening tag without closing in sentence 5: We find that the debris disk has a radius of 0.6 <i><sub>R</sub></i>.\n",
      "WARNING:root:Opening tag without closing in sentence 6: <sub><i>d</i></sub>.\n",
      "WARNING:root:Opening tag without closing in sentence 7: and a mass-to-flux ratio of 1.5 <i>/</i>.\n",
      "WARNING:root:Opening tag without closing in sentence 8: 10<sup>-4</sup>.\n",
      "WARNING:root:Opening tag without closing in sentence 9: M<sub>☉</sub>.\n",
      "WARNING:root:Opening tag without closing in sentence 10: <sup><sub>-1</sub></sup>.\n",
      "WARNING:root:Opening tag without closing in sentence 11: <br>.\n",
      "WARNING:root:Opening tag without closing in sentence 12: <br>.<br><br>.\n",
      "Processing rows: 100%|█████████████████████████████████████████████████████████████████████████████████████████████████████████████████████████████████████████████████████████████████████████████████████████████████████████████████████████████████| 1500/1500 [00:00<00:00, 5522.42row/s]\n"
     ]
    },
    {
     "name": "stdout",
     "output_type": "stream",
     "text": [
      "Finished processing rows. Saved to Responses/abstracts_Falcon_clean_none_phi-2.csv.\n",
      "Processing dataset: src/abstracts_dataset_clean.csv, author: R1_clean, with LM: microsoft/phi-2\n"
     ]
    },
    {
     "data": {
      "application/vnd.jupyter.widget-view+json": {
       "model_id": "d0d1e753ba52485991db189b2893fb12",
       "version_major": 2,
       "version_minor": 0
      },
      "text/plain": [
       "Loading checkpoint shards:   0%|          | 0/2 [00:00<?, ?it/s]"
      ]
     },
     "metadata": {},
     "output_type": "display_data"
    },
    {
     "name": "stderr",
     "output_type": "stream",
     "text": [
      "Processing rows: 100%|███████████████████████████████████████████████████████████████████████████████████████████████████████████████████████████████████████████████████████████████████████████████████████████████████████████████████████████████████| 1500/1500 [07:55<00:00,  3.15row/s]\n"
     ]
    },
    {
     "name": "stdout",
     "output_type": "stream",
     "text": [
      "Finished processing rows. Saved to Responses/abstracts_R1_clean_none_phi-2.csv.\n",
      "Processing dataset: src/wiki_dataset_clean.csv, author: human_text, with LM: tiiuae/falcon-7b\n"
     ]
    },
    {
     "data": {
      "application/vnd.jupyter.widget-view+json": {
       "model_id": "a9132d5e6c8244498f4f6f55ef00ddfc",
       "version_major": 2,
       "version_minor": 0
      },
      "text/plain": [
       "Loading checkpoint shards:   0%|          | 0/2 [00:00<?, ?it/s]"
      ]
     },
     "metadata": {},
     "output_type": "display_data"
    },
    {
     "name": "stderr",
     "output_type": "stream",
     "text": [
      "Processing rows: 100%|█████████████████████████████████████████████████████████████████████████████████████████████████████████████████████████████████████████████████████████████████████████████████████████████████████████████████████████████████| 1500/1500 [00:00<00:00, 6882.03row/s]\n"
     ]
    },
    {
     "name": "stdout",
     "output_type": "stream",
     "text": [
      "Finished processing rows. Saved to Responses/wiki_human_text_none_falcon-7b.csv.\n",
      "Processing dataset: src/wiki_dataset_clean.csv, author: gpt, with LM: tiiuae/falcon-7b\n"
     ]
    },
    {
     "data": {
      "application/vnd.jupyter.widget-view+json": {
       "model_id": "006925b55c4f432083de6b1632fe6a93",
       "version_major": 2,
       "version_minor": 0
      },
      "text/plain": [
       "Loading checkpoint shards:   0%|          | 0/2 [00:00<?, ?it/s]"
      ]
     },
     "metadata": {},
     "output_type": "display_data"
    },
    {
     "name": "stderr",
     "output_type": "stream",
     "text": [
      "Processing rows: 100%|█████████████████████████████████████████████████████████████████████████████████████████████████████████████████████████████████████████████████████████████████████████████████████████████████████████████████████████████████| 1500/1500 [00:00<00:00, 6175.50row/s]\n"
     ]
    },
    {
     "name": "stdout",
     "output_type": "stream",
     "text": [
      "Finished processing rows. Saved to Responses/wiki_gpt_none_falcon-7b.csv.\n",
      "Processing dataset: src/wiki_dataset_clean.csv, author: Llama3.1_clean, with LM: tiiuae/falcon-7b\n"
     ]
    },
    {
     "data": {
      "application/vnd.jupyter.widget-view+json": {
       "model_id": "17c6d4f6122541c389434e17c75ba54a",
       "version_major": 2,
       "version_minor": 0
      },
      "text/plain": [
       "Loading checkpoint shards:   0%|          | 0/2 [00:00<?, ?it/s]"
      ]
     },
     "metadata": {},
     "output_type": "display_data"
    },
    {
     "name": "stderr",
     "output_type": "stream",
     "text": [
      "Processing rows: 100%|█████████████████████████████████████████████████████████████████████████████████████████████████████████████████████████████████████████████████████████████████████████████████████████████████████████████████████████████████| 1500/1500 [00:00<00:00, 6496.29row/s]\n"
     ]
    },
    {
     "name": "stdout",
     "output_type": "stream",
     "text": [
      "Finished processing rows. Saved to Responses/wiki_Llama3.1_clean_none_falcon-7b.csv.\n",
      "Processing dataset: src/wiki_dataset_clean.csv, author: Falcon_clean, with LM: tiiuae/falcon-7b\n"
     ]
    },
    {
     "data": {
      "application/vnd.jupyter.widget-view+json": {
       "model_id": "77fb3659d51d455692202e75169d49a1",
       "version_major": 2,
       "version_minor": 0
      },
      "text/plain": [
       "Loading checkpoint shards:   0%|          | 0/2 [00:00<?, ?it/s]"
      ]
     },
     "metadata": {},
     "output_type": "display_data"
    },
    {
     "name": "stderr",
     "output_type": "stream",
     "text": [
      "WARNING:root:Closing tag without opening in sentence 0: Thushari Jayasekera is a Sri Lankan-American actress, <a href=\"https://en.wikipedia.org/wiki/Thushari_Jayasekera\" target=\"_blank\" rel=\"noopener noreferrer\">Wikipedia</a>.                                  | 0/1500 [00:00<?, ?row/s]\n",
      "WARNING:root:Closing tag without opening in sentence 0: Reginald Purdell (4 November 1896 – 22 <a href=\"https://en.wikipedia.org/wiki/Reginald_Purdell\" target=\"_blank\" rel=\"noopener noreferrer\">Wikipedia</a>. article \"Reginald <em>Purdell</em>\".</p>. </div>.\n",
      "WARNING:root:Closing tag without opening in sentence 1: </body>.\n",
      "WARNING:root:Closing tag without opening in sentence 2: </html>\n",
      "WARNING:root:Closing tag without opening in sentence 0: Terry Fossum is an American businessperson and <a href=\"https://en.wikipedia.org/wiki/Terry_Fossum\">entrepreneur</a>.                                                                           | 222/1500 [00:00<00:00, 2202.24row/s]\n",
      "WARNING:root:Closing tag without opening in sentence 1: He is the founder and CEO of <a class=\"mw-redirect\" href=\"http://www.terryfossum.com/\" title=\"Terry Fossum\">Terry Fossum</a>. & Associates, a business consulting firm.\n",
      "WARNING:root:Closing tag without opening in sentence 0: Karl-Erik Åström (18 April 1924 - 9 <a href=\"https://en.wikipedia.org/wiki/Karl_Erik_Åström\" target=\"_blank\" rel=\"noopener noreferrer\">Wikipedia</a>.</p>.\n",
      "WARNING:root:Closing tag without opening in sentence 1: </div>.\n",
      "WARNING:root:Closing tag without opening in sentence 2: </body>.\n",
      "WARNING:root:Closing tag without opening in sentence 3: </html>\n",
      "WARNING:root:Closing tag without opening in sentence 0: William T. Cannady (born 1937) is an <a href=\"https://en.wikipedia.org/wiki/American_politician\" target=\"_blank\">American politician</a>. who served as a member of the U.S. House of Representatives from 1979 to 1993. 2914.05row/s]\n",
      "WARNING:root:Closing tag without opening in sentence 1: Cannady was born in 1937 in <a class=\"mw-redirect\" href=\"https:/ | | <a target=\"_blank\" href=\"http://www.washingtonpost.com/news/politics/wp-dyn/content/article/2007/02/26/AR2007022601593.html\">The Washington Post</a>, 2007-02-26</li>.\n",
      "WARNING:root:Closing tag without opening in sentence 2: </ul>.\n",
      "WARNING:root:Closing tag without opening in sentence 3: </div>.\n",
      "WARNING:root:Closing tag without opening in sentence 4: </body>.\n",
      "WARNING:root:Closing tag without opening in sentence 5: </html>\n",
      "WARNING:root:Closing tag without opening in sentence 0: is a Japanese avant-garde playwright, theatre director, <a href=\"https://en.wikipedia.org/wiki/Jur%C3%A9_Kara\" target=\"_blank\" rel=\"noopener noreferrer\">playwright</a>. and theatre director.\n",
      "WARNING:root:Closing tag without opening in sentence 0: Heinrich Krone (1 December 1895 – 15 <a href=\"https://en.wikipedia.org/wiki/Heinrich_Krone\" target=\"_blank\" rel=\"noopener noreferrer\">Wikipedia</a>.                                            | 926/1500 [00:00<00:00, 2729.18row/s]\n",
      "WARNING:root:Closing tag without opening in sentence 1: article \"Heinrich <span style=\"font-style: italic;\">Krone</span>\".</p>.\n",
      "WARNING:root:Closing tag without opening in sentence 2: </div>.\n",
      "WARNING:root:Closing tag without opening in sentence 3: </body>.\n",
      "WARNING:root:Closing tag without opening in sentence 4: </html>\n",
      "WARNING:root:Closing tag without opening in sentence 0: Andy Umberger is an American actor who <a href=\"https://en.wikipedia.org/wiki/Andy_Umberger\" target=\"_blank\" rel=\"noopener noreferrer\">starred</a>.\n",
      "Processing rows: 100%|█████████████████████████████████████████████████████████████████████████████████████████████████████████████████████████████████████████████████████████████████████████████████████████████████████████████████████████████████| 1500/1500 [00:00<00:00, 3091.10row/s]\n"
     ]
    },
    {
     "name": "stdout",
     "output_type": "stream",
     "text": [
      "Finished processing rows. Saved to Responses/wiki_Falcon_clean_none_falcon-7b.csv.\n",
      "Processing dataset: src/wiki_dataset_clean.csv, author: R1_clean, with LM: tiiuae/falcon-7b\n"
     ]
    },
    {
     "data": {
      "application/vnd.jupyter.widget-view+json": {
       "model_id": "fa2351a1f80943f5af0aa576e020c051",
       "version_major": 2,
       "version_minor": 0
      },
      "text/plain": [
       "Loading checkpoint shards:   0%|          | 0/2 [00:00<?, ?it/s]"
      ]
     },
     "metadata": {},
     "output_type": "display_data"
    },
    {
     "name": "stderr",
     "output_type": "stream",
     "text": [
      "Processing rows: 100%|███████████████████████████████████████████████████████████████████████████████████████████████████████████████████████████████████████████████████████████████████████████████████████████████████████████████████████████████████| 1500/1500 [12:22<00:00,  2.02row/s]\n"
     ]
    },
    {
     "name": "stdout",
     "output_type": "stream",
     "text": [
      "Finished processing rows. Saved to Responses/wiki_R1_clean_none_falcon-7b.csv.\n",
      "Processing dataset: src/news_dataset_clean.csv, author: human_text, with LM: tiiuae/falcon-7b\n"
     ]
    },
    {
     "data": {
      "application/vnd.jupyter.widget-view+json": {
       "model_id": "b1300f4e3d6540de890b40041f94a2db",
       "version_major": 2,
       "version_minor": 0
      },
      "text/plain": [
       "Loading checkpoint shards:   0%|          | 0/2 [00:00<?, ?it/s]"
      ]
     },
     "metadata": {},
     "output_type": "display_data"
    },
    {
     "name": "stderr",
     "output_type": "stream",
     "text": [
      "Processing rows: 100%|██████████████████████████████████████████████████████████████████████████████████████████████████████████████████████████████████████████████████████████████████████████████████████████████████████████████████████████████████| 1500/1500 [00:03<00:00, 457.99row/s]\n"
     ]
    },
    {
     "name": "stdout",
     "output_type": "stream",
     "text": [
      "Finished processing rows. Saved to Responses/news_human_text_none_falcon-7b.csv.\n",
      "Processing dataset: src/news_dataset_clean.csv, author: gpt, with LM: tiiuae/falcon-7b\n"
     ]
    },
    {
     "data": {
      "application/vnd.jupyter.widget-view+json": {
       "model_id": "f42422da08fd4e7baedb6ba3634c694a",
       "version_major": 2,
       "version_minor": 0
      },
      "text/plain": [
       "Loading checkpoint shards:   0%|          | 0/2 [00:00<?, ?it/s]"
      ]
     },
     "metadata": {},
     "output_type": "display_data"
    },
    {
     "name": "stderr",
     "output_type": "stream",
     "text": [
      "Processing rows: 100%|██████████████████████████████████████████████████████████████████████████████████████████████████████████████████████████████████████████████████████████████████████████████████████████████████████████████████████████████████| 1500/1500 [00:02<00:00, 559.91row/s]\n"
     ]
    },
    {
     "name": "stdout",
     "output_type": "stream",
     "text": [
      "Finished processing rows. Saved to Responses/news_gpt_none_falcon-7b.csv.\n",
      "Processing dataset: src/news_dataset_clean.csv, author: Llama3.1_clean, with LM: tiiuae/falcon-7b\n"
     ]
    },
    {
     "data": {
      "application/vnd.jupyter.widget-view+json": {
       "model_id": "f3d48d1f6270485e9239c8c1076c0336",
       "version_major": 2,
       "version_minor": 0
      },
      "text/plain": [
       "Loading checkpoint shards:   0%|          | 0/2 [00:00<?, ?it/s]"
      ]
     },
     "metadata": {},
     "output_type": "display_data"
    },
    {
     "name": "stderr",
     "output_type": "stream",
     "text": [
      "Processing rows: 100%|██████████████████████████████████████████████████████████████████████████████████████████████████████████████████████████████████████████████████████████████████████████████████████████████████████████████████████████████████| 1500/1500 [00:03<00:00, 402.13row/s]\n"
     ]
    },
    {
     "name": "stdout",
     "output_type": "stream",
     "text": [
      "Finished processing rows. Saved to Responses/news_Llama3.1_clean_none_falcon-7b.csv.\n",
      "Processing dataset: src/news_dataset_clean.csv, author: Falcon_clean, with LM: tiiuae/falcon-7b\n"
     ]
    },
    {
     "data": {
      "application/vnd.jupyter.widget-view+json": {
       "model_id": "5ce3b00362de428ab9f28652d1d248e4",
       "version_major": 2,
       "version_minor": 0
      },
      "text/plain": [
       "Loading checkpoint shards:   0%|          | 0/2 [00:00<?, ?it/s]"
      ]
     },
     "metadata": {},
     "output_type": "display_data"
    },
    {
     "name": "stderr",
     "output_type": "stream",
     "text": [
      "Processing rows: 100%|██████████████████████████████████████████████████████████████████████████████████████████████████████████████████████████████████████████████████████████████████████████████████████████████████████████████████████████████████| 1500/1500 [00:02<00:00, 625.28row/s]\n"
     ]
    },
    {
     "name": "stdout",
     "output_type": "stream",
     "text": [
      "Finished processing rows. Saved to Responses/news_Falcon_clean_none_falcon-7b.csv.\n",
      "Processing dataset: src/news_dataset_clean.csv, author: R1_clean, with LM: tiiuae/falcon-7b\n"
     ]
    },
    {
     "data": {
      "application/vnd.jupyter.widget-view+json": {
       "model_id": "313c64ea2bb94452b10ad9f62bd3b364",
       "version_major": 2,
       "version_minor": 0
      },
      "text/plain": [
       "Loading checkpoint shards:   0%|          | 0/2 [00:00<?, ?it/s]"
      ]
     },
     "metadata": {},
     "output_type": "display_data"
    },
    {
     "name": "stderr",
     "output_type": "stream",
     "text": [
      "Processing rows: 100%|███████████████████████████████████████████████████████████████████████████████████████████████████████████████████████████████████████████████████████████████████████████████████████████████████████████████████████████████████| 1500/1500 [32:24<00:00,  1.30s/row]\n"
     ]
    },
    {
     "name": "stdout",
     "output_type": "stream",
     "text": [
      "Finished processing rows. Saved to Responses/news_R1_clean_none_falcon-7b.csv.\n",
      "Processing dataset: src/abstracts_dataset_clean.csv, author: human_text, with LM: tiiuae/falcon-7b\n"
     ]
    },
    {
     "data": {
      "application/vnd.jupyter.widget-view+json": {
       "model_id": "19504d2b93a342249e73a69a5e226b5a",
       "version_major": 2,
       "version_minor": 0
      },
      "text/plain": [
       "Loading checkpoint shards:   0%|          | 0/2 [00:00<?, ?it/s]"
      ]
     },
     "metadata": {},
     "output_type": "display_data"
    },
    {
     "name": "stderr",
     "output_type": "stream",
     "text": [
      "Processing rows: 100%|█████████████████████████████████████████████████████████████████████████████████████████████████████████████████████████████████████████████████████████████████████████████████████████████████████████████████████████████████| 1500/1500 [00:00<00:00, 5998.42row/s]\n"
     ]
    },
    {
     "name": "stdout",
     "output_type": "stream",
     "text": [
      "Finished processing rows. Saved to Responses/abstracts_human_text_none_falcon-7b.csv.\n",
      "Processing dataset: src/abstracts_dataset_clean.csv, author: gpt, with LM: tiiuae/falcon-7b\n"
     ]
    },
    {
     "data": {
      "application/vnd.jupyter.widget-view+json": {
       "model_id": "d8df652740ec4d42891169d4dc5ad816",
       "version_major": 2,
       "version_minor": 0
      },
      "text/plain": [
       "Loading checkpoint shards:   0%|          | 0/2 [00:00<?, ?it/s]"
      ]
     },
     "metadata": {},
     "output_type": "display_data"
    },
    {
     "name": "stderr",
     "output_type": "stream",
     "text": [
      "Processing rows: 100%|█████████████████████████████████████████████████████████████████████████████████████████████████████████████████████████████████████████████████████████████████████████████████████████████████████████████████████████████████| 1500/1500 [00:00<00:00, 5656.02row/s]\n"
     ]
    },
    {
     "name": "stdout",
     "output_type": "stream",
     "text": [
      "Finished processing rows. Saved to Responses/abstracts_gpt_none_falcon-7b.csv.\n",
      "Processing dataset: src/abstracts_dataset_clean.csv, author: Llama3.1_clean, with LM: tiiuae/falcon-7b\n"
     ]
    },
    {
     "data": {
      "application/vnd.jupyter.widget-view+json": {
       "model_id": "a8c0b3887aa04b8e8a524a906fd812d7",
       "version_major": 2,
       "version_minor": 0
      },
      "text/plain": [
       "Loading checkpoint shards:   0%|          | 0/2 [00:00<?, ?it/s]"
      ]
     },
     "metadata": {},
     "output_type": "display_data"
    },
    {
     "name": "stderr",
     "output_type": "stream",
     "text": [
      "Processing rows: 100%|█████████████████████████████████████████████████████████████████████████████████████████████████████████████████████████████████████████████████████████████████████████████████████████████████████████████████████████████████| 1500/1500 [00:00<00:00, 5282.83row/s]\n"
     ]
    },
    {
     "name": "stdout",
     "output_type": "stream",
     "text": [
      "Finished processing rows. Saved to Responses/abstracts_Llama3.1_clean_none_falcon-7b.csv.\n",
      "Processing dataset: src/abstracts_dataset_clean.csv, author: Falcon_clean, with LM: tiiuae/falcon-7b\n"
     ]
    },
    {
     "data": {
      "application/vnd.jupyter.widget-view+json": {
       "model_id": "c38ccd3904024dee8538691ba9efc98d",
       "version_major": 2,
       "version_minor": 0
      },
      "text/plain": [
       "Loading checkpoint shards:   0%|          | 0/2 [00:00<?, ?it/s]"
      ]
     },
     "metadata": {},
     "output_type": "display_data"
    },
    {
     "name": "stderr",
     "output_type": "stream",
     "text": [
      "WARNING:root:Opening tag without closing in sentence 1: <br><br>.                                                                                                                                                                                                   | 0/1500 [00:00<?, ?row/s]\n",
      "WARNING:root:Opening tag without closing in sentence 2: The story begins with a simple question: \"What is a monad?\"<br>\n",
      "WARNING:root:Opening tag without closing in sentence 1: HD <sup>92945</sup>.████████████████████████████████████████████████████████████████████████████████████████████████████████████████████████████████████████████████▏                          | 1321/1500 [00:00<00:00, 6756.59row/s]\n",
      "WARNING:root:Opening tag without closing in sentence 2: using the Hubble Space Telescope (HST) <i>Spitzer</i>.\n",
      "WARNING:root:Opening tag without closing in sentence 3: Infrared Spectrograph (<i>IRS</i>) and the Spitzer Infrared Array Camera (IRAC).\n",
      "WARNING:root:Opening tag without closing in sentence 4: <br><br>.\n",
      "WARNING:root:Opening tag without closing in sentence 5: We find that the debris disk has a radius of 0.6 <i><sub>R</sub></i>.\n",
      "WARNING:root:Opening tag without closing in sentence 6: <sub><i>d</i></sub>.\n",
      "WARNING:root:Opening tag without closing in sentence 7: and a mass-to-flux ratio of 1.5 <i>/</i>.\n",
      "WARNING:root:Opening tag without closing in sentence 8: 10<sup>-4</sup>.\n",
      "WARNING:root:Opening tag without closing in sentence 9: M<sub>☉</sub>.\n",
      "WARNING:root:Opening tag without closing in sentence 10: <sup><sub>-1</sub></sup>.\n",
      "WARNING:root:Opening tag without closing in sentence 11: <br>.\n",
      "WARNING:root:Opening tag without closing in sentence 12: <br>.<br><br>.\n",
      "Processing rows: 100%|█████████████████████████████████████████████████████████████████████████████████████████████████████████████████████████████████████████████████████████████████████████████████████████████████████████████████████████████████| 1500/1500 [00:00<00:00, 5680.77row/s]\n"
     ]
    },
    {
     "name": "stdout",
     "output_type": "stream",
     "text": [
      "Finished processing rows. Saved to Responses/abstracts_Falcon_clean_none_falcon-7b.csv.\n",
      "Processing dataset: src/abstracts_dataset_clean.csv, author: R1_clean, with LM: tiiuae/falcon-7b\n"
     ]
    },
    {
     "data": {
      "application/vnd.jupyter.widget-view+json": {
       "model_id": "42eb9fd0f5c349f3baba3af96d86ae46",
       "version_major": 2,
       "version_minor": 0
      },
      "text/plain": [
       "Loading checkpoint shards:   0%|          | 0/2 [00:00<?, ?it/s]"
      ]
     },
     "metadata": {},
     "output_type": "display_data"
    },
    {
     "name": "stderr",
     "output_type": "stream",
     "text": [
      "Processing rows: 100%|███████████████████████████████████████████████████████████████████████████████████████████████████████████████████████████████████████████████████████████████████████████████████████████████████████████████████████████████████| 1500/1500 [15:52<00:00,  1.57row/s]\n"
     ]
    },
    {
     "name": "stdout",
     "output_type": "stream",
     "text": [
      "Finished processing rows. Saved to Responses/abstracts_R1_clean_none_falcon-7b.csv.\n",
      "Processing dataset: src/wiki_dataset_clean.csv, author: human_text, with LM: deepseek-ai/DeepSeek-R1-Distill-Qwen-7B\n"
     ]
    },
    {
     "data": {
      "application/vnd.jupyter.widget-view+json": {
       "model_id": "57da73152251470f9ad52b2e0a83a24a",
       "version_major": 2,
       "version_minor": 0
      },
      "text/plain": [
       "Downloading shards:   0%|          | 0/2 [00:00<?, ?it/s]"
      ]
     },
     "metadata": {},
     "output_type": "display_data"
    },
    {
     "data": {
      "application/vnd.jupyter.widget-view+json": {
       "model_id": "b242066ea17541888111b509e64b304d",
       "version_major": 2,
       "version_minor": 0
      },
      "text/plain": [
       "Loading checkpoint shards:   0%|          | 0/2 [00:00<?, ?it/s]"
      ]
     },
     "metadata": {},
     "output_type": "display_data"
    },
    {
     "name": "stderr",
     "output_type": "stream",
     "text": [
      "Processing rows: 100%|███████████████████████████████████████████████████████████████████████████████████████████████████████████████████████████████████████████████████████████████████████████████████████████████████████████████████████████████████| 1500/1500 [14:40<00:00,  1.70row/s]\n"
     ]
    },
    {
     "name": "stdout",
     "output_type": "stream",
     "text": [
      "Finished processing rows. Saved to Responses/wiki_human_text_none_DeepSeek-R1-Distill-Qwen-7B.csv.\n",
      "Processing dataset: src/wiki_dataset_clean.csv, author: gpt, with LM: deepseek-ai/DeepSeek-R1-Distill-Qwen-7B\n"
     ]
    },
    {
     "data": {
      "application/vnd.jupyter.widget-view+json": {
       "model_id": "0d205345e49a4b278f8786a6833b92df",
       "version_major": 2,
       "version_minor": 0
      },
      "text/plain": [
       "Loading checkpoint shards:   0%|          | 0/2 [00:00<?, ?it/s]"
      ]
     },
     "metadata": {},
     "output_type": "display_data"
    },
    {
     "name": "stderr",
     "output_type": "stream",
     "text": [
      "Processing rows: 100%|███████████████████████████████████████████████████████████████████████████████████████████████████████████████████████████████████████████████████████████████████████████████████████████████████████████████████████████████████| 1500/1500 [17:07<00:00,  1.46row/s]\n"
     ]
    },
    {
     "name": "stdout",
     "output_type": "stream",
     "text": [
      "Finished processing rows. Saved to Responses/wiki_gpt_none_DeepSeek-R1-Distill-Qwen-7B.csv.\n",
      "Processing dataset: src/wiki_dataset_clean.csv, author: Llama3.1_clean, with LM: deepseek-ai/DeepSeek-R1-Distill-Qwen-7B\n"
     ]
    },
    {
     "data": {
      "application/vnd.jupyter.widget-view+json": {
       "model_id": "e45eeee195884aeb8351e5cc0d148579",
       "version_major": 2,
       "version_minor": 0
      },
      "text/plain": [
       "Loading checkpoint shards:   0%|          | 0/2 [00:00<?, ?it/s]"
      ]
     },
     "metadata": {},
     "output_type": "display_data"
    },
    {
     "name": "stderr",
     "output_type": "stream",
     "text": [
      "Processing rows: 100%|███████████████████████████████████████████████████████████████████████████████████████████████████████████████████████████████████████████████████████████████████████████████████████████████████████████████████████████████████| 1500/1500 [16:19<00:00,  1.53row/s]\n"
     ]
    },
    {
     "name": "stdout",
     "output_type": "stream",
     "text": [
      "Finished processing rows. Saved to Responses/wiki_Llama3.1_clean_none_DeepSeek-R1-Distill-Qwen-7B.csv.\n",
      "Processing dataset: src/wiki_dataset_clean.csv, author: Falcon_clean, with LM: deepseek-ai/DeepSeek-R1-Distill-Qwen-7B\n"
     ]
    },
    {
     "data": {
      "application/vnd.jupyter.widget-view+json": {
       "model_id": "76ce80e9bdf64a148a5b6f15cdc32cdb",
       "version_major": 2,
       "version_minor": 0
      },
      "text/plain": [
       "Loading checkpoint shards:   0%|          | 0/2 [00:00<?, ?it/s]"
      ]
     },
     "metadata": {},
     "output_type": "display_data"
    },
    {
     "name": "stderr",
     "output_type": "stream",
     "text": [
      "WARNING:root:Closing tag without opening in sentence 0: The Blackest Beautiful is the third studio <a href=\"https://en.wikipedia.org/wiki/Erykah_Badu\" target=\"_blank\" rel=\"noopener noreferrer\">album</a>.                                                 | 8/1500 [00:05<13:47,  1.80row/s]\n",
      "WARNING:root:Opening tag without closing in sentence 6: <b>Hot R&B/Hip-Hop Songs</b>.\n",
      "WARNING:root:Closing tag without opening in sentence 0: Pamela J. Peters is an Indigenous multimedia <a href=\"https://en.wikipedia.org/wiki/Pamela_J._Peters\" target=\"_blank\" rel=\"noopener noreferrer nofollow\">artist</a>.                               | 29/1500 [00:16<16:02,  1.53row/s]\n",
      "WARNING:root:Closing tag without opening in sentence 2: Peters was born in 1960 in <a class=\"mw-redirect\" href=\"http://maps.google.com/maps?f=q&amp;hl=en&amp;geocode=&amp;q=Pamela+J.+Peters&amp;t=m&amp;z=18&amp;layer=c&amp;cbll=40.7591,-73.9852&amp;panoid=yWQXQXQkpWQXWQXpWQ&amp;output=embed&amp;hq=1&amp;hnear=New+York%2C+New+York&amp;gl=us&amp;sa=X&amp;ved=2ahUKEwjZqY-v9_v1AhXKXc0KHf9_Bn0Q_AUoAXoECAwQAw&amp;biw=1920&amp; bih=948&amp;dpr=1#maps=1\">New York City</a>.\n",
      "WARNING:root:Closing tag without opening in sentence 0: Joseph Marlow (12 December 1854 – 8 <a href=\"https://en.wikipedia.org/wiki/Joseph_Marlow\" title=\"Joseph Marlow\">Joseph Marlow</a>. was born on December 12, 1854.                                  | 43/1500 [00:23<09:58,  2.43row/s]\n",
      "WARNING:root:Closing tag without opening in sentence 0: Thushari Jayasekera is a Sri Lankan-American actress, <a href=\"https://en.wikipedia.org/wiki/Thushari_Jayasekera\" target=\"_blank\" rel=\"noopener noreferrer\">Wikipedia</a>.                         | 51/1500 [00:26<11:31,  2.10row/s]\n",
      "WARNING:root:Closing tag without opening in sentence 0: \"Tongues\" is a song by American indie <a href=\"https://en.wikipedia.org/wiki/Sufjan_Stevens\">Sufjan Stevens</a>.                                                                                   | 72/1500 [00:36<12:39,  1.88row/s]\n",
      "WARNING:root:Opening tag without closing in sentence 3: The song's title is a reference to the book of the same name by <i><a href=\"http://www.amazon.com/Tongues-Sufjan-Stevens/ref=sr_1_1?s=books&ie=UTF8&qid=1456475507&sr=1-1&keywords=tongues+sufjan+stevens\">Saul Bellow</a></i>.\n",
      "WARNING:root:Opening tag without closing in sentence 4: The song is a <a class=\"mw-redirect\" href=\"http:/ <i></i>.\n",
      "WARNING:root:Opening tag without closing in sentence 9: b><i>Hot 100</i></b>.\n",
      "WARNING:root:Opening tag without closing in sentence 11: The music video for the song was directed by <b></b>.\n",
      "WARNING:root:Opening tag without closing in sentence 15: The lyrics of the song are based on a passage from Bellow's 1964 novel \"<i>The Adventures of Augie March</i>\", in which the main character, Augie March, has a dream in which he is given the power to speak any language he wishes.\n",
      "WARNING:root:Closing tag without opening in sentence 0: Screeb is a small village in south-west <a href=\"https://en.wikipedia.org/wiki/United_Kingdom\">United Kingdom</a>.                                                                                 | 76/1500 [00:39<17:02,  1.39row/s]\n",
      "WARNING:root:Closing tag without opening in sentence 2: The village is located in the county of <span style=\"font-style:italic;\">Devon</span>.\n",
      "WARNING:root:Closing tag without opening in sentence 1: title=\"This Is Forever (band)\" class=\"mw-redirect\">This Is Forever</a>. album by <a class=\"new\" href=\"http://www.last.fm/\" title=\"Last.fm\" rel=\"nofollow\">Last.fm</a>.                             | 78/1500 [00:40<15:42,  1.51row/s]\n",
      "WARNING:root:Closing tag without opening in sentence 0: English musician Birdy has released four studio <a href=\"https://en.wikipedia.org/wiki/Birdy_(musician)\" target=\"_blank\" rel=\"noopener noreferrer\">albums</a>.                                    | 128/1500 [01:07<07:44,  2.95row/s]\n",
      "WARNING:root:Opening tag without closing in sentence 7: Birdy's third album, \"<i>Beautiful Lies</i>\", was released in September 2015.\n",
      "WARNING:root:Closing tag without opening in sentence 1: rel=\"noopener noreferrer\">formed</a>.                                                                                                                                                             | 155/1500 [01:19<07:34,  2.96row/s]\n",
      "WARNING:root:Closing tag without opening in sentence 0: The Order of Monfragüe was a Spanish <a href=\"https://en.wikipedia.org/wiki/Order_of_Monfrag%C3%B1e\" target=\"_blank\">military order</a>.                                                          | 162/1500 [01:22<11:20,  1.97row/s]\n",
      "WARNING:root:Closing tag without opening in sentence 2: It was named after the town of <a class=\"mw-redirect\" href=\"http://www.monfrague.es/\" target=\"_blank\" title=\"Monfrague\">Monfragué</a>.\n",
      "WARNING:root:Closing tag without opening in sentence 0: T.I.M.E. Soundtrack is a studio album by <a href=\"https://en.wikipedia.org/wiki/Timbaland\" target=\"_blank\">Timbaland</a>.                                                                         | 168/1500 [01:25<10:51,  2.05row/s]\n",
      "WARNING:root:Closing tag without opening in sentence 0: \"Hard\" is a song by Barbadian recording <a href=\"https://en.wikipedia.org/wiki/Shakira\">Shakira</a>.                                                                                              | 187/1500 [01:35<13:24,  1.63row/s]\n",
      "WARNING:root:Opening tag without closing in sentence 5: The song was produced by <b><a class=\"new\" href=\"/wiki/RedOne.html\" title=\"RedOne\">RedOne</a></b>.\n",
      "WARNING:root:Closing tag without opening in sentence 0: Keevin Galbraith (born 1979) attended high school <a href=\"https://en.wikipedia.org/wiki/Keevin_Galbraith\" target=\"_blank\" rel=\"noopener noreferrer\" data-wpel-link=\"external\"></a>.              | 213/1500 [01:49<10:10,  2.11row/s]\n",
      "WARNING:root:Closing tag without opening in sentence 1: and college in <span style=\"font-style: italic;\">New York</span>.\n",
      "WARNING:root:Opening tag without closing in sentence 4: He has also written for <i><a href=\"http://www.theatlantic.com/politics/archive/2016/03/kevin-galbraith-how-to-be-a-liberal-in-trump-s-america/\" target=\"_blank\">The Atlantic</a></i>.\n",
      "WARNING:root:Opening tag without closing in sentence 6: In 2016, Galbraith published his first book, '<i>How to Be a Liberal in Trump's America</i>'.\n",
      "WARNING:root:Closing tag without opening in sentence 0: Harrow Borough Football Club is an English <a href=\"https://en.wikipedia.org/wiki/Harrow_Borough_F.C.\">football club</a>.                                                                         | 214/1500 [01:49<08:22,  2.56row/s]\n",
      "WARNING:root:Closing tag without opening in sentence 3: The club currently plays in the <a class=\"mw-redirect\" href=\"http://www.football-lineups.com/england/harrow-borough/\" title=\"Harrow Borough\" rel=\"nofollow\">National League South</a>, the sixth tier of the English football league system.\n",
      "WARNING:root:Closing tag without opening in sentence 4: The club's home ground is the 10,000-capacity <a title=\"Hendon F.C.\" href=\"/wiki/Hendon_FC\">Hendon</a>.\n",
      "WARNING:root:Closing tag without opening in sentence 0: Reginald Purdell (4 November 1896 – 22 <a href=\"https://en.wikipedia.org/wiki/Reginald_Purdell\" target=\"_blank\" rel=\"noopener noreferrer\">Wikipedia</a>. article \"Reginald <em>Purdell</em>\".</p>. </div>.00 [01:53<10:35,  2.01row/s]\n",
      "WARNING:root:Closing tag without opening in sentence 1: </body>.\n",
      "WARNING:root:Closing tag without opening in sentence 2: </html>\n",
      "WARNING:root:Closing tag without opening in sentence 1: rel=\"noopener noreferrer\">De Brood Fabriek</a>.                                                                                                                                                   | 242/1500 [02:03<13:21,  1.57row/s]\n",
      "WARNING:root:Closing tag without opening in sentence 0: Halim Malkoč (12 August 1917 – 8 <a href=\"https://en.wikipedia.org/wiki/Halim_Malko%C3%ADc\" target=\"_blank\" rel=\"noopener noreferrer nofollow\">Halim</a>.                                         | 249/1500 [02:09<15:31,  1.34row/s]\n",
      "WARNING:root:Closing tag without opening in sentence 1: <span style=\"font-style: italic;\">Malkoč</span>.\n",
      "WARNING:root:Closing tag without opening in sentence 0: Xóchitl Castañeda is the Founding Director of <a href=\"https://en.wikipedia.org/wiki/Casa_de_la_Cultura_de_México\">Casa de la Cultura de México</a>.                                              | 257/1500 [02:13<10:23,  1.99row/s]\n",
      "WARNING:root:Opening tag without closing in sentence 8: In addition to her work at the Casa, Castaneda is also a member of the board of directors of the <i><a href=\"http://www.unam.edu.mx/\">Universidad Nacional Autónoma de México (UNAM)</a></i>.\n",
      "WARNING:root:Closing tag without opening in sentence 0: Jean Ralaimongo (1885–1944) was a teacher who <a href=\"https://en.wikipedia.org/wiki/Jean_Ralaimongo\" target=\"_blank\" rel=\"noopener noreferrer\">taught</a>.                                       | 276/1500 [02:23<10:48,  1.89row/s]\n",
      "WARNING:root:Closing tag without opening in sentence 0: My Krazy Life is the debut studio <a href=\"https://en.wikipedia.org/wiki/Kanye_West\" target=\"_blank\">Kanye West</a>. album.                                                                       | 301/1500 [02:37<13:15,  1.51row/s]\n",
      "WARNING:root:Closing tag without opening in sentence 2: The album features guest appearances from <a class=\"mw-redirect\" href=\"http://www.rapgenius.com/artists/kanye-west\" title=\"Kanye West\" rel=\"nofollow\" class=\"external text\" data-wpel-link=\"external noopener noreferrer\" data-source=\"inlineLink\" data-ordinal=\"1\" style=\"text-decoration: none;\">Kendrick Lamar</a>.\n",
      "WARNING:root:Closing tag without opening in sentence 1: rel=\"noopener noreferrer\" title=\"Vibration cooking\">Vibration Cooking</a>.                                                                                                                        | 335/1500 [02:55<06:49,  2.84row/s]\n",
      "WARNING:root:Closing tag without opening in sentence 0: Rudolf Breitscheid (2 November 1874 – 28 <a href=\"https://en.wikipedia.org/wiki/Rudolf_Breitscheid\" target=\"_blank\" rel=\"noreferrer noopener\">Wikipedia</a>.                                      | 384/1500 [03:19<11:28,  1.62row/s]\n",
      "WARNING:root:Closing tag without opening in sentence 0: Audio, Video, Disco. is the second studio <a href=\"https://en.wikipedia.org/wiki/Daft_Punk\" title=\"Daft Punk\">Daft Punk</a>. album.                                                               | 393/1500 [03:23<08:53,  2.08row/s]\n",
      "WARNING:root:Closing tag without opening in sentence 1: rel=\"noopener noreferrer\">Slouching towards Gomorrah</a>.                                                                                                                                         | 407/1500 [03:30<11:43,  1.55row/s]\n",
      "WARNING:root:Closing tag without opening in sentence 3: a class=\"mw-redirect\" href=\"http://www.washingtonpost.com/obituaries/obituary.aspx?owid=obituaries%2Fobituary.view&amp;ref=obits&amp;_r=0\" title=\"Washington Post obituary\" rel=\"nofollow\" class=\"external text\" data-wpel-link=\"external\"></a>.\n",
      "WARNING:root:Closing tag without opening in sentence 0: Chena is oldest cultivation method in Sri <a href=\"https://en.wikipedia.org/wiki/Chena\" target=\"_blank\">Chena cultivation</a>.                                                                    | 427/1500 [03:42<10:36,  1.69row/s]\n",
      "WARNING:root:Opening tag without closing in sentence 4: or <i>Chena</i>.\n",
      "WARNING:root:Closing tag without opening in sentence 0: Harold \"Smoky\" Simon is a South African <a href=\"https://en.wikipedia.org/wiki/Harold_Simon\" target=\"_blank\" rel=\"noopener noreferrer\" title=\"Harold Simon\">Harold Simon</a>.                     | 439/1500 [03:48<08:20,  2.12row/s]\n",
      "WARNING:root:Closing tag without opening in sentence 1: (<a href=\"http://www.britannica.com/Biographies/Smoky-Simon-Harold-Simon\" title=\"Smoky Simon\">Smoky</a>.\n",
      "WARNING:root:Closing tag without opening in sentence 0: Newborn screening (NBS) is a public health <a href=\"https://en.wikipedia.org/wiki/Newborn_screening\" target=\"_blank\" rel=\"noopener noreferrer\">program</a>.                                       | 451/1500 [03:55<09:33,  1.83row/s]\n",
      "WARNING:root:Opening tag without closing in sentence 3: It is also performed on newborns in many other countries around the world.<br><br><a href=\"http://www.ncbi.nlm.nih.gov/pmc/articles/PMC2835500/?term=newborn%20screening&amp;hl=en&amp;as_sdt=0%2C5&amp;sciodt=0%3A0&amp;citeseerx=1&amp;sa=X&amp;ved=2ahUKEwjJq-Lv9_zpAhXFJzQIHcq9BvkQ_AUoAXoECAwQAw&amp;url=https%3A%2F%2Fen.wikibooks.org%2Fwiki%2FNewborn%2Dscreening%2C&amp;usg=AOvVaw3Q-QjQ-Qxv-Qxz-QxwWw&amp;sig=AOD64_2X1Q-Q&amp;at=10&amp;azure&amp;q=newborn+screening\">Newborn screening</a>.\n",
      "WARNING:root:Closing tag without opening in sentence 0: Danny Wynn (born September 25, 1983 in <a href=\"https://en.wikipedia.org/wiki/New_York_City\">New York City</a>, New York) is an American actor.                                                   | 464/1500 [04:02<12:18,  1.40row/s]\n",
      "WARNING:root:Opening tag without closing in sentence 2: Wynn was born in <i>New York City, New York</i>.\n",
      "WARNING:root:Opening tag without closing in sentence 8: In 2010, Wynn appeared in the film \"<i><a title=\"The Crazies (2010 film)\"\n",
      "WARNING:root:Opening tag without closing in sentence 10: Wynn also appeared in the 2011 film \"<a title=\"Drive Angry (film)\" href=\"https:\\/>Drive Angry<\\/a>\" and the 2012 film \"<\\/a><i><\\/i><\\/a>\".\n",
      "WARNING:root:Opening tag without closing in sentence 11: He has also appeared in a number of television shows, including \"<i>Law \\u0026 Order: Criminal Intent<\\/i>\", \"<i>\\u0026 <\\/i\n",
      "WARNING:root:Closing tag without opening in sentence 0: is a pop song by the Japanese <a href=\"https://en.wikipedia.org/wiki/ClariS\" title=\"ClariS\">ClariS</a>.                                                                                           | 467/1500 [04:03<10:01,  1.72row/s]\n",
      "WARNING:root:Opening tag without closing in sentence 3: It was also used as the ending theme for the <i>Colorful</i>.\n",
      "WARNING:root:Closing tag without opening in sentence 0: The Darby Military Community is a United <a href=\"https://en.wikipedia.org/wiki/United_States_Army\">United States Army</a>.                                                                       | 482/1500 [04:11<08:01,  2.12row/s]\n",
      "WARNING:root:Closing tag without opening in sentence 1: base located in <abbr title=\"Pennsylvania\">Pennsylvania</abbr>.\n",
      "WARNING:root:Closing tag without opening in sentence 3: It is home to the <a class=\"mw-redirect\" title=\"United States Army\" href=\"http://www.army.mil/\">United States</a>.\n",
      "WARNING:root:Closing tag without opening in sentence 4: Army's <a title=\"Army Installation Management Command\" href=\"/wiki/Army_Installation_Management_Command\">Army</a>.\n",
      "WARNING:root:Closing tag without opening in sentence 0: is a Japanese manga by Mitsuru Sugaya, <a href=\"https://en.wikipedia.org/wiki/Mitsuru_Sugaya\" target=\"_blank\">Mitsuru Sugaya</a>.                                                                 | 530/1500 [04:39<08:20,  1.94row/s]\n",
      "WARNING:root:Closing tag without opening in sentence 4: tankōbon volumes by <a style=\"text-decoration: none; color: #000; font-weight: bold;\" target=\"_blank\" title=\"Shueisha\">Shueisha</a>. since 2009.\n",
      "WARNING:root:Closing tag without opening in sentence 0: Susan McGalla is an American businesswoman and <a href=\"https://en.wikipedia.org/wiki/Susan_McGalla\" target=\"_blank\" rel=\"noopener noreferrer\" title=\"Susan McGalla\">Susan McGalla</a>.           | 531/1500 [04:39<06:42,  2.41row/s]\n",
      "WARNING:root:Closing tag without opening in sentence 0: SF Studios is a Swedish film- and <a href=\"https://en.wikipedia.org/wiki/Production_company\" target=\"_blank\" rel=\"noopener noreferrer\">production company</a>.                                    | 535/1500 [04:41<08:00,  2.01row/s]\n",
      "WARNING:root:Closing tag without opening in sentence 0: Larry Miller (born 1944) is an American <a href=\"https://en.wikipedia.org/wiki/Larry_Miller_(artist)\">painter</a>.                                                                                | 556/1500 [04:52<06:31,  2.41row/s]\n",
      "WARNING:root:Closing tag without opening in sentence 3: He studied at the <a class=\"mw-redirect\" href=\"http://www.sva.edu/\" title=\"SVA\">School of Visual Arts</a>.\n",
      "WARNING:root:Closing tag without opening in sentence 1: Del Rey</a>.████████████████████████████████████████▏                                                                                                                                             | 567/1500 [04:58<09:13,  1.68row/s]\n",
      "WARNING:root:Opening tag without closing in sentence 8: <i><a href=\"http://www.rollingstone.com/music/album-reviews/lana-del-rey-kisses-2021-03-19/\">Kisses - Lana Del Rey | Album Review | Rolling Stone</a></i>\n",
      "WARNING:root:Closing tag without opening in sentence 0: Khori Dastoor is an American arts administrator, <a href=\"https://en.wikipedia.org/wiki/Khori_Dastoor\" target=\"_blank\" rel=\"noopener noreferrer\">Khori</a>.                                       | 574/1500 [05:03<09:54,  1.56row/s]\n",
      "WARNING:root:Opening tag without closing in sentence 4: <br><br>Dastoor began her career in the arts as a curator at the Museum of Modern Art (MoMA) in 1989.\n",
      "WARNING:root:Opening tag without closing in sentence 8: She is also a member of the board of directors of the Association of Art Museum Directors (AAMD).<br>.\n",
      "WARNING:root:Opening tag without closing in sentence 9: <br>In addition to her work at MAD and MOCA, she has been a visiting professor at the School of the Art Institute of Chicago (SAIC) and the University of California, Los Angeles (UCLA).\n",
      "WARNING:root:Opening tag without closing in sentence 12: She is currently a board member of the National Museum of Women in the Arts (NMWA) in Washington, D.C.<br><br><b>References:</b><br><a href=\"http://www.museumofcontemporaryart.org/about-us/directors/khori-dastoor/\" target=\"_blank\"><b>MOCAD</b></a\n",
      "WARNING:root:Closing tag without opening in sentence 0: Anthony Roth Costanzo is an American countertenor, <a href=\"https://en.wikipedia.org/wiki/Anthony_Roth_Costanzo\" target=\"_blank\" rel=\"noopener noreferrer\">countertenor</a>.                      | 593/1500 [05:14<09:04,  1.67row/s]\n",
      "WARNING:root:Opening tag without closing in sentence 3: and <i><a href=\"http://www.amazon.com/Lucia-Lammermoor-Donizetti-Opera-Classics/dp/B0000CZQZC/ref=sr_1_1?s=dvd&ie=UTF8&qid=1506475509&sr=1-1&keywords=Lucia+di+Lammermoor\" target=\"_self\">Lucia di Lammmermoor</a></i>.\n",
      "WARNING:root:Opening tag without closing in sentence 4: and the title role in <i></i>.\n",
      "WARNING:root:Opening tag without closing in sentence 5: He has also performed in the operatic roles of <i>\"</i>Don Giovanni<i>\" </i>and <i>'</i>Rigoletto<i>' </i>.\n",
      "WARNING:root:Opening tag without closing in sentence 6: Costano has also performed the roles of 'Lindoro' and 'Count Almaviva' in 'The Barber of Seville', 'Nemorino' in '<i>L'elisir d'amore</i>', 'Don Ottavio' in Mozart's 'The Marriage of Figaro', 'Tamino' in the Mozart opera 'The Magic Flute', and 'Don Basilio' in Rossini's opera 'Il barbiere di Siviglia'.\n",
      "WARNING:root:Closing tag without opening in sentence 0: Odd Blood is the self-produced second studio <a href=\"https://en.wikipedia.org/wiki/Regina_Spektor\" target=\"_blank\">Regina Spektor</a>.                                                           | 607/1500 [05:23<08:58,  1.66row/s]\n",
      "WARNING:root:Closing tag without opening in sentence 0: Terry Fossum is an American businessperson and <a href=\"https://en.wikipedia.org/wiki/Terry_Fossum\">entrepreneur</a>.                                                                             | 620/1500 [05:29<06:50,  2.15row/s]\n",
      "WARNING:root:Closing tag without opening in sentence 1: He is the founder and CEO of <a class=\"mw-redirect\" href=\"http://www.terryfossum.com/\" title=\"Terry Fossum\">Terry Fossum</a>. & Associates, a business consulting firm.\n",
      "WARNING:root:Closing tag without opening in sentence 0: is a Japanese professional wrestler, currently signed <a href=\"https://en.wikipedia.org/wiki/New_Japan_Pro_Wrestling\">New Japan Pro-Wrestling</a>.                                                | 622/1500 [05:30<05:12,  2.81row/s]\n",
      "WARNING:root:Closing tag without opening in sentence 0: Karl-Erik Åström (18 April 1924 - 9 <a href=\"https://en.wikipedia.org/wiki/Karl_Erik_Åström\" target=\"_blank\" rel=\"noopener noreferrer\">Wikipedia</a>.</p>.                                        | 639/1500 [05:38<07:30,  1.91row/s]\n",
      "WARNING:root:Closing tag without opening in sentence 1: </div>.\n",
      "WARNING:root:Closing tag without opening in sentence 2: </body>.\n",
      "WARNING:root:Closing tag without opening in sentence 3: </html>\n",
      "WARNING:root:Closing tag without opening in sentence 0: Dharamlal Kaushik (born 1 February 1958) is <a href=\"https://en.wikipedia.org/wiki/Dharam_Lal_Kaushik\">an Indian politician</a>.                                                                  | 641/1500 [05:39<06:29,  2.21row/s]\n",
      "WARNING:root:Closing tag without opening in sentence 2: He is currently the Member of Parliament (MP) from the <abbr title=\"Rajasthan\">Rajasthan</abbr>.\n",
      "WARNING:root:Closing tag without opening in sentence 4: Kaushik was born on 1 February, 1958 in the village of <a class=\"mw-redirect\" href=\"http://www.google.com/search?q=Dharam+Lal+Kaushik&ie=UTF-8&source=web&cd=1&cad=rja&uact=8&ved=0CCsQFjAA&url=http%3A%2F%2Fen.wikibooks.org%2Fwiki%2FDharam%20Lal%20Kaushik%2C%20Member%20of%20Parliament%20from%20Rajasthan%20State%20in%20the%20Lok%20Sabha%20%28Rajya%20Sampark%20Pariksha%20Committee%20Chairman%20and%20member%20Rashtriya%20Ekta%20Manch%20(National%20Unity%20Movement)\" rel=\"nofollow\">Dharam Lal Kaushik, Member of Parliament from Rajasthan State in Lok Sabha (Rajya Sampark Pariksha Committee Chairman and member of Rashtriya Ekta Manch (National Unity Movement))</a>.\n",
      "WARNING:root:Closing tag without opening in sentence 0: Cassandra Wilkinson is an Australian author and <a href=\"https://en.wikipedia.org/wiki/Cassandra_Wilkinson\" target=\"_blank\" rel=\"noopener noreferrer\">novelist</a>.                               | 655/1500 [05:45<06:58,  2.02row/s]\n",
      "WARNING:root:Closing tag without opening in sentence 2: em>The Book Thief</em>, which was published in 2005.\n",
      "WARNING:root:Closing tag without opening in sentence 0: William T. Cannady (born 1937) is an <a href=\"https://en.wikipedia.org/wiki/American_politician\" target=\"_blank\">American politician</a>. who served as a member of the U.S. House of Representatives from 1979 to 1993.0,  1.66row/s]\n",
      "WARNING:root:Closing tag without opening in sentence 1: Cannady was born in 1937 in <a class=\"mw-redirect\" href=\"https:/ | | <a target=\"_blank\" href=\"http://www.washingtonpost.com/news/politics/wp-dyn/content/article/2007/02/26/AR2007022601593.html\">The Washington Post</a>, 2007-02-26</li>.\n",
      "WARNING:root:Closing tag without opening in sentence 2: </ul>.\n",
      "WARNING:root:Closing tag without opening in sentence 3: </div>.\n",
      "WARNING:root:Closing tag without opening in sentence 4: </body>.\n",
      "WARNING:root:Closing tag without opening in sentence 5: </html>\n",
      "WARNING:root:Closing tag without opening in sentence 0: Dina Butti is an Egyptian/Canadian TV presenter, <a href=\"https://en.wikipedia.org/wiki/Dina_Butti\" target=\"_blank\" rel=\"noopener noreferrer\">Wikipedia</a>. says.                                | 696/1500 [06:08<07:59,  1.68row/s]\n",
      "WARNING:root:Opening tag without closing in sentence 12: She also co-wrote the book <i><a href=\"http://www.amazon.com/Dina-Butti-Marilyn-Denis-Show-ebook/dp/B00AQVXQOY/ref=sr_1_1?s=digital-text&ie=UTF8&qid=1455505500&sr=1-1&keywords=dina+butti\" target=\"new\">Dina</a></i>.\n",
      "WARNING:root:Closing tag without opening in sentence 0: Andrew Deeks (born in 1963) is an <a href=\"https://en.wikipedia.org/wiki/Australian_politician\">Australian politician</a>.                                                                        | 713/1500 [06:19<08:56,  1.47row/s]\n",
      "WARNING:root:Closing tag without opening in sentence 0: James \"Jim\" William Truman is an American <a href=\"https://en.wikipedia.org/wiki/President_of_the_United_States\" target=\"_blank\">President of the United States</a>.                              | 729/1500 [06:28<08:41,  1.48row/s]\n",
      "WARNING:root:Closing tag without opening in sentence 1: rel=\"noopener noreferrer\">football club</a>.███████████████████████████████████▏                                                                                                                  | 745/1500 [06:38<07:13,  1.74row/s]\n",
      "WARNING:root:Closing tag without opening in sentence 0: Nathan Paulse (born 7 April 1982 in <a href=\"https://en.wikipedia.org/wiki/Cape_Town\">Cape Town</a>, South Africa) is a South African <a class=\"mw-redirect\" href=\"http://www.britannica.com/biography/Nathan-Paulse\" title=\"Nathan Paulse\">politician</a>.\n",
      "WARNING:root:Closing tag without opening in sentence 0: is a Japanese avant-garde playwright, theatre director, <a href=\"https://en.wikipedia.org/wiki/Jur%C3%A9_Kara\" target=\"_blank\" rel=\"noopener noreferrer\">playwright</a>. and theatre director.    | 787/1500 [06:58<04:37,  2.57row/s]\n",
      "WARNING:root:Closing tag without opening in sentence 0: Arthur Wellesley Hughes (1870–1950) was a Canadian <a href=\"https://en.wikipedia.org/wiki/Prime_Minister_of_Canada\">Prime Minister of Canada</a>.                                                 | 798/1500 [07:02<03:57,  2.95row/s]\n",
      "WARNING:root:Closing tag without opening in sentence 2: Hughes was born in 1870 in <a class=\"mw-redirect\" href=\"http://maps.google.ca/maps?f=q&amp;hl=en&amp;geocode=&amp;q=Toronto,+Ontario,+Canada&amp;t=h&amp;z=18&amp;layer=c&amp;cbll=43.6535,-79.3831&amp;panoid=yWQXQXQpKQXQWQXpWQ&amp;hnear=Toronto%2C+Ontario&amp;gl=ca&amp;hq=Arthur+Wellesley+Hughes&amp;cid=0,0\" title=\"Map of Toronto, Ontario, Canada\">Toronto, Ontario</a>.\n",
      "WARNING:root:Closing tag without opening in sentence 0: Binoli is a small town in the <a href=\"https://en.wikipedia.org/wiki/State_of_Rajasthan\">State of Rajasthan</a>.                                                                                  | 832/1500 [07:19<05:34,  1.99row/s]\n",
      "WARNING:root:Closing tag without opening in sentence 0: Vijay Bharatlal Rahangdale is a member of <a href=\"https://en.wikipedia.org/wiki/Indian_National_Congress\">Indian National Congress</a>.                                                          | 857/1500 [07:33<05:25,  1.97row/s]\n",
      "WARNING:root:Closing tag without opening in sentence 2: He was born on <span style=\"font-style:italic;\">October 1, 1930</span>.\n",
      "WARNING:root:Closing tag without opening in sentence 3: in <a class=\"mw-redirect\" href=\"http://maps.google.co.in/maps?f=q&amp;hl=en&amp;geocode=&amp;q=Vijay+Bharatlal+Rahangdale&amp;aq=f&amp;sll=19.1,-72.9&amp;sspn=0.0001,0.001&amp;ie=UTF8&amp;hq=vijay+bharatlal&amp;hnear=New+Delhi,+Delhi&amp;t=m&amp;z=18&amp;layer=c&amp;cbll=28.5833,77.2333&amp;panoid=yWQXQp_QXQXQWQWQYQ&amp;gl=in&amp;mra=ls&amp;mrsp=0&amp;sz=16&amp;via=1\" target=\"_blank\">Delhi, India</a>.\n",
      "WARNING:root:Closing tag without opening in sentence 0: Yashraj Mukhate is an Indian music producer, <a href=\"https://en.wikipedia.org/wiki/Yashraj_Mukhate\" target=\"_blank\" rel=\"noopener noreferrer\">Yashraj</a>.                                       | 870/1500 [07:41<06:23,  1.64row/s]\n",
      "WARNING:root:Opening tag without closing in sentence 4: (2018), <i><a href=\"http://www.bollywoodhungama.com/news/article.cfm?c_id=1&amp;c_code=2&amp;p_id=3&amp;s_id=4&amp;u_id=5&amp;w_id=6&amp;i_id=7&amp;a_id=8&amp;f_id=9&amp;g_id=10&amp;h_id=11&amp;j_id=12&amp;k_id=13&amp;l_id=14&amp;m_id=15&amp;n_id=16&amp;o_id=17&amp;q_id=18&amp;r_id=19&amp;t_id=20&amp;v_id=21&amp;x_id=22&amp;y_id=23&amp;z_id=24&amp;e_id=25&amp;b_id=26&amp;d_id=27&amp;C_id=28&amp;D_id=29&amp;E_id=30&amp;F_id=31&amp;G_id=32&amp;H_id=33&amp;I_id=34&amp;J_id=35&amp;K_id=36&\n",
      "WARNING:root:Closing tag without opening in sentence 0: Jane Holl Lute (born 1956) is an <a href=\"https://en.wikipedia.org/wiki/American_politician\">American politician</a>.                                                                             | 875/1500 [07:43<05:02,  2.07row/s]\n",
      "WARNING:root:Closing tag without opening in sentence 2: Lute was born in 1956 in <a class=\"mw-redirect\" href=\"http://maps.google.com/maps?f=q&amp;hl=en&amp;geocode=&amp;q=Jane+Holl+Lute&amp;t=h&amp;z=18&amp;layer=c&amp;cbll=40.7143,-73.9642&amp;panoid=yWQXQXQpKQWXQXpQXQ&amp;hnear=New+York%2C+New+York&amp;gl=us&amp;sa=X&amp;ved=0CAcQ_AUoAQo&amp;biw=1920&am p;bih=1024\">New York City</a>, New York, United States of America.\n",
      "WARNING:root:Closing tag without opening in sentence 0: Karel \"Káďa\" Pešek (20 September 1895 in <a href=\"https://en.wikipedia.org/wiki/Ostrava\" target=\"_blank\">Ostrava</a>, Moravian-Silesian Region, Austria-Hungary) was a Czechoslovak politician.   | 930/1500 [08:12<06:43,  1.41row/s]\n",
      "WARNING:root:Closing tag without opening in sentence 0: John Sinton, JP, (1 November 1835 in <a href=\"https://en.wikipedia.org/wiki/Newcastle_upon_Tyne\">Newcastle upon Tyne</a>, England – 1 November 1909 in <span class=\"place\">London</span>), was a <a class=\"mw-redirect\" href=\"http://en.wiktionary.org/w/index.php?title=John_Sinton&action=edit&redlink=1\" title=\"John Sinton (page does not exist)\"\n",
      "WARNING:root:Closing tag without opening in sentence 1: class=\"new\" rel=\"nofollow\" data-uncrawlable-url=\"L3dpa2kvU2VydmljZS5jb20=\">British</a>. politician.\n",
      "WARNING:root:Closing tag without opening in sentence 6: In 1867 he was elected to the <a title=\"House of Commons of the United Kingdom of Great Britain and Ireland\" href=\"/wiki/House_of_Commons_of_the_United_Kingdom_of_Great_Britain_and_Ireland\">House of Commons</a>.\n",
      "WARNING:root:Closing tag without opening in sentence 0: Brian Thomas Swimme (born 1950) is a <a href=\"https://en.wikipedia.org/wiki/Brian_Swimme\" target=\"_blank\" rel=\"noopener noreferrer\" title=\"Brian Swimme\">physicist</a>.                           | 959/1500 [08:28<06:00,  1.50row/s]\n",
      "WARNING:root:Opening tag without closing in sentence 4: (1996) and <i><a href=\"http://www.amazon.com/The-Universe-Is-Green-Dragon-Brian-Swimme/dp/B0006BQVXQ/ref=sr_1_1?s=books&ie=UTF8&qid=1509286470&sr=1-1&keywords=the+universe+is+a+green+dragon\" target=\"_self\" rel=\"nofollow\" title=\"The Universe Is A Green Dragon\">The Universe Is Green Dragon</a></i>.\n",
      "WARNING:root:Opening tag without closing in sentence 5: (<i>2000</i>), <i>\"The Universe Is the Creator\"</i>.\n",
      "WARNING:root:Opening tag without closing in sentence 6: <i>(2003)</i>.\n",
      "WARNING:root:Closing tag without opening in sentence 0: Tomás Burgos Sotomayor (September 18, 1875 in <a href=\"https://en.wikipedia.org/wiki/Burgos\" target=\"_blank\">Burgos</a>, Spain &ndash; November 11, 1936 in <span class=\"place\">Buenos Aires</span>, Argentina) was a <a class=\"mw-redirect\" href=\"http://en.wiktionary.org/w/index.php?title=Argentine_politician\" title=\"Argentine politician\">Argentine politician</a>.\n",
      "WARNING:root:Closing tag without opening in sentence 0: Heinrich Krone (1 December 1895 – 15 <a href=\"https://en.wikipedia.org/wiki/Heinrich_Krone\" target=\"_blank\" rel=\"noopener noreferrer\">Wikipedia</a>.                                             | 1002/1500 [08:50<05:58,  1.39row/s]\n",
      "WARNING:root:Closing tag without opening in sentence 1: article \"Heinrich <span style=\"font-style: italic;\">Krone</span>\".</p>.\n",
      "WARNING:root:Closing tag without opening in sentence 2: </div>.\n",
      "WARNING:root:Closing tag without opening in sentence 3: </body>.\n",
      "WARNING:root:Closing tag without opening in sentence 4: </html>\n",
      "WARNING:root:Closing tag without opening in sentence 0: Thomas Pitt (5 July 1653 – 28 <a href=\"https://en.wikipedia.org/wiki/Thomas_Pitt_(British_politician)\">Thomas Pitt</a>. was a British politician.                                                | 1019/1500 [08:57<03:55,  2.04row/s]\n",
      "WARNING:root:Closing tag without opening in sentence 0: Elisabeth Gantt (born 1934) is a botanist, <a href=\"https://en.wikipedia.org/wiki/Elisabeth_Gantt\" target=\"_blank\" rel=\"noopener noreferrer\">botanist</a>.                                       | 1020/1500 [08:58<03:17,  2.43row/s]\n",
      "WARNING:root:Closing tag without opening in sentence 4: She is a member of the <a class=\"mw-redirect\" href=\"http://www.amnh.org/\" target=\"_blank\">American Museum of Natural History</a>.\n",
      "WARNING:root:Closing tag without opening in sentence 0: Jamshed Bharucha is a cognitive neuroscientist who <a href=\"https://en.wikipedia.org/wiki/Jamshed_Bharucha\" target=\"_blank\" rel=\"noopener noreferrer\">studies</a>.                               | 1027/1500 [09:01<04:28,  1.76row/s]\n",
      "WARNING:root:Closing tag without opening in sentence 0: Stefani Hidajat (born August 12, 1985 in <a href=\"https://en.wikipedia.org/wiki/Bandung\" target=\"_blank\">Bandung</a>, West Java, Indonesia) is an Indonesian actress and model.                  | 1087/1500 [09:36<04:06,  1.67row/s]\n",
      "WARNING:root:Opening tag without closing in sentence 4: for her role in the 2007 film <i><a href=\"http://www.imdb.com/title/tt0870800/?ref_=tt_cl_0_0_1_1_0_2\" target=\"_self\">Ketika Cinta Bertasbih</a></i>.\n",
      "WARNING:root:Closing tag without opening in sentence 1: rel=\"noopener noreferrer\">mobile assets</a>.████████████████████████████████████████████████████████████████████████████████████████▌                                                            | 1101/1500 [09:44<04:35,  1.45row/s]\n",
      "WARNING:root:Opening tag without closing in sentence 4: <li>.\n",
      "WARNING:root:Opening tag without closing in sentence 5: <b>Customer service</b>.\n",
      "WARNING:root:Opening tag without closing in sentence 6: - <i>e.g.</i>.\n",
      "WARNING:root:Closing tag without opening in sentence 8: </ul>.\n",
      "WARNING:root:Opening tag without closing in sentence 12: The lifecycle of a mobile asset can be divided into four phases: <ol>. <\n",
      "WARNING:root:Opening tag without closing in sentence 13: li><b>Acquisition</b></li>.\n",
      "WARNING:root:Opening tag without closing in sentence 14: <ul>.\n",
      "WARNING:root:Opening tag without closing in sentence 15: <li>A mobile asset is acquired by an organization</li>.\n",
      "WARNING:root:Closing tag without opening in sentence 17: </li>.\n",
      "WARNING:root:Opening tag without closing in sentence 19: <b>Deployment</b>.\n",
      "WARNING:root:Opening tag without closing in sentence 20: <ul>.\n",
      "WARNING:root:Opening tag without closing in sentence 21: <li>\n",
      "WARNING:root:Closing tag without opening in sentence 23: </ul>.\n",
      "WARNING:root:Closing tag without opening in sentence 24: </li>.\n",
      "WARNING:root:Opening tag without closing in sentence 26: <b>Use</b>.\n",
      "WARNING:root:Opening tag without closing in sentence 27: <ul>.\n",
      "WARNING:root:Opening tag without closing in sentence 28: <li>An employee uses the mobile asset</li>.\n",
      "WARNING:root:Closing tag without opening in sentence 30: </li>.\n",
      "WARNING:root:Opening tag without closing in sentence 32: <b>Disposal</b>.\n",
      "WARNING:root:Opening tag without closing in sentence 33: <ul>.\n",
      "WARNING:root:Opening tag without closing in sentence 34: <li>When the employee no longer needs the mobile asset, it is disposed of</li>.\n",
      "WARNING:root:Closing tag without opening in sentence 36: </li>.\n",
      "WARNING:root:Opening tag without closing in sentence 38: <b>Retirement</b>.\n",
      "WARNING:root:Opening tag without closing in sentence 39: <ul>.\n",
      "WARNING:root:Opening tag without closing in sentence 40: <li>If the mobile asset is no longer in use, it is retired</li>.\n",
      "WARNING:root:Closing tag without opening in sentence 42: </li>\n",
      "WARNING:root:Closing tag without opening in sentence 0: Elbridge Hancey (March 15, 1852–1925) was an <a href=\"https://en.wikipedia.org/wiki/American_politician\" target=\"_blank\">American politician</a>. who served as a member of the U.S. House of Representatives from 1899 to 1901.row/s]\n",
      "WARNING:root:Closing tag without opening in sentence 0: The is an archaeological site containing the <a href=\"https://en.wikipedia.org/wiki/Inonagawa_Site\" target=\"_blank\" rel=\"noopener noreferrer\" data-wpel-link=\"external\"></a>.                    | 1157/1500 [10:12<02:46,  2.06row/s]\n",
      "WARNING:root:Closing tag without opening in sentence 2: The site is located in <span style=\"font-style: italic;\">Yamaguchi Prefecture</span>, Japan.\n",
      "WARNING:root:Closing tag without opening in sentence 3: It was discovered in <strong style=\"color: rgb(0, 0, 255); font-weight: normal; font-size: 14px; line-height: 20px;\">2010</strong>.\n",
      "WARNING:root:Closing tag without opening in sentence 5: </span><span style=\"text-decoration: underline; color: rgb(51, 51, 153); font-style: normal;\">Yoshinobu </span>.\n",
      "WARNING:root:Closing tag without opening in sentence 0: Eric R. Murray (31 August 1928 in <a href=\"https://en.wikipedia.org/wiki/Newburgh,_New_York\" target=\"_blank\">Newburgh, New York</a>) is an American bridge player.                               | 1211/1500 [10:41<02:19,  2.07row/s]\n",
      "WARNING:root:Closing tag without opening in sentence 0: Joined-Up Thinking is the first book by <a href=\"https://en.wikipedia.org/wiki/David_Halberstam\">David Halberstam</a>.███████████████████████████████▍                                           | 1212/1500 [10:41<01:54,  2.52row/s]\n",
      "WARNING:root:Closing tag without opening in sentence 0: \"Underclass Hero\" is the first single from <a href=\"https://en.wikipedia.org/wiki/Sufjan_Stevens\">Sufjan Stevens</a>'s seventh studio album <i>Carrie &amp; Lowell</i>.                          | 1219/1500 [10:45<02:50,  1.64row/s]\n",
      "WARNING:root:Closing tag without opening in sentence 0: Sarah Morewood (1823–1863) was a poet and <a href=\"https://en.wikipedia.org/wiki/Victorian_era\" target=\"_blank\">Victorian era</a>.██████████████████████▏                                        | 1230/1500 [10:51<02:41,  1.67row/s]\n",
      "WARNING:root:Opening tag without closing in sentence 8: (1851), <i>\"The Poet's Wife\"</i>.\n",
      "WARNING:root:Opening tag without closing in sentence 9: (<i>1852</i>), and <i></i>.\n",
      "WARNING:root:Opening tag without closing in sentence 10: <i>(1853).</i>.\n",
      "WARNING:root:Closing tag without opening in sentence 0: Tom Meier is a sculptor, a founding <a href=\"https://en.wikipedia.org/wiki/Tom_Meier_(sculptor)\" target=\"_blank\" rel=\"noopener noreferrer\">sculptor</a>.▎                                        | 1231/1500 [10:52<02:34,  1.75row/s]\n",
      "WARNING:root:Closing tag without opening in sentence 5: He is best known for his large-scale public sculptures, such as <a class=\"mw-redirect\" href=\"http://www.artnet.com/artists/tom-meier-sculptures-artnet-artworks-artnetcom\" target=\"_blank\">Tom Meier Sculptures</a>.\n",
      "WARNING:root:Closing tag without opening in sentence 0: Athetis reclusa is a moth of the <a href=\"https://en.wikipedia.org/wiki/Noctuidae\" target=\"_blank\" rel=\"noopener noreferrer\">Noctuid</a>.█████████████████▎                                      | 1244/1500 [10:59<02:23,  1.78row/s]\n",
      "WARNING:root:Closing tag without opening in sentence 2: It is found in <span style=\"font-style: italic;\">Australasia</span>.\n",
      "WARNING:root:Closing tag without opening in sentence 0: Legion Condor is a 1939 German war <a href=\"https://en.wikipedia.org/wiki/World_War_II\" target=\"_blank\">World War II</a>.█████████████████████████████████▍                                      | 1245/1500 [10:59<01:49,  2.33row/s]\n",
      "WARNING:root:Closing tag without opening in sentence 1: film directed by <a class=\"mw-redirect\" href=\"http://www.imdb.com/name/nm0000000/?ref_=tt_cl_tt_clm_0\" title=\"Imdb.com\" rel=\"nofollow\" class=\"external text\" data-wpel-link=\"external noopener noreferrer\">Robert Siodmak</a>.\n",
      "WARNING:root:Opening tag without closing in sentence 3: (1937) by <i><a\n",
      "WARNING:root:Closing tag without opening in sentence 0: Hejira is the eighth studio album by <a href=\"https://en.wikipedia.org/wiki/Joni_Mitchell\">Joni Mitchell</a>.████████████████████████████████████████████████▍                                   | 1265/1500 [11:08<01:58,  1.99row/s]\n",
      "WARNING:root:Opening tag without closing in sentence 9: The first single from the album, \"Both Sides Now\", was released in March 1976 and peaked at number two on the <i><a href=\"http://www.billboard.com/\">Billboard Hot 100</a></i>.\n",
      "WARNING:root:Closing tag without opening in sentence 0: Leave It Beautiful is the debut studio <a href=\"https://en.wikipedia.org/wiki/Album_title\" target=\"_blank\" rel=\"noopener noreferrer nofollow\">album</a>.██████▎                                  | 1271/1500 [11:12<02:07,  1.79row/s]\n",
      "WARNING:root:Closing tag without opening in sentence 1: by <a class=\"mw-redirect\" href=\"http://www.npr.org/music/artist/album.php?id=1&amp;title=Leave%20It%20Beautiful&amp;type=album&amp;subtype=recording&amp;release_date=2018-05-04&amp;sort=release_date&amp;page=1\" target=\"_self\" rel=\"nofollow\">NPR</a>.\n",
      "WARNING:root:Closing tag without opening in sentence 0: Vincent Como (born 1975) is a Brooklyn-based <a href=\"https://en.wikipedia.org/wiki/Vincent_Como\" target=\"_blank\" rel=\"noopener noreferrer\">musician</a>.███████▊                                | 1287/1500 [11:19<01:44,  2.03row/s]\n",
      "WARNING:root:Opening tag without closing in sentence 8: and <i><i>Family Guy</i></i>.\n",
      "WARNING:root:Closing tag without opening in sentence 0: Alice Feiring is an American journalist and <a href=\"https://en.wikipedia.org/wiki/Alice_Feiring\" target=\"_blank\" rel=\"noopener noreferrer\">wine critic</a>.██████▋                              | 1300/1500 [11:28<02:10,  1.53row/s]\n",
      "WARNING:root:Opening tag without closing in sentence 2: (2007) and <em><a href=\"http://www.amazon.com/Battle-Wine-Love-Save-World-Parkerization-ebook/dp/B00B3QZQOY/ref=sr_1_1?s=digital-text&ie=UTF8&qid=1456475500&sr=1-1&keywords=alice+feiring\" target=\"new\">The Battle for wine and love: or how I saved the world from Parkerisation</a>.\n",
      "WARNING:root:Opening tag without closing in sentence 7: In 1998, she became the wine columnist for <i><a href=\"/wiki/The_New_York_Times\" title=\"The New York Times\" class=\"mw-redirect\">The Times</a></i>.\n",
      "WARNING:root:Opening tag without closing in sentence 8: In 2001, Feiring became the wine editor of <i></i><i>Wine Spectator</i>.\n",
      "WARNING:root:Closing tag without opening in sentence 0: The 3rd Magritte Awards ceremony, presented by <a href=\"https://en.wikipedia.org/wiki/Magritte_Awards\">Magritte Awards</a>, was held on <span style=\"font-style: italic;\">March 23, 2020</span>. | 1308/1500 [11:33<02:28,  1.29row/s]\n",
      "WARNING:root:Closing tag without opening in sentence 1: at the <a style=\"text-decoration: underline;\" href=\"http://www.magritteawards.com/\">Magritte Museum</a>. in Brussels, Belgium.\n",
      "WARNING:root:Closing tag without opening in sentence 2: The ceremony was hosted by <span class=\"text-muted\"><a style=\"color: rgb(0, 0, 255);\" href=\"/wiki/Lara_Fabian\">Lara Fabian</a></span>.\n",
      "WARNING:root:Closing tag without opening in sentence 3: and <a class=\"mw-redirect\" style=\"color : rgb(255, 255, 0); text-decoration : none;\" href=\"/wiki/%C3%A9tienne_Rousseau\">Étienne Rousseau</a>.\n",
      "WARNING:root:Opening tag without closing in sentence 5: <li>Best Director</li>.\n",
      "WARNING:root:Opening tag without closing in sentence 8: was awarded to <b><i>L'enfant</i></b>.\n",
      "WARNING:root:Opening tag without closing in sentence 9: (<i>The Child</i>), a 2019 Belgian drama film directed by Jean-Pierre Dardenne and Luc Dardenne.\n",
      "WARNING:root:Closing tag without opening in sentence 1: rel=\"noopener noreferrer\">Haitian</a>. politician.██████████████████████████████████████████████████████████████████████████████████████████████████████████████████████▏                        | 1336/1500 [11:48<00:59,  2.74row/s]\n",
      "WARNING:root:Closing tag without opening in sentence 0: Patricia Jean Langhorne (born 1955) is an <a href=\"https://en.wikipedia.org/wiki/American_actress\">American actress</a>.█████████████████████████████████████████████████                        | 1342/1500 [11:51<01:38,  1.60row/s]\n",
      "WARNING:root:Closing tag without opening in sentence 2: Langhorne was born in New York City, New York, the daughter of <a class=\"mw-redirect\" href=\"http://www.imdb.com/name/nm0000000/?ref_=tt_cl_0\" title=\"Patricia Langhorne\">Patricia</a>.\n",
      "WARNING:root:Closing tag without opening in sentence 3: (née Langhorne), an actress, and <a title=\"Robert Langhorne\" href=\"//memory.loc.gov/authorities/subjects/lcsh%3A%22Langhorn,%20Robert%22\">Robert</a>.\n",
      "WARNING:root:Opening tag without closing in sentence 6: She has also appeared in the films <i><a href=\"//www.rottentomatoes.com/m/Magnum%2C%20P.I.%20-%20The%20Complete%20Series%20(1980-1988)/\" title=\"Magnum P.I. - The Complete Series (1980–1988)\">Magnum</a></i>, <i style=\"font-style: italic;\">Magnum Force</i>.\n",
      "WARNING:root:Closing tag without opening in sentence 0: Andy Umberger is an American actor who <a href=\"https://en.wikipedia.org/wiki/Andy_Umberger\" target=\"_blank\" rel=\"noopener noreferrer\">starred</a>.██████████████████████▌                       | 1345/1500 [11:53<01:17,  2.00row/s]\n",
      "WARNING:root:Closing tag without opening in sentence 0: Kirkintilloch Castle was located in Kirkintilloch, East <a href=\"https://en.wikipedia.org/wiki/Scotland\" target=\"_blank\">Scotland</a>.███████████████████████████████████████                    | 1368/1500 [12:03<01:20,  1.63row/s]\n",
      "WARNING:root:Opening tag without closing in sentence 6: <b>Related Questions:</b>.\n",
      "WARNING:root:Opening tag without closing in sentence 7: <ul>.\n",
      "WARNING:root:Opening tag without closing in sentence 8: <li><a href=\"http://www.quora.com/What-are-the-most-famous-castles-in-Scotland\">What are the most famous castles in Scotland?</a></li>.\n",
      "WARNING:root:Closing tag without opening in sentence 0: William Bennett Kilpack (February 6, 1883 in <a href=\"https://en.wikipedia.org/wiki/Salt_Lake_City\" target=\"_blank\">Salt Lake City</a>, Utah – November 11, 1956 in <span class=\"place\">Salt Lake</span>.500 [12:07<01:26,  1.46row/s]\n",
      "WARNING:root:Closing tag without opening in sentence 1: City, Utah) was an <a class=\"mw-redirect\" href=\"American_politician\" title=\"American politician\">American politician</a>.\n",
      "WARNING:root:Closing tag without opening in sentence 3: He was a member of the <a title=\"United States House of Representatives from Utah\" href=\"United_States_House_of_Representatives_from_Utah\">House of Representatives</a>.\n",
      "WARNING:root:Closing tag without opening in sentence 4: from <span title=\"Utah\">Utah</span>.\n",
      "WARNING:root:Closing tag without opening in sentence 0: Timothy Raymond Naish is a New Zealand <a href=\"https://en.wikipedia.org/wiki/Timothy_Naish\" target=\"_blank\" rel=\"noopener noreferrer\" title=\"Timothy Naish on Wikipedia\">timothy naish</a>.     | 1398/1500 [12:20<00:54,  1.88row/s]\n",
      "WARNING:root:Closing tag without opening in sentence 1: (born 1959) is a New Zealander who is a <a class=\"mw-redirect\" href=\"http://www.nzherald.co.nz/business/article.cfm?c_id=1&objectid=11464799\" target=\"_self\" rel=\"nofollow\" title=\"NZ Herald: Tim Naish\">businessman</a>.\n",
      "WARNING:root:Closing tag without opening in sentence 3: class=\"new\" title=\"Wikipedia:Tim Naish (page does not exist)\">philanthropist</a>.\n",
      "WARNING:root:Closing tag without opening in sentence 0: George Joseph (5 June 1887 – 5 <a href=\"https://en.wikipedia.org/wiki/George_Joseph_(activist)\" target=\"_blank\">George Joseph</a>.██████████████████████████████████████████████████▍            | 1417/1500 [12:31<00:54,  1.52row/s]\n",
      "WARNING:root:Closing tag without opening in sentence 6: If you have additional information or corrections regarding this topic, please contact us.</p>.\n",
      "WARNING:root:Closing tag without opening in sentence 7: </div>.\n",
      "WARNING:root:Closing tag without opening in sentence 8: </body>.\n",
      "WARNING:root:Closing tag without opening in sentence 9: </html>\n",
      "WARNING:root:Closing tag without opening in sentence 0: Prof Clare Fowler CBE is a British <a href=\"https://en.wikipedia.org/wiki/Clare_Fowler\" target=\"_blank\" rel=\"noopener noreferrer\" title=\"Clare Fowler\">Clare Fowler</a>.██████████████▍          | 1430/1500 [12:38<00:39,  1.77row/s]\n",
      "WARNING:root:Opening tag without closing in sentence 6: She is the author of several collections of poetry, including <i><a href=\"http://www.amazon.co.uk/Clare-Fowler-Poetry-ebook/dp/B00CYQZQOY\" target=\"_self\" rel=\"nofollow\" title=\"Amazon\">Clare</a></i>.\n",
      "WARNING:root:Closing tag without opening in sentence 0: Jenny Pausacker (born 2 November 1948 in <a href=\"https://en.wikipedia.org/wiki/Hamburg\" target=\"_blank\">Hamburg</a>, Germany) is a German politician.█████████████████████████████████▊         | 1439/1500 [12:44<00:41,  1.46row/s]\n",
      "WARNING:root:Closing tag without opening in sentence 1: Pausacker is a member of the <a class=\"mw-redirect\" href=\"http://www.cdu.de/\" target=\"_blank\" title=\"Christian Democratic Union\">Christian Democratic Union</a>.\n",
      "WARNING:root:Closing tag without opening in sentence 0: Michael Joyce (born 1945) is a retired <a href=\"https://en.wikipedia.org/wiki/American_novelist\">American novelist</a>.█████████████████████████████████████████████████████████████████▊        | 1446/1500 [12:47<00:33,  1.62row/s]\n",
      "WARNING:root:Closing tag without opening in sentence 4: Joyce was born in 1945 in New York City, New York, the son of <a class=\"mw-redirect\" href=\"Joyce\" title=\"wikipedia:Joyce\">Joyce</a>.\n",
      "WARNING:root:Closing tag without opening in sentence 8: He received a B.A. in English from <a title=\"Columbia University\" href=\"Columbia_University\">Columbia University</a>.\n",
      "WARNING:root:Closing tag without opening in sentence 0: \"Ariel\" is a hit single written and <a href=\"https://en.wikipedia.org/wiki/Ariel_(song)\" target=\"_blank\" rel=\"noopener noreferrer nofollow\">Ariel</a>.████████████████████████████████████▏      | 1455/1500 [12:53<00:31,  1.45row/s]\n",
      "WARNING:root:Closing tag without opening in sentence 1: by <a class=\"mw-redirect\" href=\"http://www.youtube.com/user/arielmusic\" title=\"Ariel\" rel=\"nofollow\" class=\"external text\" data-wpel-link=\"external\"></a>.\n",
      "WARNING:root:Opening tag without closing in sentence 13: List of cover versions of \\\"Ariel\\\"\" rel=\"nofollow\"><i>Wikipedia</i></a>.\n",
      "WARNING:root:Opening tag without closing in sentence 14: <i></i>.\n",
      "WARNING:root:Closing tag without opening in sentence 0: Kentucky Bluebird is a compilation album by <a href=\"https://en.wikipedia.org/wiki/Kentucky_Bluebirds\">Kentucky Bluebirds</a>.████████████████████████████████████████████████████████████▊      | 1459/1500 [12:54<00:19,  2.08row/s]\n",
      "WARNING:root:Closing tag without opening in sentence 1: released in <span style=\"font-style:italic;\">1999</span>.\n",
      "WARNING:root:Closing tag without opening in sentence 2: The album was released on <a class=\"mw-redirect\" href=\"http://www.amazon.com/Kentucky-Bluebirds-Kentucky-Birds-Music/dp/B0000CYQXQ/ref=sr_1_1?s=music&ie=UTF8&qid=1500000001&sr=1-1&keywords=Kentucky+Bluebirds\" title=\"Amazon.com: Kentucky Bluebirds: Kentucky Birds Music\">Kentucky Birds Music</a>.\n",
      "WARNING:root:Closing tag without opening in sentence 6: The second track, <span class=\"nowrap\" style=\"text-decoration:underline;\">\"Bluebird\"</span>, was released in 1999 as a single.\n",
      "WARNING:root:Opening tag without closing in sentence 10: The fifth track is a live version of <i>\"Kentucky Bird\"</i>.\n",
      "WARNING:root:Opening tag without closing in sentence 11: The sixth track is a studio version of \"<i>Bluebird</i>\".\n",
      "WARNING:root:Closing tag without opening in sentence 0: Huntley Wright (7 August 1868 – 10 <a href=\"https://en.wikipedia.org/wiki/Huntley_Wright\" target=\"_blank\" rel=\"noopener noreferrer\">Wikipedia</a>.██████████████████████████████████████████▉    | 1473/1500 [13:02<00:14,  1.90row/s]\n",
      "WARNING:root:Closing tag without opening in sentence 1: article \"Huntley <span class=\"mw-redirect\">Wright</span>\".</p>.\n",
      "WARNING:root:Closing tag without opening in sentence 2: </div>.\n",
      "WARNING:root:Closing tag without opening in sentence 3: <div class=\"section level2\"> <h2 class=\"hasAnchor\" id=\"see-also\"><a class=\"anchor\" href=\"#see-also\"></a>See also</h2>.\n",
      "WARNING:root:Opening tag without closing in sentence 5: <li><p><a href=\"http://www.w3schools.com/html/html_intro.asp\" class=\"external-link\">W3Schools HTML Tutorial</a></p></li>.\n",
      "WARNING:root:Closing tag without opening in sentence 0: Cross Lake is the name of two <a href=\"https://en.wikipedia.org/wiki/Cross_Lake,_Manitoba\" target=\"_blank\" rel=\"noopener noreferrer\">lakes</a>.██████████████████████████████████████████████▎   | 1476/1500 [13:03<00:12,  1.97row/s]\n",
      "WARNING:root:Closing tag without opening in sentence 0: Arthur Kisenyi (born 1990) is a Ugandan <a href=\"https://en.wikipedia.org/wiki/Arthur_Kisenyi\" target=\"_blank\" rel=\"noopener noreferrer\">politician</a>.██████████████████████████████████████▍  | 1483/1500 [13:07<00:09,  1.80row/s]\n",
      "Processing rows: 100%|███████████████████████████████████████████████████████████████████████████████████████████████████████████████████████████████████████████████████████████████████████████████████████████████████████████████████████████████████| 1500/1500 [13:16<00:00,  1.88row/s]\n"
     ]
    },
    {
     "name": "stdout",
     "output_type": "stream",
     "text": [
      "Finished processing rows. Saved to Responses/wiki_Falcon_clean_none_DeepSeek-R1-Distill-Qwen-7B.csv.\n",
      "Processing dataset: src/wiki_dataset_clean.csv, author: R1_clean, with LM: deepseek-ai/DeepSeek-R1-Distill-Qwen-7B\n"
     ]
    },
    {
     "data": {
      "application/vnd.jupyter.widget-view+json": {
       "model_id": "72988b11b3914ad19c94ecf52ef792aa",
       "version_major": 2,
       "version_minor": 0
      },
      "text/plain": [
       "Loading checkpoint shards:   0%|          | 0/2 [00:00<?, ?it/s]"
      ]
     },
     "metadata": {},
     "output_type": "display_data"
    },
    {
     "name": "stderr",
     "output_type": "stream",
     "text": [
      "Processing rows: 100%|███████████████████████████████████████████████████████████████████████████████████████████████████████████████████████████████████████████████████████████████████████████████████████████████████████████████████████████████████| 1500/1500 [11:33<00:00,  2.16row/s]\n"
     ]
    },
    {
     "name": "stdout",
     "output_type": "stream",
     "text": [
      "Finished processing rows. Saved to Responses/wiki_R1_clean_none_DeepSeek-R1-Distill-Qwen-7B.csv.\n",
      "Processing dataset: src/news_dataset_clean.csv, author: human_text, with LM: deepseek-ai/DeepSeek-R1-Distill-Qwen-7B\n"
     ]
    },
    {
     "data": {
      "application/vnd.jupyter.widget-view+json": {
       "model_id": "de0797b2025741bd8b7a653bfd32f81e",
       "version_major": 2,
       "version_minor": 0
      },
      "text/plain": [
       "Loading checkpoint shards:   0%|          | 0/2 [00:00<?, ?it/s]"
      ]
     },
     "metadata": {},
     "output_type": "display_data"
    },
    {
     "name": "stderr",
     "output_type": "stream",
     "text": [
      "Processing rows: 100%|███████████████████████████████████████████████████████████████████████████████████████████████████████████████████████████████████████████████████████████████████████████████████████████████████████████████████████████████████| 1500/1500 [33:32<00:00,  1.34s/row]\n"
     ]
    },
    {
     "name": "stdout",
     "output_type": "stream",
     "text": [
      "Finished processing rows. Saved to Responses/news_human_text_none_DeepSeek-R1-Distill-Qwen-7B.csv.\n",
      "Processing dataset: src/news_dataset_clean.csv, author: gpt, with LM: deepseek-ai/DeepSeek-R1-Distill-Qwen-7B\n"
     ]
    },
    {
     "data": {
      "application/vnd.jupyter.widget-view+json": {
       "model_id": "9d63d7c157834bfb9d98445e1d8a299a",
       "version_major": 2,
       "version_minor": 0
      },
      "text/plain": [
       "Loading checkpoint shards:   0%|          | 0/2 [00:00<?, ?it/s]"
      ]
     },
     "metadata": {},
     "output_type": "display_data"
    },
    {
     "name": "stderr",
     "output_type": "stream",
     "text": [
      "Processing rows: 100%|███████████████████████████████████████████████████████████████████████████████████████████████████████████████████████████████████████████████████████████████████████████████████████████████████████████████████████████████████| 1500/1500 [27:09<00:00,  1.09s/row]\n"
     ]
    },
    {
     "name": "stdout",
     "output_type": "stream",
     "text": [
      "Finished processing rows. Saved to Responses/news_gpt_none_DeepSeek-R1-Distill-Qwen-7B.csv.\n",
      "Processing dataset: src/news_dataset_clean.csv, author: Llama3.1_clean, with LM: deepseek-ai/DeepSeek-R1-Distill-Qwen-7B\n"
     ]
    },
    {
     "data": {
      "application/vnd.jupyter.widget-view+json": {
       "model_id": "6f22f500a0eb4f87b9c7f97e050e9821",
       "version_major": 2,
       "version_minor": 0
      },
      "text/plain": [
       "Loading checkpoint shards:   0%|          | 0/2 [00:00<?, ?it/s]"
      ]
     },
     "metadata": {},
     "output_type": "display_data"
    },
    {
     "name": "stderr",
     "output_type": "stream",
     "text": [
      "Processing rows: 100%|███████████████████████████████████████████████████████████████████████████████████████████████████████████████████████████████████████████████████████████████████████████████████████████████████████████████████████████████████| 1500/1500 [40:07<00:00,  1.60s/row]\n"
     ]
    },
    {
     "name": "stdout",
     "output_type": "stream",
     "text": [
      "Finished processing rows. Saved to Responses/news_Llama3.1_clean_none_DeepSeek-R1-Distill-Qwen-7B.csv.\n",
      "Processing dataset: src/news_dataset_clean.csv, author: Falcon_clean, with LM: deepseek-ai/DeepSeek-R1-Distill-Qwen-7B\n"
     ]
    },
    {
     "data": {
      "application/vnd.jupyter.widget-view+json": {
       "model_id": "c0c4a0a802ca4f368109eb0e3dd450b2",
       "version_major": 2,
       "version_minor": 0
      },
      "text/plain": [
       "Loading checkpoint shards:   0%|          | 0/2 [00:00<?, ?it/s]"
      ]
     },
     "metadata": {},
     "output_type": "display_data"
    },
    {
     "name": "stderr",
     "output_type": "stream",
     "text": [
      "WARNING:root:Opening tag without closing in sentence 13: The decision to include golf in the <b><i>2016</i></b>.                                                                                                                                           | 61/1500 [00:50<19:39,  1.22row/s]\n",
      "WARNING:root:Opening tag without closing in sentence 21: IGF President Peter Dawson said: <b>\"The IGF is delighted that golf has been reinstated to the Olympic programme.\n",
      "WARNING:root:Opening tag without closing in sentence 2: The sex hormone helps <i>stop blood cells</i>.                                                                                                                                                     | 86/1500 [01:12<15:51,  1.49row/s]\n",
      "WARNING:root:Opening tag without closing in sentence 3: sticking to <b><i>artery walls</i></b>.\n",
      "WARNING:root:Opening tag without closing in sentence 4: and forming <i><b>blockages</b></i>.\n",
      "WARNING:root:Opening tag without closing in sentence 5: <b>One in five</b>.\n",
      "WARNING:root:Opening tag without closing in sentence 6: men in Britain <u>die from a heart</u>.\n",
      "WARNING:root:Opening tag without closing in sentence 7: attack compared to <u><b>just one in seven</b></u>.\n",
      "WARNING:root:Closing tag without opening in sentence 0: A former top Justice Department official in Arizona leaked an internal memo from a federal <a href=\"https://www.foxnews.com/politics/2021/02/24/federal-agent-who-wrote-memo-on-botched-gun-running-operation-says-he-was-intended-to-undermine-credibility-of-federal-prosecutor-in-arizona-at-the-time/\" target=\"_blank\" rel=\"noopener noreferrer\" data-wpel-link=\"external\"></a>.\n",
      "WARNING:root:Closing tag without opening in sentence 0: Former Chelsea and Arsenal left back Ashley Cole took some time off from playing for <a href=\"http://www.roma.it/\">Roma</a>.                                                                      | 364/1500 [05:14<16:45,  1.13row/s]\n",
      "WARNING:root:Closing tag without opening in sentence 0: Manchester City have finally welcomed top-scorer Sergio Aguero back to training as they look to <a href=\"http://www.bbc.co.uk/sport/football/england/manchester-city/\">prepare for their trip to Everton</a>.[05:47<18:27,  1.01s/row]\n",
      "WARNING:root:Closing tag without opening in sentence 0: James Der Derian, Director of the Centre for International Security Studies at the University of <a href=\"https://www.usyd.edu.au/\">University of Sydney</a>, said the website would 'alert people to the dark side of the internet'.]\n",
      "WARNING:root:Closing tag without opening in sentence 0: Many Americans hate Christmas shopping so much, they'd literally rather have a run-in with the <a href=\"https://en.wikipedia.org/wiki/Root_canal\" target=\"_blank\" rel=\"noopener noreferrer\">root canal</a>.0 [06:00<07:53,  2.28row/s]\n",
      "WARNING:root:Closing tag without opening in sentence 0: It's the sort of far-fetched accident you would expect to see in a Tom and <a href=\"https://en.wikipedia.org/wiki/The_Hunchback_of_Notre_Dame\" target=\"_blank\" rel=\"noopener\">Hunchback of Notre Dame</a>.00 [07:56<09:46,  1.61row/s]\n",
      "WARNING:root:Opening tag without closing in sentence 3: <b>They</b>. did not appear at a court hearing in Milan today to defend the claims.                                                                                                               | 582/1500 [08:17<09:32,  1.60row/s]\n",
      "WARNING:root:Opening tag without closing in sentence 4: One of many high profile cases as the Italian government stamps down on <i>tax</i>.\n",
      "WARNING:root:Opening tag without closing in sentence 6: <br><br>. <\n",
      "WARNING:root:Opening tag without closing in sentence 7: b><i>Source:</i></b>.\n",
      "WARNING:root:Closing tag without opening in sentence 0: A Texas teenager has been in jail since February after making an offhand comment on <a href=\"http://www.abcnews.go.com/Technology/sandy-hook-school-shooter-joke-texas-teen-jailed/story?id=16959889\">a video game</a>.43,  1.02row/s]\n",
      "WARNING:root:Closing tag without opening in sentence 1: There are few sports that are so dominated by a single person like <a href=\"http://en.wikipedia.org/wiki/Pole_vault\" target=\"_blank\">pole vault</a>.                                              | 602/1500 [08:34<11:49,  1.27row/s]\n",
      "WARNING:root:Closing tag without opening in sentence 2: is by Yelena <span class=\"caps\">ISINBAYEVA</span>.\n",
      "WARNING:root:Opening tag without closing in sentence 1: According to the Tobacco in Australia website, there is <i>no clear evidence</i>.                                                                                                                 | 616/1500 [08:44<08:29,  1.74row/s]\n",
      "WARNING:root:Opening tag without closing in sentence 6: <b>Hypnotherapy</b>.\n",
      "WARNING:root:Closing tag without opening in sentence 0: Sergio Ramos has tried to diffuse a brewing club vs country battle between Chelsea and <span class=\"highlighted\">Spain</span>.                                                                    | 801/1500 [11:15<07:51,  1.48row/s]\n",
      "WARNING:root:Opening tag without closing in sentence 5: <b>Lyst</b>.████████████████████████████████████████████████████████████████████████████▊                                                                                                         | 808/1500 [11:21<08:21,  1.38row/s]\n",
      "WARNING:root:Opening tag without closing in sentence 4: <b>Background</b>.███████████████████████████████████████████████████████████████████████████████████████████████████▏                                                                            | 995/1500 [14:14<05:46,  1.46row/s]\n",
      "WARNING:root:Closing tag without opening in sentence 1: Real Madrid took a giant stride towards the knockout stage of the Champions <span class=\"highlighted\">League</span>.█████▍                                                                       | 1027/1500 [14:43<04:06,  1.92row/s]\n",
      "WARNING:root:Closing tag without opening in sentence 1: Research In Motion is preparing to release its much-awaited response to the iPad, <a href=\"http://www.wired.com/gadgetlab/2011/03/research-in-motion-blackberry-playbook.html\">BlackBerry PlayBook</a>, on April 19.04:20,  1.66row/s]\n",
      "WARNING:root:Opening tag without closing in sentence 2: after beating <i>Siena </i>1-0 on Sunday.████████████████████████████████████████████████████████████████████████████████████████████▌                                                           | 1107/1500 [15:51<06:04,  1.08row/s]\n",
      "WARNING:root:Opening tag without closing in sentence 3: Diego Milito scored the only goal of the game as Inter added the <b><i>Scudetto </i></b>to their <i><b>Italian Cup </b></i>triumph.\n",
      "WARNING:root:Opening tag without closing in sentence 4: Roma finished two points <b></b>behind in second <i></i>position after a <b style=\"font-style: italic;\">2-0 </b>victory at <i style=\"color: rgb(255, 0, 0);\">Chievo</i>.\n",
      "WARNING:root:Opening tag without closing in sentence 5: <b>.\n",
      "WARNING:root:Opening tag without closing in sentence 1: <i>Michal Hernik</i>. was found dead on Tuesday, organizers said.██████████████████████████████████████████████████████████████████████████████████████████████████▊                             | 1307/1500 [18:46<03:13,  1.00s/row]\n",
      "WARNING:root:Closing tag without opening in sentence 6: competitor <a data-saferedirecturl=\"\" href=\"https://en.wikipedia.org/wiki/Michal_Hernik\" rel=\"nofollow noopener\" title=\"Wikipedia - Michal Hernandez\">Michal Hernandez</a>, who was found dead in his hotel room on January 9.\n",
      "WARNING:root:Closing tag without opening in sentence 2: Ugg's <a href=\"http://www.telegraph.co.uk/fashion/2012/12/12/style-icon-slammed-new-design-of-boots-in-twitter-conversation-with-friend-lauren-laverne/\" target=\"_blank\">£185 sequin covered boots</a>. are also available <a target=\"_blank\" href=\"https://twitter.com/laurenlaverne\">in red, blue, and gold</a>.\n",
      "WARNING:root:Closing tag without opening in sentence 0: Lord Coe revealed his manifesto for the presidency of athletics’ world governing body — the <a href=\"http://www.bbc.co.uk/sport/athletics\">International Association of Athletics Federations</a>. 1469/1500 [21:17<00:33,  1.09s/row]\n",
      "Processing rows: 100%|███████████████████████████████████████████████████████████████████████████████████████████████████████████████████████████████████████████████████████████████████████████████████████████████████████████████████████████████████| 1500/1500 [21:51<00:00,  1.14row/s]\n"
     ]
    },
    {
     "name": "stdout",
     "output_type": "stream",
     "text": [
      "Finished processing rows. Saved to Responses/news_Falcon_clean_none_DeepSeek-R1-Distill-Qwen-7B.csv.\n",
      "Processing dataset: src/news_dataset_clean.csv, author: R1_clean, with LM: deepseek-ai/DeepSeek-R1-Distill-Qwen-7B\n"
     ]
    },
    {
     "data": {
      "application/vnd.jupyter.widget-view+json": {
       "model_id": "3418e77431bd44b0a83b16f37af8f8c7",
       "version_major": 2,
       "version_minor": 0
      },
      "text/plain": [
       "Loading checkpoint shards:   0%|          | 0/2 [00:00<?, ?it/s]"
      ]
     },
     "metadata": {},
     "output_type": "display_data"
    },
    {
     "name": "stderr",
     "output_type": "stream",
     "text": [
      "Processing rows: 100%|███████████████████████████████████████████████████████████████████████████████████████████████████████████████████████████████████████████████████████████████████████████████████████████████████████████████████████████████████| 1500/1500 [29:32<00:00,  1.18s/row]\n"
     ]
    },
    {
     "name": "stdout",
     "output_type": "stream",
     "text": [
      "Finished processing rows. Saved to Responses/news_R1_clean_none_DeepSeek-R1-Distill-Qwen-7B.csv.\n",
      "Processing dataset: src/abstracts_dataset_clean.csv, author: human_text, with LM: deepseek-ai/DeepSeek-R1-Distill-Qwen-7B\n"
     ]
    },
    {
     "data": {
      "application/vnd.jupyter.widget-view+json": {
       "model_id": "25b37c3cdb0f4c7c9f32e7b7c15a7395",
       "version_major": 2,
       "version_minor": 0
      },
      "text/plain": [
       "Loading checkpoint shards:   0%|          | 0/2 [00:00<?, ?it/s]"
      ]
     },
     "metadata": {},
     "output_type": "display_data"
    },
    {
     "name": "stderr",
     "output_type": "stream",
     "text": [
      "WARNING:root:Opening tag without closing in sentence 5: 0.1\\unicode{xC5}$ by <z>=4.77 and/or that they are associated with galaxies with luminosities beyond the limits of the current luminosity function at z $\\sim$5.                                  | 454/1500 [07:48<16:37,  1.05row/s]\n",
      "WARNING:root:Opening tag without closing in sentence 7: If they continue to only be associated with galaxies with $L\\ge0.50L_{\\ast}$ then their physical cross section ($\\sigma_{phys}$) increases from 0.015 Mpc$^2$ at z=2.3 to 0.041 Mpc$^2$ at <z>=4.77.\n",
      "WARNING:root:Opening tag without closing in sentence 8: We measure $\\Omega_{MgII}$=2.1$^{+6.3}_{-0.6}\\times10^{-8}$, 1.9$^{+2.9}_{-0.2}\\times10^{-8}$, 3.9$^{+7.1}_{-2.4}\\times10^{-7}$ at <z>=2.48, 3.41, 4.77, respectively.\n",
      "WARNING:root:Opening tag without closing in sentence 9: At <z>=4.77, $\\Omega_{MgII}$ exceeds the value expected from $\\Omega_{HI}$ estimated from the global metallicity of DLAs at z $\\simeq$4.85 by a factor of $\\sim$44 suggesting that either MgII absorbers trace both ionised and neutral gas and/or are more metal rich than the average DLA at this redshift.\n",
      "WARNING:root:Opening tag without closing in sentence 6: The exotic ones are a kind of new phenomenon in the $0-$cloud (i.e., $<0>$): exotic Ramanujan coefficients represent $0$ only with a convergence hypothesis.                                      | 490/1500 [08:22<16:26,  1.02row/s]\n",
      "WARNING:root:Opening tag without closing in sentence 7: The not exotic, apart from the convergence hypothesis, require in addition $\\sum_{q=1}^{\\infty}G(q)\\mu(q)=0$ for normal $G\\in <0>$, while sporadic $G\\in <0>$ need $\\sum_{(q,P(G))=1}G(q)\\mu(q)=0$, $P(G):=$product of all $p$ making $G(p)=1$. We give many examples of R.c.s $G\\in <0>$; we also prove that the only $G\\in <0>$ with absolute convergence are the exotic ones; actually, these generalize to the weakly exotic, not necessarily multiplicative.\n",
      "WARNING:root:Opening tag without closing in sentence 11: The rms scatter in r<I>^{0.76} is less than 3%, regardless of the form of the profile fit to the galaxies.                                                                                       | 625/1500 [10:28<13:45,  1.06row/s]\n",
      "WARNING:root:Opening tag without closing in sentence 6: Another sparse cluster, designated Turner 13, surrounds the newly-recognized 2.59d Cepheid V620 Pup, of space reddening E(B-V)=0.64+-0.02 (E(B-V)(B0)=0.68+-0.02), distance 2.88+-0.11 kpc (Vo-Mv=12.30+-0.08 s.e.), evolutionary age 10^8 yr, and an inferred luminosity as a likely cluster member of <Mv>=-2.74+-0.11.\n",
      "WARNING:root:Opening tag without closing in sentence 6: The redshifts of SGRBs apparently cluster at lower redshift than those of LGRBs ($<z>\\sim 2.2 $), which supports the merger scenario of SGRBs.                                                    | 842/1500 [13:48<10:23,  1.06row/s]\n",
      "WARNING:root:Opening tag without closing in sentence 6: Using a suite of simulations with Mach numbers ranging from M = 0.9 to 6.2, we provide accurate fits to n and tau_con as a function of M, Z_c/<Z>, and the scale, L_p, at which pollutants are added to the flow.42<01:56,  1.15row/s]\n",
      "Processing rows: 100%|███████████████████████████████████████████████████████████████████████████████████████████████████████████████████████████████████████████████████████████████████████████████████████████████████████████████████████████████████| 1500/1500 [23:40<00:00,  1.06row/s]\n"
     ]
    },
    {
     "name": "stdout",
     "output_type": "stream",
     "text": [
      "Finished processing rows. Saved to Responses/abstracts_human_text_none_DeepSeek-R1-Distill-Qwen-7B.csv.\n",
      "Processing dataset: src/abstracts_dataset_clean.csv, author: gpt, with LM: deepseek-ai/DeepSeek-R1-Distill-Qwen-7B\n"
     ]
    },
    {
     "data": {
      "application/vnd.jupyter.widget-view+json": {
       "model_id": "07b7115b59c74cd7b66737df4375097b",
       "version_major": 2,
       "version_minor": 0
      },
      "text/plain": [
       "Loading checkpoint shards:   0%|          | 0/2 [00:00<?, ?it/s]"
      ]
     },
     "metadata": {},
     "output_type": "display_data"
    },
    {
     "name": "stderr",
     "output_type": "stream",
     "text": [
      "WARNING:root:Opening tag without closing in sentence 4: ∼ 2 × 10<sup>11</sup>.███████████████████████████████████████████████████████████████████████████████████████████████████████████▉                                                               | 1083/1500 [14:30<05:33,  1.25row/s]\n",
      "WARNING:root:Opening tag without closing in sentence 5: L<sub>☉</sub>, suggesting a star-formation rate (SFR) of ∼45 M<sub>☉</sub>.\n",
      "WARNING:root:Opening tag without closing in sentence 6: yr<sup>-1</sup>.\n",
      "Processing rows: 100%|███████████████████████████████████████████████████████████████████████████████████████████████████████████████████████████████████████████████████████████████████████████████████████████████████████████████████████████████████| 1500/1500 [20:01<00:00,  1.25row/s]\n"
     ]
    },
    {
     "name": "stdout",
     "output_type": "stream",
     "text": [
      "Finished processing rows. Saved to Responses/abstracts_gpt_none_DeepSeek-R1-Distill-Qwen-7B.csv.\n",
      "Processing dataset: src/abstracts_dataset_clean.csv, author: Llama3.1_clean, with LM: deepseek-ai/DeepSeek-R1-Distill-Qwen-7B\n"
     ]
    },
    {
     "data": {
      "application/vnd.jupyter.widget-view+json": {
       "model_id": "b8cdb8a03a7e4e7f99427d710bba3b64",
       "version_major": 2,
       "version_minor": 0
      },
      "text/plain": [
       "Loading checkpoint shards:   0%|          | 0/2 [00:00<?, ?it/s]"
      ]
     },
     "metadata": {},
     "output_type": "display_data"
    },
    {
     "name": "stderr",
     "output_type": "stream",
     "text": [
      "WARNING:root:Opening tag without closing in sentence 1: The HFC for <S>.                                                                                                                                                                                   | 34/1500 [00:39<27:46,  1.14s/row]\n",
      "WARNING:root:Opening tag without closing in sentence 2: allows us to define a holomorphic function f on a neighborhood of the spectrum of <S>, denoted by σ(<S>), such that f(<S>) is a bounded linear operator on X.\n",
      "WARNING:root:Opening tag without closing in sentence 7: This homomorphism, denoted by φ, is used to extend the HFC from A to the semigroup <S>.\n",
      "WARNING:root:Opening tag without closing in sentence 8: The main result of this paper is the following theorem: Let f be a holomorphic function on a neighborhood of σ(<S>).\n",
      "WARNING:root:Opening tag without closing in sentence 9: Then there exists a unique bounded linear operator f(<S>) on X such that f(T_i) = φ(f)(T_i) for all i = 1, 2,..., n. Moreover, f(<S>) satisfies the following properties: (i) f(<S>) = f(T_1)f(T_2)...f(T_n), (ii) ||f(<S>)|| ≤ sup{|f(z)| : z ∈ σ(<S>)}, and (iii) if f is invertible, then f(<S>)^(-1)\n",
      "WARNING:root:Opening tag without closing in sentence 10: = f^(-1)(<S>).\n",
      "WARNING:root:Opening tag without closing in sentence 11: The proof of this theorem relies on a careful analysis of the properties of the homomorphism φ and the behavior of holomorphic functions on neighborhoods of σ(<S>).\n",
      "Processing rows: 100%|███████████████████████████████████████████████████████████████████████████████████████████████████████████████████████████████████████████████████████████████████████████████████████████████████████████████████████████████████| 1500/1500 [27:31<00:00,  1.10s/row]\n"
     ]
    },
    {
     "name": "stdout",
     "output_type": "stream",
     "text": [
      "Finished processing rows. Saved to Responses/abstracts_Llama3.1_clean_none_DeepSeek-R1-Distill-Qwen-7B.csv.\n",
      "Processing dataset: src/abstracts_dataset_clean.csv, author: Falcon_clean, with LM: deepseek-ai/DeepSeek-R1-Distill-Qwen-7B\n"
     ]
    },
    {
     "data": {
      "application/vnd.jupyter.widget-view+json": {
       "model_id": "f9591a7365194a09a9b59ad2b4f2c1f5",
       "version_major": 2,
       "version_minor": 0
      },
      "text/plain": [
       "Loading checkpoint shards:   0%|          | 0/2 [00:00<?, ?it/s]"
      ]
     },
     "metadata": {},
     "output_type": "display_data"
    },
    {
     "name": "stderr",
     "output_type": "stream",
     "text": [
      "WARNING:root:Opening tag without closing in sentence 1: <br><br>.                                                                                                                                                                                          | 17/1500 [00:08<09:08,  2.70row/s]\n",
      "WARNING:root:Opening tag without closing in sentence 2: The story begins with a simple question: \"What is a monad?\"<br>\n",
      "WARNING:root:Closing tag without opening in sentence 0: MOSARIX is a collaborative project between three research group in Sorbonne University to build a <a href=\"https://en.wikipedia.org/wiki/Magnetic_resonance_spectroscopy\" target=\"_blank\">Magnetic Resonance Spectroscopy</a>.49row/s]\n",
      "WARNING:root:Opening tag without closing in sentence 2: We show that the L/T-transition brown dwarf is <b>not</b>.                                                                                                                                        | 419/1500 [02:53<09:02,  1.99row/s]\n",
      "WARNING:root:Opening tag without closing in sentence 4: The L/T brown dwarf has a mass of <b><i>M</i><sub>L</sub></b>.\n",
      "WARNING:root:Opening tag without closing in sentence 5: = <i><b>M</b><sub>T</sub></i>.\n",
      "WARNING:root:Opening tag without closing in sentence 6: <b>=</b>. 1.0 ± 0.1 M<sub>⊙</sub>.\n",
      "WARNING:root:Opening tag without closing in sentence 7: and a radius of 1.5 R<sub>J</sub>.\n",
      "WARNING:root:Opening tag without closing in sentence 8: ≈ 1.1 R<sub><i>J</i></sub>.\n",
      "WARNING:root:Opening tag without closing in sentence 9: (where R<sup>J</sup>.\n",
      "WARNING:root:Opening tag without closing in sentence 11: The brown dwarf has an effective temperature of T<sub>eff</sub>. <\n",
      "WARNING:root:Opening tag without closing in sentence 14: L<sub><sub><i><i>T</i></i></sub><sub></sub>.\n",
      "WARNING:root:Opening tag without closing in sentence 15: K<sub>s</sub>.\n",
      "WARNING:root:Opening tag without closing in sentence 16: cm<sup>−2</sup>.\n",
      "WARNING:root:Opening tag without closing in sentence 17: s<sub>−1</sub>.\n",
      "WARNING:root:Closing tag without opening in sentence 1: Recently, <a href=\"https://doi.org/10.1016/j.jsp.2019.01.001\">[1]</a>. has shown that IwQNs have a very interesting property, namely, that they are <i>weak</i>.                                  | 500/1500 [03:21<05:57,  2.80row/s]\n",
      "WARNING:root:Opening tag without closing in sentence 4: In this paper, we show that this property can be extended to <i>\"ideal\"</i>.\n",
      "WARNING:root:Opening tag without closing in sentence 5: weak QNs (IwQNs), which are QNs that are not only weakly connected, but also have the property that any two points in the QN can be connected by a path of length at most <code>k</code>.\n",
      "WARNING:root:Opening tag without closing in sentence 6: (for some <em>k</em>. &gt; 1).\n",
      "WARNING:root:Opening tag without closing in sentence 8: <br>.\n",
      "WARNING:root:Opening tag without closing in sentence 11: <h2>.\n",
      "WARNING:root:Opening tag without closing in sentence 14: <li>[1] <a class=\"external text\" href=\"javascript:void(0);\" rel=\"nofollow\" title=\"http://www.sciencedirect.com/science/article/pii/S0924-2249(19)30002-7\">\n",
      "WARNING:root:Closing tag without opening in sentence 7: </pre>█████████████████████████████████████████▍                                                                                                                                                  | 536/1500 [03:36<07:57,  2.02row/s]\n",
      "WARNING:root:Opening tag without closing in sentence 3: <br><br>.██████████████████████████████████████████████████████████████████████████████████████▊                                                                                                  | 854/1500 [05:49<04:28,  2.40row/s]\n",
      "WARNING:root:Opening tag without closing in sentence 5: <h2>███████████████████████████████████████████████████████████████████████████████████████████████████████▎                                                                                      | 930/1500 [06:24<05:11,  1.83row/s]\n",
      "WARNING:root:Opening tag without closing in sentence 2: <br><br>.█████████████████████████████████████████████████████████████████████████████████████████████████████████████████████████████████████████▊                                              | 1195/1500 [08:27<02:39,  1.91row/s]\n",
      "WARNING:root:Opening tag without closing in sentence 4: <br></br>.\n",
      "WARNING:root:Opening tag without closing in sentence 5: We used LBT's Near-Infrared Camera and Multi-Object Spectrograph (NICMOS) to image the galaxy in the near-infrared (0.9-2.5 $\\mu$m) and spectrally resolved it in the mid-IR (2.5-5.0 $\\mu m$).<br>.\n",
      "WARNING:root:Opening tag without closing in sentence 1: (<i>NGC 4486</i>).██████████████████████████████████████████████████████████████████████████████████████████████████████████████████████████████████████▉                                        | 1235/1500 [08:43<02:19,  1.91row/s]\n",
      "WARNING:root:Closing tag without opening in sentence 3: (<a href=\"http://www.hst.gsfc.nasa.gov/\">HST</a>) in the <b>F658N</b>.\n",
      "WARNING:root:Opening tag without closing in sentence 5: emission-line filter, and <i><b>H</b></i><sub><i>beta</i></sub>.\n",
      "WARNING:root:Opening tag without closing in sentence 6: <b>(</b>H<sub>beta</sub><i><b></b></i></sub><b>)</b>.\n",
      "WARNING:root:Opening tag without closing in sentence 8: We also observed the nebulae with <i></i><b><i></i></b><i><sub></sub></i><i><sup></sup></i>emission-line filters (<i></i>[O<sub>III</sub>], [N<sub>II</sub>] and [S<sub>IV</sub>]), and <b></b><b><b>[O</b></b>[<b>III</b\n",
      "WARNING:root:Opening tag without closing in sentence 1: HD <sup>92945</sup>.███████████████████████████████████████████████████████████████████████████████████████████████████████████████████████████████████████████████████████▌                     | 1358/1500 [09:42<01:14,  1.90row/s]\n",
      "WARNING:root:Opening tag without closing in sentence 2: using the Hubble Space Telescope (HST) <i>Spitzer</i>.\n",
      "WARNING:root:Opening tag without closing in sentence 3: Infrared Spectrograph (<i>IRS</i>) and the Spitzer Infrared Array Camera (IRAC).\n",
      "WARNING:root:Opening tag without closing in sentence 4: <br><br>.\n",
      "WARNING:root:Opening tag without closing in sentence 5: We find that the debris disk has a radius of 0.6 <i><sub>R</sub></i>.\n",
      "WARNING:root:Opening tag without closing in sentence 6: <sub><i>d</i></sub>.\n",
      "WARNING:root:Opening tag without closing in sentence 7: and a mass-to-flux ratio of 1.5 <i>/</i>.\n",
      "WARNING:root:Opening tag without closing in sentence 8: 10<sup>-4</sup>.\n",
      "WARNING:root:Opening tag without closing in sentence 9: M<sub>☉</sub>.\n",
      "WARNING:root:Opening tag without closing in sentence 10: <sup><sub>-1</sub></sup>.\n",
      "WARNING:root:Opening tag without closing in sentence 11: <br>.\n",
      "WARNING:root:Opening tag without closing in sentence 12: <br>.<br><br>.\n",
      "Processing rows: 100%|███████████████████████████████████████████████████████████████████████████████████████████████████████████████████████████████████████████████████████████████████████████████████████████████████████████████████████████████████| 1500/1500 [10:46<00:00,  2.32row/s]\n"
     ]
    },
    {
     "name": "stdout",
     "output_type": "stream",
     "text": [
      "Finished processing rows. Saved to Responses/abstracts_Falcon_clean_none_DeepSeek-R1-Distill-Qwen-7B.csv.\n",
      "Processing dataset: src/abstracts_dataset_clean.csv, author: R1_clean, with LM: deepseek-ai/DeepSeek-R1-Distill-Qwen-7B\n"
     ]
    },
    {
     "data": {
      "application/vnd.jupyter.widget-view+json": {
       "model_id": "fddfd0e15d5c49e581bcf6da0073fbc7",
       "version_major": 2,
       "version_minor": 0
      },
      "text/plain": [
       "Loading checkpoint shards:   0%|          | 0/2 [00:00<?, ?it/s]"
      ]
     },
     "metadata": {},
     "output_type": "display_data"
    },
    {
     "name": "stderr",
     "output_type": "stream",
     "text": [
      "Processing rows: 100%|███████████████████████████████████████████████████████████████████████████████████████████████████████████████████████████████████████████████████████████████████████████████████████████████████████████████████████████████████| 1500/1500 [14:42<00:00,  1.70row/s]"
     ]
    },
    {
     "name": "stdout",
     "output_type": "stream",
     "text": [
      "Finished processing rows. Saved to Responses/abstracts_R1_clean_none_DeepSeek-R1-Distill-Qwen-7B.csv.\n"
     ]
    },
    {
     "name": "stderr",
     "output_type": "stream",
     "text": [
      "\n"
     ]
    }
   ],
   "source": [
    "model_names = ['meta-llama/Meta-Llama-3.1-8B-Instruct', 'microsoft/phi-2', 'tiiuae/falcon-7b', 'deepseek-ai/DeepSeek-R1-Distill-Qwen-7B']\n",
    "datasets = [\"src/wiki_dataset_clean.csv\",\"src/news_dataset_clean.csv\",\"src/abstracts_dataset_clean.csv\"]\n",
    "authors = [\"human_text\", \"gpt\", \"Llama3.1_clean\", \"Falcon_clean\", \"R1_clean\"]\n",
    "target_rows=1500\n",
    "\n",
    "for model_n in model_names:\n",
    "    for dataset in datasets:\n",
    "        for author in authors:\n",
    "            print(f\"Processing dataset: {dataset}, author: {author}, with LM: {model_n}\")\n",
    "            generate_responses(\n",
    "                input_path=dataset,\n",
    "                model_name=model_n,\n",
    "                context_policy=\"none\",\n",
    "                author=author,\n",
    "                target_rows=target_rows\n",
    "            )"
   ]
  }
 ],
 "metadata": {
  "kernelspec": {
   "display_name": "Python 3 (ipykernel)",
   "language": "python",
   "name": "python3"
  },
  "language_info": {
   "codemirror_mode": {
    "name": "ipython",
    "version": 3
   },
   "file_extension": ".py",
   "mimetype": "text/x-python",
   "name": "python",
   "nbconvert_exporter": "python",
   "pygments_lexer": "ipython3",
   "version": "3.12.3"
  }
 },
 "nbformat": 4,
 "nbformat_minor": 4
}
